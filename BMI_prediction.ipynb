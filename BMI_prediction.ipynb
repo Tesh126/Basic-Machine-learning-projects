{
  "nbformat": 4,
  "nbformat_minor": 0,
  "metadata": {
    "colab": {
      "provenance": []
    },
    "kernelspec": {
      "name": "python3",
      "display_name": "Python 3"
    },
    "language_info": {
      "name": "python"
    }
  },
  
    {
      "cell_type": "markdown",
      "source": [
        "**Data Exploration and Preprocessing**"
      ],
      "metadata": {
        "id": "RAoh4V4lqWhX"
      }
    },
    {
      "cell_type": "code",
      "execution_count": null,
      "metadata": {
        "colab": {
          "base_uri": "https://localhost:8080/"
        },
        "id": "graSzluHs81a",
        "outputId": "b838ea54-cd27-4b8b-85ee-9cc92193737e"
      },
      "outputs": [
        {
          "output_type": "stream",
          "name": "stdout",
          "text": [
            "Target Variable: BMI\n",
            "Feature Set: ['FAVC', 'FCVC', 'NCP', 'CAEC', 'CH2O', 'CALC', 'SCC', 'FAF', 'TUE', 'MTRANS']\n",
            "  FAVC  FCVC  NCP       CAEC  CH2O        CALC  SCC  FAF  TUE  \\\n",
            "0   no   2.0  3.0  Sometimes   2.0          no   no  0.0  1.0   \n",
            "1   no   3.0  3.0  Sometimes   3.0   Sometimes  yes  3.0  0.0   \n",
            "2   no   2.0  3.0  Sometimes   2.0  Frequently   no  2.0  1.0   \n",
            "3   no   3.0  3.0  Sometimes   2.0  Frequently   no  2.0  0.0   \n",
            "4   no   2.0  1.0  Sometimes   2.0   Sometimes   no  0.0  0.0   \n",
            "\n",
            "                  MTRANS        BMI  \n",
            "0  Public_Transportation  24.386526  \n",
            "1  Public_Transportation  24.238227  \n",
            "2  Public_Transportation  23.765432  \n",
            "3                Walking  26.851852  \n",
            "4  Public_Transportation  28.342381  \n"
          ]
        }
      ],
      "source": [
        "import pandas as pd\n",
        "\n",
        "# Load dataset\n",
        "df = pd.read_csv('Obesity.csv')\n",
        "\n",
        "# Calculate BMI and add as a new column\n",
        "df['BMI'] = df['Weight'] / (df['Height'] ** 2)\n",
        "\n",
        "# Define target variable\n",
        "target = 'BMI'\n",
        "\n",
        "# Define feature set based on eating habits and physical condition attributes\n",
        "features = [\n",
        "    'FAVC', 'FCVC', 'NCP', 'CAEC', 'CH2O', 'CALC',    # Eating habits attributes\n",
        "    'SCC', 'FAF', 'TUE', 'MTRANS'                      # Physical condition attributes\n",
        "]\n",
        "\n",
        "# Display target and feature set\n",
        "print(\"Target Variable:\", target)\n",
        "print(\"Feature Set:\", features)\n",
        "\n",
        "# Verify the data\n",
        "print(df[features + [target]].head())"
      ]
    },
    {
      "cell_type": "markdown",
      "source": [
        "As the first step target variable is calculated(BMI) and feature variables are created. Next step would be Data Exploration and Preprocessing."
      ],
      "metadata": {
        "id": "_51Ze3GTtSKl"
      }
    },
    {
      "cell_type": "code",
      "source": [
        "# Display basic information about the dataset\n",
        "df.info()"
      ],
      "metadata": {
        "colab": {
          "base_uri": "https://localhost:8080/"
        },
        "id": "G1BB2xO2tUVZ",
        "outputId": "08efadc1-be05-4046-bbd4-5758a99c3a8c"
      },
      "execution_count": null,
      "outputs": [
        {
          "output_type": "stream",
          "name": "stdout",
          "text": [
            "<class 'pandas.core.frame.DataFrame'>\n",
            "RangeIndex: 2111 entries, 0 to 2110\n",
            "Data columns (total 18 columns):\n",
            " #   Column                          Non-Null Count  Dtype  \n",
            "---  ------                          --------------  -----  \n",
            " 0   Gender                          2111 non-null   object \n",
            " 1   Age                             2111 non-null   float64\n",
            " 2   Height                          2111 non-null   float64\n",
            " 3   Weight                          2111 non-null   float64\n",
            " 4   family_history_with_overweight  2111 non-null   object \n",
            " 5   FAVC                            2111 non-null   object \n",
            " 6   FCVC                            2111 non-null   float64\n",
            " 7   NCP                             2111 non-null   float64\n",
            " 8   CAEC                            2111 non-null   object \n",
            " 9   SMOKE                           2111 non-null   object \n",
            " 10  CH2O                            2111 non-null   float64\n",
            " 11  SCC                             2111 non-null   object \n",
            " 12  FAF                             2111 non-null   float64\n",
            " 13  TUE                             2111 non-null   float64\n",
            " 14  CALC                            2111 non-null   object \n",
            " 15  MTRANS                          2111 non-null   object \n",
            " 16  NObeyesdad                      2111 non-null   object \n",
            " 17  BMI                             2111 non-null   float64\n",
            "dtypes: float64(9), object(9)\n",
            "memory usage: 297.0+ KB\n"
          ]
        }
      ]
    },
    {
      "cell_type": "code",
      "source": [
        "# Summary statistics for numerical columns\n",
        "df.describe()"
      ],
      "metadata": {
        "colab": {
          "base_uri": "https://localhost:8080/",
          "height": 300
        },
        "id": "Ur34bFsxteoy",
        "outputId": "a56f1651-eb14-4482-c2b9-2d916fc890aa"
      },
      "execution_count": null,
      "outputs": [
        {
          "output_type": "execute_result",
          "data": {
            "text/plain": [
              "               Age       Height       Weight         FCVC          NCP  \\\n",
              "count  2111.000000  2111.000000  2111.000000  2111.000000  2111.000000   \n",
              "mean     24.312600     1.701677    86.586058     2.419043     2.685628   \n",
              "std       6.345968     0.093305    26.191172     0.533927     0.778039   \n",
              "min      14.000000     1.450000    39.000000     1.000000     1.000000   \n",
              "25%      19.947192     1.630000    65.473343     2.000000     2.658738   \n",
              "50%      22.777890     1.700499    83.000000     2.385502     3.000000   \n",
              "75%      26.000000     1.768464   107.430682     3.000000     3.000000   \n",
              "max      61.000000     1.980000   173.000000     3.000000     4.000000   \n",
              "\n",
              "              CH2O          FAF          TUE          BMI  \n",
              "count  2111.000000  2111.000000  2111.000000  2111.000000  \n",
              "mean      2.008011     1.010298     0.657866    29.700159  \n",
              "std       0.612953     0.850592     0.608927     8.011337  \n",
              "min       1.000000     0.000000     0.000000    12.998685  \n",
              "25%       1.584812     0.124505     0.000000    24.325802  \n",
              "50%       2.000000     1.000000     0.625350    28.719089  \n",
              "75%       2.477420     1.666678     1.000000    36.016501  \n",
              "max       3.000000     3.000000     2.000000    50.811753  "
            ],
            "text/html": [
              "\n",
              "  <div id=\"df-252b9898-d316-450b-8176-28a3a3bcc2a5\" class=\"colab-df-container\">\n",
              "    <div>\n",
              "<style scoped>\n",
              "    .dataframe tbody tr th:only-of-type {\n",
              "        vertical-align: middle;\n",
              "    }\n",
              "\n",
              "    .dataframe tbody tr th {\n",
              "        vertical-align: top;\n",
              "    }\n",
              "\n",
              "    .dataframe thead th {\n",
              "        text-align: right;\n",
              "    }\n",
              "</style>\n",
              "<table border=\"1\" class=\"dataframe\">\n",
              "  <thead>\n",
              "    <tr style=\"text-align: right;\">\n",
              "      <th></th>\n",
              "      <th>Age</th>\n",
              "      <th>Height</th>\n",
              "      <th>Weight</th>\n",
              "      <th>FCVC</th>\n",
              "      <th>NCP</th>\n",
              "      <th>CH2O</th>\n",
              "      <th>FAF</th>\n",
              "      <th>TUE</th>\n",
              "      <th>BMI</th>\n",
              "    </tr>\n",
              "  </thead>\n",
              "  <tbody>\n",
              "    <tr>\n",
              "      <th>count</th>\n",
              "      <td>2111.000000</td>\n",
              "      <td>2111.000000</td>\n",
              "      <td>2111.000000</td>\n",
              "      <td>2111.000000</td>\n",
              "      <td>2111.000000</td>\n",
              "      <td>2111.000000</td>\n",
              "      <td>2111.000000</td>\n",
              "      <td>2111.000000</td>\n",
              "      <td>2111.000000</td>\n",
              "    </tr>\n",
              "    <tr>\n",
              "      <th>mean</th>\n",
              "      <td>24.312600</td>\n",
              "      <td>1.701677</td>\n",
              "      <td>86.586058</td>\n",
              "      <td>2.419043</td>\n",
              "      <td>2.685628</td>\n",
              "      <td>2.008011</td>\n",
              "      <td>1.010298</td>\n",
              "      <td>0.657866</td>\n",
              "      <td>29.700159</td>\n",
              "    </tr>\n",
              "    <tr>\n",
              "      <th>std</th>\n",
              "      <td>6.345968</td>\n",
              "      <td>0.093305</td>\n",
              "      <td>26.191172</td>\n",
              "      <td>0.533927</td>\n",
              "      <td>0.778039</td>\n",
              "      <td>0.612953</td>\n",
              "      <td>0.850592</td>\n",
              "      <td>0.608927</td>\n",
              "      <td>8.011337</td>\n",
              "    </tr>\n",
              "    <tr>\n",
              "      <th>min</th>\n",
              "      <td>14.000000</td>\n",
              "      <td>1.450000</td>\n",
              "      <td>39.000000</td>\n",
              "      <td>1.000000</td>\n",
              "      <td>1.000000</td>\n",
              "      <td>1.000000</td>\n",
              "      <td>0.000000</td>\n",
              "      <td>0.000000</td>\n",
              "      <td>12.998685</td>\n",
              "    </tr>\n",
              "    <tr>\n",
              "      <th>25%</th>\n",
              "      <td>19.947192</td>\n",
              "      <td>1.630000</td>\n",
              "      <td>65.473343</td>\n",
              "      <td>2.000000</td>\n",
              "      <td>2.658738</td>\n",
              "      <td>1.584812</td>\n",
              "      <td>0.124505</td>\n",
              "      <td>0.000000</td>\n",
              "      <td>24.325802</td>\n",
              "    </tr>\n",
              "    <tr>\n",
              "      <th>50%</th>\n",
              "      <td>22.777890</td>\n",
              "      <td>1.700499</td>\n",
              "      <td>83.000000</td>\n",
              "      <td>2.385502</td>\n",
              "      <td>3.000000</td>\n",
              "      <td>2.000000</td>\n",
              "      <td>1.000000</td>\n",
              "      <td>0.625350</td>\n",
              "      <td>28.719089</td>\n",
              "    </tr>\n",
              "    <tr>\n",
              "      <th>75%</th>\n",
              "      <td>26.000000</td>\n",
              "      <td>1.768464</td>\n",
              "      <td>107.430682</td>\n",
              "      <td>3.000000</td>\n",
              "      <td>3.000000</td>\n",
              "      <td>2.477420</td>\n",
              "      <td>1.666678</td>\n",
              "      <td>1.000000</td>\n",
              "      <td>36.016501</td>\n",
              "    </tr>\n",
              "    <tr>\n",
              "      <th>max</th>\n",
              "      <td>61.000000</td>\n",
              "      <td>1.980000</td>\n",
              "      <td>173.000000</td>\n",
              "      <td>3.000000</td>\n",
              "      <td>4.000000</td>\n",
              "      <td>3.000000</td>\n",
              "      <td>3.000000</td>\n",
              "      <td>2.000000</td>\n",
              "      <td>50.811753</td>\n",
              "    </tr>\n",
              "  </tbody>\n",
              "</table>\n",
              "</div>\n",
              "    <div class=\"colab-df-buttons\">\n",
              "\n",
              "  <div class=\"colab-df-container\">\n",
              "    <button class=\"colab-df-convert\" onclick=\"convertToInteractive('df-252b9898-d316-450b-8176-28a3a3bcc2a5')\"\n",
              "            title=\"Convert this dataframe to an interactive table.\"\n",
              "            style=\"display:none;\">\n",
              "\n",
              "  <svg xmlns=\"http://www.w3.org/2000/svg\" height=\"24px\" viewBox=\"0 -960 960 960\">\n",
              "    <path d=\"M120-120v-720h720v720H120Zm60-500h600v-160H180v160Zm220 220h160v-160H400v160Zm0 220h160v-160H400v160ZM180-400h160v-160H180v160Zm440 0h160v-160H620v160ZM180-180h160v-160H180v160Zm440 0h160v-160H620v160Z\"/>\n",
              "  </svg>\n",
              "    </button>\n",
              "\n",
              "  <style>\n",
              "    .colab-df-container {\n",
              "      display:flex;\n",
              "      gap: 12px;\n",
              "    }\n",
              "\n",
              "    .colab-df-convert {\n",
              "      background-color: #E8F0FE;\n",
              "      border: none;\n",
              "      border-radius: 50%;\n",
              "      cursor: pointer;\n",
              "      display: none;\n",
              "      fill: #1967D2;\n",
              "      height: 32px;\n",
              "      padding: 0 0 0 0;\n",
              "      width: 32px;\n",
              "    }\n",
              "\n",
              "    .colab-df-convert:hover {\n",
              "      background-color: #E2EBFA;\n",
              "      box-shadow: 0px 1px 2px rgba(60, 64, 67, 0.3), 0px 1px 3px 1px rgba(60, 64, 67, 0.15);\n",
              "      fill: #174EA6;\n",
              "    }\n",
              "\n",
              "    .colab-df-buttons div {\n",
              "      margin-bottom: 4px;\n",
              "    }\n",
              "\n",
              "    [theme=dark] .colab-df-convert {\n",
              "      background-color: #3B4455;\n",
              "      fill: #D2E3FC;\n",
              "    }\n",
              "\n",
              "    [theme=dark] .colab-df-convert:hover {\n",
              "      background-color: #434B5C;\n",
              "      box-shadow: 0px 1px 3px 1px rgba(0, 0, 0, 0.15);\n",
              "      filter: drop-shadow(0px 1px 2px rgba(0, 0, 0, 0.3));\n",
              "      fill: #FFFFFF;\n",
              "    }\n",
              "  </style>\n",
              "\n",
              "    <script>\n",
              "      const buttonEl =\n",
              "        document.querySelector('#df-252b9898-d316-450b-8176-28a3a3bcc2a5 button.colab-df-convert');\n",
              "      buttonEl.style.display =\n",
              "        google.colab.kernel.accessAllowed ? 'block' : 'none';\n",
              "\n",
              "      async function convertToInteractive(key) {\n",
              "        const element = document.querySelector('#df-252b9898-d316-450b-8176-28a3a3bcc2a5');\n",
              "        const dataTable =\n",
              "          await google.colab.kernel.invokeFunction('convertToInteractive',\n",
              "                                                    [key], {});\n",
              "        if (!dataTable) return;\n",
              "\n",
              "        const docLinkHtml = 'Like what you see? Visit the ' +\n",
              "          '<a target=\"_blank\" href=https://colab.research.google.com/notebooks/data_table.ipynb>data table notebook</a>'\n",
              "          + ' to learn more about interactive tables.';\n",
              "        element.innerHTML = '';\n",
              "        dataTable['output_type'] = 'display_data';\n",
              "        await google.colab.output.renderOutput(dataTable, element);\n",
              "        const docLink = document.createElement('div');\n",
              "        docLink.innerHTML = docLinkHtml;\n",
              "        element.appendChild(docLink);\n",
              "      }\n",
              "    </script>\n",
              "  </div>\n",
              "\n",
              "\n",
              "<div id=\"df-3d2b094b-ca2f-4e63-a622-3b5c2e3a2fc2\">\n",
              "  <button class=\"colab-df-quickchart\" onclick=\"quickchart('df-3d2b094b-ca2f-4e63-a622-3b5c2e3a2fc2')\"\n",
              "            title=\"Suggest charts\"\n",
              "            style=\"display:none;\">\n",
              "\n",
              "<svg xmlns=\"http://www.w3.org/2000/svg\" height=\"24px\"viewBox=\"0 0 24 24\"\n",
              "     width=\"24px\">\n",
              "    <g>\n",
              "        <path d=\"M19 3H5c-1.1 0-2 .9-2 2v14c0 1.1.9 2 2 2h14c1.1 0 2-.9 2-2V5c0-1.1-.9-2-2-2zM9 17H7v-7h2v7zm4 0h-2V7h2v10zm4 0h-2v-4h2v4z\"/>\n",
              "    </g>\n",
              "</svg>\n",
              "  </button>\n",
              "\n",
              "<style>\n",
              "  .colab-df-quickchart {\n",
              "      --bg-color: #E8F0FE;\n",
              "      --fill-color: #1967D2;\n",
              "      --hover-bg-color: #E2EBFA;\n",
              "      --hover-fill-color: #174EA6;\n",
              "      --disabled-fill-color: #AAA;\n",
              "      --disabled-bg-color: #DDD;\n",
              "  }\n",
              "\n",
              "  [theme=dark] .colab-df-quickchart {\n",
              "      --bg-color: #3B4455;\n",
              "      --fill-color: #D2E3FC;\n",
              "      --hover-bg-color: #434B5C;\n",
              "      --hover-fill-color: #FFFFFF;\n",
              "      --disabled-bg-color: #3B4455;\n",
              "      --disabled-fill-color: #666;\n",
              "  }\n",
              "\n",
              "  .colab-df-quickchart {\n",
              "    background-color: var(--bg-color);\n",
              "    border: none;\n",
              "    border-radius: 50%;\n",
              "    cursor: pointer;\n",
              "    display: none;\n",
              "    fill: var(--fill-color);\n",
              "    height: 32px;\n",
              "    padding: 0;\n",
              "    width: 32px;\n",
              "  }\n",
              "\n",
              "  .colab-df-quickchart:hover {\n",
              "    background-color: var(--hover-bg-color);\n",
              "    box-shadow: 0 1px 2px rgba(60, 64, 67, 0.3), 0 1px 3px 1px rgba(60, 64, 67, 0.15);\n",
              "    fill: var(--button-hover-fill-color);\n",
              "  }\n",
              "\n",
              "  .colab-df-quickchart-complete:disabled,\n",
              "  .colab-df-quickchart-complete:disabled:hover {\n",
              "    background-color: var(--disabled-bg-color);\n",
              "    fill: var(--disabled-fill-color);\n",
              "    box-shadow: none;\n",
              "  }\n",
              "\n",
              "  .colab-df-spinner {\n",
              "    border: 2px solid var(--fill-color);\n",
              "    border-color: transparent;\n",
              "    border-bottom-color: var(--fill-color);\n",
              "    animation:\n",
              "      spin 1s steps(1) infinite;\n",
              "  }\n",
              "\n",
              "  @keyframes spin {\n",
              "    0% {\n",
              "      border-color: transparent;\n",
              "      border-bottom-color: var(--fill-color);\n",
              "      border-left-color: var(--fill-color);\n",
              "    }\n",
              "    20% {\n",
              "      border-color: transparent;\n",
              "      border-left-color: var(--fill-color);\n",
              "      border-top-color: var(--fill-color);\n",
              "    }\n",
              "    30% {\n",
              "      border-color: transparent;\n",
              "      border-left-color: var(--fill-color);\n",
              "      border-top-color: var(--fill-color);\n",
              "      border-right-color: var(--fill-color);\n",
              "    }\n",
              "    40% {\n",
              "      border-color: transparent;\n",
              "      border-right-color: var(--fill-color);\n",
              "      border-top-color: var(--fill-color);\n",
              "    }\n",
              "    60% {\n",
              "      border-color: transparent;\n",
              "      border-right-color: var(--fill-color);\n",
              "    }\n",
              "    80% {\n",
              "      border-color: transparent;\n",
              "      border-right-color: var(--fill-color);\n",
              "      border-bottom-color: var(--fill-color);\n",
              "    }\n",
              "    90% {\n",
              "      border-color: transparent;\n",
              "      border-bottom-color: var(--fill-color);\n",
              "    }\n",
              "  }\n",
              "</style>\n",
              "\n",
              "  <script>\n",
              "    async function quickchart(key) {\n",
              "      const quickchartButtonEl =\n",
              "        document.querySelector('#' + key + ' button');\n",
              "      quickchartButtonEl.disabled = true;  // To prevent multiple clicks.\n",
              "      quickchartButtonEl.classList.add('colab-df-spinner');\n",
              "      try {\n",
              "        const charts = await google.colab.kernel.invokeFunction(\n",
              "            'suggestCharts', [key], {});\n",
              "      } catch (error) {\n",
              "        console.error('Error during call to suggestCharts:', error);\n",
              "      }\n",
              "      quickchartButtonEl.classList.remove('colab-df-spinner');\n",
              "      quickchartButtonEl.classList.add('colab-df-quickchart-complete');\n",
              "    }\n",
              "    (() => {\n",
              "      let quickchartButtonEl =\n",
              "        document.querySelector('#df-3d2b094b-ca2f-4e63-a622-3b5c2e3a2fc2 button');\n",
              "      quickchartButtonEl.style.display =\n",
              "        google.colab.kernel.accessAllowed ? 'block' : 'none';\n",
              "    })();\n",
              "  </script>\n",
              "</div>\n",
              "\n",
              "    </div>\n",
              "  </div>\n"
            ],
            "application/vnd.google.colaboratory.intrinsic+json": {
              "type": "dataframe",
              "summary": "{\n  \"name\": \"df\",\n  \"rows\": 8,\n  \"fields\": [\n    {\n      \"column\": \"Age\",\n      \"properties\": {\n        \"dtype\": \"number\",\n        \"std\": 737.7175023586611,\n        \"min\": 6.3459682737322405,\n        \"max\": 2111.0,\n        \"num_unique_values\": 8,\n        \"samples\": [\n          24.312599908574136,\n          22.77789,\n          2111.0\n        ],\n        \"semantic_type\": \"\",\n        \"description\": \"\"\n      }\n    },\n    {\n      \"column\": \"Height\",\n      \"properties\": {\n        \"dtype\": \"number\",\n        \"std\": 745.8299972253056,\n        \"min\": 0.09330481986792,\n        \"max\": 2111.0,\n        \"num_unique_values\": 8,\n        \"samples\": [\n          1.7016773533870204,\n          1.700499,\n          2111.0\n        ],\n        \"semantic_type\": \"\",\n        \"description\": \"\"\n      }\n    },\n    {\n      \"column\": \"Weight\",\n      \"properties\": {\n        \"dtype\": \"number\",\n        \"std\": 718.4335873262646,\n        \"min\": 26.191171745204688,\n        \"max\": 2111.0,\n        \"num_unique_values\": 8,\n        \"samples\": [\n          86.58605812648035,\n          83.0,\n          2111.0\n        ],\n        \"semantic_type\": \"\",\n        \"description\": \"\"\n      }\n    },\n    {\n      \"column\": \"FCVC\",\n      \"properties\": {\n        \"dtype\": \"number\",\n        \"std\": 745.6275281444425,\n        \"min\": 0.5339265785033023,\n        \"max\": 2111.0,\n        \"num_unique_values\": 7,\n        \"samples\": [\n          2111.0,\n          2.4190430615821885,\n          2.385502\n        ],\n        \"semantic_type\": \"\",\n        \"description\": \"\"\n      }\n    },\n    {\n      \"column\": \"NCP\",\n      \"properties\": {\n        \"dtype\": \"number\",\n        \"std\": 745.4871624512587,\n        \"min\": 0.7780386488418594,\n        \"max\": 2111.0,\n        \"num_unique_values\": 7,\n        \"samples\": [\n          2111.0,\n          2.6856280497394596,\n          3.0\n        ],\n        \"semantic_type\": \"\",\n        \"description\": \"\"\n      }\n    },\n    {\n      \"column\": \"CH2O\",\n      \"properties\": {\n        \"dtype\": \"number\",\n        \"std\": 745.7109998154965,\n        \"min\": 0.6129534517968702,\n        \"max\": 2111.0,\n        \"num_unique_values\": 8,\n        \"samples\": [\n          2.0080114040738986,\n          2.0,\n          2111.0\n        ],\n        \"semantic_type\": \"\",\n        \"description\": \"\"\n      }\n    },\n    {\n      \"column\": \"FAF\",\n      \"properties\": {\n        \"dtype\": \"number\",\n        \"std\": 745.9653105606202,\n        \"min\": 0.0,\n        \"max\": 2111.0,\n        \"num_unique_values\": 8,\n        \"samples\": [\n          1.0102976958787304,\n          1.0,\n          2111.0\n        ],\n        \"semantic_type\": \"\",\n        \"description\": \"\"\n      }\n    },\n    {\n      \"column\": \"TUE\",\n      \"properties\": {\n        \"dtype\": \"number\",\n        \"std\": 746.1043827244515,\n        \"min\": 0.0,\n        \"max\": 2111.0,\n        \"num_unique_values\": 7,\n        \"samples\": [\n          2111.0,\n          0.657865923732828,\n          1.0\n        ],\n        \"semantic_type\": \"\",\n        \"description\": \"\"\n      }\n    },\n    {\n      \"column\": \"BMI\",\n      \"properties\": {\n        \"dtype\": \"number\",\n        \"std\": 736.8437588687831,\n        \"min\": 8.011336612534132,\n        \"max\": 2111.0,\n        \"num_unique_values\": 8,\n        \"samples\": [\n          29.700158778414636,\n          28.71908906003529,\n          2111.0\n        ],\n        \"semantic_type\": \"\",\n        \"description\": \"\"\n      }\n    }\n  ]\n}"
            }
          },
          "metadata": {},
          "execution_count": 3
        }
      ]
    },
    {
      "cell_type": "code",
      "source": [
        "# Summary statistics for categorical columns\n",
        "df.describe(include='object')"
      ],
      "metadata": {
        "colab": {
          "base_uri": "https://localhost:8080/",
          "height": 175
        },
        "id": "aeb5vBG4tgD8",
        "outputId": "16faea52-80af-4d2d-adb4-c5fdc2ef56fc"
      },
      "execution_count": null,
      "outputs": [
        {
          "output_type": "execute_result",
          "data": {
            "text/plain": [
              "       Gender family_history_with_overweight  FAVC       CAEC SMOKE   SCC  \\\n",
              "count    2111                           2111  2111       2111  2111  2111   \n",
              "unique      2                              2     2          4     2     2   \n",
              "top      Male                            yes   yes  Sometimes    no    no   \n",
              "freq     1068                           1726  1866       1765  2067  2015   \n",
              "\n",
              "             CALC                 MTRANS      NObeyesdad  \n",
              "count        2111                   2111            2111  \n",
              "unique          4                      5               7  \n",
              "top     Sometimes  Public_Transportation  Obesity_Type_I  \n",
              "freq         1401                   1580             351  "
            ],
            "text/html": [
              "\n",
              "  <div id=\"df-8d0ef470-c6cb-486a-8e8a-27f34c6bd0b3\" class=\"colab-df-container\">\n",
              "    <div>\n",
              "<style scoped>\n",
              "    .dataframe tbody tr th:only-of-type {\n",
              "        vertical-align: middle;\n",
              "    }\n",
              "\n",
              "    .dataframe tbody tr th {\n",
              "        vertical-align: top;\n",
              "    }\n",
              "\n",
              "    .dataframe thead th {\n",
              "        text-align: right;\n",
              "    }\n",
              "</style>\n",
              "<table border=\"1\" class=\"dataframe\">\n",
              "  <thead>\n",
              "    <tr style=\"text-align: right;\">\n",
              "      <th></th>\n",
              "      <th>Gender</th>\n",
              "      <th>family_history_with_overweight</th>\n",
              "      <th>FAVC</th>\n",
              "      <th>CAEC</th>\n",
              "      <th>SMOKE</th>\n",
              "      <th>SCC</th>\n",
              "      <th>CALC</th>\n",
              "      <th>MTRANS</th>\n",
              "      <th>NObeyesdad</th>\n",
              "    </tr>\n",
              "  </thead>\n",
              "  <tbody>\n",
              "    <tr>\n",
              "      <th>count</th>\n",
              "      <td>2111</td>\n",
              "      <td>2111</td>\n",
              "      <td>2111</td>\n",
              "      <td>2111</td>\n",
              "      <td>2111</td>\n",
              "      <td>2111</td>\n",
              "      <td>2111</td>\n",
              "      <td>2111</td>\n",
              "      <td>2111</td>\n",
              "    </tr>\n",
              "    <tr>\n",
              "      <th>unique</th>\n",
              "      <td>2</td>\n",
              "      <td>2</td>\n",
              "      <td>2</td>\n",
              "      <td>4</td>\n",
              "      <td>2</td>\n",
              "      <td>2</td>\n",
              "      <td>4</td>\n",
              "      <td>5</td>\n",
              "      <td>7</td>\n",
              "    </tr>\n",
              "    <tr>\n",
              "      <th>top</th>\n",
              "      <td>Male</td>\n",
              "      <td>yes</td>\n",
              "      <td>yes</td>\n",
              "      <td>Sometimes</td>\n",
              "      <td>no</td>\n",
              "      <td>no</td>\n",
              "      <td>Sometimes</td>\n",
              "      <td>Public_Transportation</td>\n",
              "      <td>Obesity_Type_I</td>\n",
              "    </tr>\n",
              "    <tr>\n",
              "      <th>freq</th>\n",
              "      <td>1068</td>\n",
              "      <td>1726</td>\n",
              "      <td>1866</td>\n",
              "      <td>1765</td>\n",
              "      <td>2067</td>\n",
              "      <td>2015</td>\n",
              "      <td>1401</td>\n",
              "      <td>1580</td>\n",
              "      <td>351</td>\n",
              "    </tr>\n",
              "  </tbody>\n",
              "</table>\n",
              "</div>\n",
              "    <div class=\"colab-df-buttons\">\n",
              "\n",
              "  <div class=\"colab-df-container\">\n",
              "    <button class=\"colab-df-convert\" onclick=\"convertToInteractive('df-8d0ef470-c6cb-486a-8e8a-27f34c6bd0b3')\"\n",
              "            title=\"Convert this dataframe to an interactive table.\"\n",
              "            style=\"display:none;\">\n",
              "\n",
              "  <svg xmlns=\"http://www.w3.org/2000/svg\" height=\"24px\" viewBox=\"0 -960 960 960\">\n",
              "    <path d=\"M120-120v-720h720v720H120Zm60-500h600v-160H180v160Zm220 220h160v-160H400v160Zm0 220h160v-160H400v160ZM180-400h160v-160H180v160Zm440 0h160v-160H620v160ZM180-180h160v-160H180v160Zm440 0h160v-160H620v160Z\"/>\n",
              "  </svg>\n",
              "    </button>\n",
              "\n",
              "  <style>\n",
              "    .colab-df-container {\n",
              "      display:flex;\n",
              "      gap: 12px;\n",
              "    }\n",
              "\n",
              "    .colab-df-convert {\n",
              "      background-color: #E8F0FE;\n",
              "      border: none;\n",
              "      border-radius: 50%;\n",
              "      cursor: pointer;\n",
              "      display: none;\n",
              "      fill: #1967D2;\n",
              "      height: 32px;\n",
              "      padding: 0 0 0 0;\n",
              "      width: 32px;\n",
              "    }\n",
              "\n",
              "    .colab-df-convert:hover {\n",
              "      background-color: #E2EBFA;\n",
              "      box-shadow: 0px 1px 2px rgba(60, 64, 67, 0.3), 0px 1px 3px 1px rgba(60, 64, 67, 0.15);\n",
              "      fill: #174EA6;\n",
              "    }\n",
              "\n",
              "    .colab-df-buttons div {\n",
              "      margin-bottom: 4px;\n",
              "    }\n",
              "\n",
              "    [theme=dark] .colab-df-convert {\n",
              "      background-color: #3B4455;\n",
              "      fill: #D2E3FC;\n",
              "    }\n",
              "\n",
              "    [theme=dark] .colab-df-convert:hover {\n",
              "      background-color: #434B5C;\n",
              "      box-shadow: 0px 1px 3px 1px rgba(0, 0, 0, 0.15);\n",
              "      filter: drop-shadow(0px 1px 2px rgba(0, 0, 0, 0.3));\n",
              "      fill: #FFFFFF;\n",
              "    }\n",
              "  </style>\n",
              "\n",
              "    <script>\n",
              "      const buttonEl =\n",
              "        document.querySelector('#df-8d0ef470-c6cb-486a-8e8a-27f34c6bd0b3 button.colab-df-convert');\n",
              "      buttonEl.style.display =\n",
              "        google.colab.kernel.accessAllowed ? 'block' : 'none';\n",
              "\n",
              "      async function convertToInteractive(key) {\n",
              "        const element = document.querySelector('#df-8d0ef470-c6cb-486a-8e8a-27f34c6bd0b3');\n",
              "        const dataTable =\n",
              "          await google.colab.kernel.invokeFunction('convertToInteractive',\n",
              "                                                    [key], {});\n",
              "        if (!dataTable) return;\n",
              "\n",
              "        const docLinkHtml = 'Like what you see? Visit the ' +\n",
              "          '<a target=\"_blank\" href=https://colab.research.google.com/notebooks/data_table.ipynb>data table notebook</a>'\n",
              "          + ' to learn more about interactive tables.';\n",
              "        element.innerHTML = '';\n",
              "        dataTable['output_type'] = 'display_data';\n",
              "        await google.colab.output.renderOutput(dataTable, element);\n",
              "        const docLink = document.createElement('div');\n",
              "        docLink.innerHTML = docLinkHtml;\n",
              "        element.appendChild(docLink);\n",
              "      }\n",
              "    </script>\n",
              "  </div>\n",
              "\n",
              "\n",
              "<div id=\"df-a9f33f73-ef8c-4f01-8454-eaa0ff6a9011\">\n",
              "  <button class=\"colab-df-quickchart\" onclick=\"quickchart('df-a9f33f73-ef8c-4f01-8454-eaa0ff6a9011')\"\n",
              "            title=\"Suggest charts\"\n",
              "            style=\"display:none;\">\n",
              "\n",
              "<svg xmlns=\"http://www.w3.org/2000/svg\" height=\"24px\"viewBox=\"0 0 24 24\"\n",
              "     width=\"24px\">\n",
              "    <g>\n",
              "        <path d=\"M19 3H5c-1.1 0-2 .9-2 2v14c0 1.1.9 2 2 2h14c1.1 0 2-.9 2-2V5c0-1.1-.9-2-2-2zM9 17H7v-7h2v7zm4 0h-2V7h2v10zm4 0h-2v-4h2v4z\"/>\n",
              "    </g>\n",
              "</svg>\n",
              "  </button>\n",
              "\n",
              "<style>\n",
              "  .colab-df-quickchart {\n",
              "      --bg-color: #E8F0FE;\n",
              "      --fill-color: #1967D2;\n",
              "      --hover-bg-color: #E2EBFA;\n",
              "      --hover-fill-color: #174EA6;\n",
              "      --disabled-fill-color: #AAA;\n",
              "      --disabled-bg-color: #DDD;\n",
              "  }\n",
              "\n",
              "  [theme=dark] .colab-df-quickchart {\n",
              "      --bg-color: #3B4455;\n",
              "      --fill-color: #D2E3FC;\n",
              "      --hover-bg-color: #434B5C;\n",
              "      --hover-fill-color: #FFFFFF;\n",
              "      --disabled-bg-color: #3B4455;\n",
              "      --disabled-fill-color: #666;\n",
              "  }\n",
              "\n",
              "  .colab-df-quickchart {\n",
              "    background-color: var(--bg-color);\n",
              "    border: none;\n",
              "    border-radius: 50%;\n",
              "    cursor: pointer;\n",
              "    display: none;\n",
              "    fill: var(--fill-color);\n",
              "    height: 32px;\n",
              "    padding: 0;\n",
              "    width: 32px;\n",
              "  }\n",
              "\n",
              "  .colab-df-quickchart:hover {\n",
              "    background-color: var(--hover-bg-color);\n",
              "    box-shadow: 0 1px 2px rgba(60, 64, 67, 0.3), 0 1px 3px 1px rgba(60, 64, 67, 0.15);\n",
              "    fill: var(--button-hover-fill-color);\n",
              "  }\n",
              "\n",
              "  .colab-df-quickchart-complete:disabled,\n",
              "  .colab-df-quickchart-complete:disabled:hover {\n",
              "    background-color: var(--disabled-bg-color);\n",
              "    fill: var(--disabled-fill-color);\n",
              "    box-shadow: none;\n",
              "  }\n",
              "\n",
              "  .colab-df-spinner {\n",
              "    border: 2px solid var(--fill-color);\n",
              "    border-color: transparent;\n",
              "    border-bottom-color: var(--fill-color);\n",
              "    animation:\n",
              "      spin 1s steps(1) infinite;\n",
              "  }\n",
              "\n",
              "  @keyframes spin {\n",
              "    0% {\n",
              "      border-color: transparent;\n",
              "      border-bottom-color: var(--fill-color);\n",
              "      border-left-color: var(--fill-color);\n",
              "    }\n",
              "    20% {\n",
              "      border-color: transparent;\n",
              "      border-left-color: var(--fill-color);\n",
              "      border-top-color: var(--fill-color);\n",
              "    }\n",
              "    30% {\n",
              "      border-color: transparent;\n",
              "      border-left-color: var(--fill-color);\n",
              "      border-top-color: var(--fill-color);\n",
              "      border-right-color: var(--fill-color);\n",
              "    }\n",
              "    40% {\n",
              "      border-color: transparent;\n",
              "      border-right-color: var(--fill-color);\n",
              "      border-top-color: var(--fill-color);\n",
              "    }\n",
              "    60% {\n",
              "      border-color: transparent;\n",
              "      border-right-color: var(--fill-color);\n",
              "    }\n",
              "    80% {\n",
              "      border-color: transparent;\n",
              "      border-right-color: var(--fill-color);\n",
              "      border-bottom-color: var(--fill-color);\n",
              "    }\n",
              "    90% {\n",
              "      border-color: transparent;\n",
              "      border-bottom-color: var(--fill-color);\n",
              "    }\n",
              "  }\n",
              "</style>\n",
              "\n",
              "  <script>\n",
              "    async function quickchart(key) {\n",
              "      const quickchartButtonEl =\n",
              "        document.querySelector('#' + key + ' button');\n",
              "      quickchartButtonEl.disabled = true;  // To prevent multiple clicks.\n",
              "      quickchartButtonEl.classList.add('colab-df-spinner');\n",
              "      try {\n",
              "        const charts = await google.colab.kernel.invokeFunction(\n",
              "            'suggestCharts', [key], {});\n",
              "      } catch (error) {\n",
              "        console.error('Error during call to suggestCharts:', error);\n",
              "      }\n",
              "      quickchartButtonEl.classList.remove('colab-df-spinner');\n",
              "      quickchartButtonEl.classList.add('colab-df-quickchart-complete');\n",
              "    }\n",
              "    (() => {\n",
              "      let quickchartButtonEl =\n",
              "        document.querySelector('#df-a9f33f73-ef8c-4f01-8454-eaa0ff6a9011 button');\n",
              "      quickchartButtonEl.style.display =\n",
              "        google.colab.kernel.accessAllowed ? 'block' : 'none';\n",
              "    })();\n",
              "  </script>\n",
              "</div>\n",
              "\n",
              "    </div>\n",
              "  </div>\n"
            ],
            "application/vnd.google.colaboratory.intrinsic+json": {
              "type": "dataframe",
              "summary": "{\n  \"name\": \"df\",\n  \"rows\": 4,\n  \"fields\": [\n    {\n      \"column\": \"Gender\",\n      \"properties\": {\n        \"dtype\": \"string\",\n        \"num_unique_values\": 4,\n        \"samples\": [\n          2,\n          \"1068\",\n          \"2111\"\n        ],\n        \"semantic_type\": \"\",\n        \"description\": \"\"\n      }\n    },\n    {\n      \"column\": \"family_history_with_overweight\",\n      \"properties\": {\n        \"dtype\": \"string\",\n        \"num_unique_values\": 4,\n        \"samples\": [\n          2,\n          \"1726\",\n          \"2111\"\n        ],\n        \"semantic_type\": \"\",\n        \"description\": \"\"\n      }\n    },\n    {\n      \"column\": \"FAVC\",\n      \"properties\": {\n        \"dtype\": \"string\",\n        \"num_unique_values\": 4,\n        \"samples\": [\n          2,\n          \"1866\",\n          \"2111\"\n        ],\n        \"semantic_type\": \"\",\n        \"description\": \"\"\n      }\n    },\n    {\n      \"column\": \"CAEC\",\n      \"properties\": {\n        \"dtype\": \"string\",\n        \"num_unique_values\": 4,\n        \"samples\": [\n          4,\n          \"1765\",\n          \"2111\"\n        ],\n        \"semantic_type\": \"\",\n        \"description\": \"\"\n      }\n    },\n    {\n      \"column\": \"SMOKE\",\n      \"properties\": {\n        \"dtype\": \"string\",\n        \"num_unique_values\": 4,\n        \"samples\": [\n          2,\n          \"2067\",\n          \"2111\"\n        ],\n        \"semantic_type\": \"\",\n        \"description\": \"\"\n      }\n    },\n    {\n      \"column\": \"SCC\",\n      \"properties\": {\n        \"dtype\": \"string\",\n        \"num_unique_values\": 4,\n        \"samples\": [\n          2,\n          \"2015\",\n          \"2111\"\n        ],\n        \"semantic_type\": \"\",\n        \"description\": \"\"\n      }\n    },\n    {\n      \"column\": \"CALC\",\n      \"properties\": {\n        \"dtype\": \"string\",\n        \"num_unique_values\": 4,\n        \"samples\": [\n          4,\n          \"1401\",\n          \"2111\"\n        ],\n        \"semantic_type\": \"\",\n        \"description\": \"\"\n      }\n    },\n    {\n      \"column\": \"MTRANS\",\n      \"properties\": {\n        \"dtype\": \"string\",\n        \"num_unique_values\": 4,\n        \"samples\": [\n          5,\n          \"1580\",\n          \"2111\"\n        ],\n        \"semantic_type\": \"\",\n        \"description\": \"\"\n      }\n    },\n    {\n      \"column\": \"NObeyesdad\",\n      \"properties\": {\n        \"dtype\": \"string\",\n        \"num_unique_values\": 4,\n        \"samples\": [\n          7,\n          \"351\",\n          \"2111\"\n        ],\n        \"semantic_type\": \"\",\n        \"description\": \"\"\n      }\n    }\n  ]\n}"
            }
          },
          "metadata": {},
          "execution_count": 4
        }
      ]
    },
    {
      "cell_type": "markdown",
      "source": [
        "**Exploratory Data Analysis (EDA)**"
      ],
      "metadata": {
        "id": "kdEj0fDXq6zz"
      }
    },
    {
      "cell_type": "code",
      "source": [
        "# Check for missing values in each column\n",
        "missing_values = df.isnull().sum()\n",
        "print(missing_values)"
      ],
      "metadata": {
        "colab": {
          "base_uri": "https://localhost:8080/"
        },
        "id": "KOo1bjoKtkCW",
        "outputId": "205e9628-ad05-45a1-deb5-38a17eb5c28a"
      },
      "execution_count": null,
      "outputs": [
        {
          "output_type": "stream",
          "name": "stdout",
          "text": [
            "Gender                            0\n",
            "Age                               0\n",
            "Height                            0\n",
            "Weight                            0\n",
            "family_history_with_overweight    0\n",
            "FAVC                              0\n",
            "FCVC                              0\n",
            "NCP                               0\n",
            "CAEC                              0\n",
            "SMOKE                             0\n",
            "CH2O                              0\n",
            "SCC                               0\n",
            "FAF                               0\n",
            "TUE                               0\n",
            "CALC                              0\n",
            "MTRANS                            0\n",
            "NObeyesdad                        0\n",
            "BMI                               0\n",
            "dtype: int64\n"
          ]
        }
      ]
    },
    {
      "cell_type": "code",
      "source": [
        "for column in df.select_dtypes(include='object').columns:\n",
        "    print(f\"{column}: {df[column].unique()}\")"
      ],
      "metadata": {
        "colab": {
          "base_uri": "https://localhost:8080/"
        },
        "id": "05BPMO8atn98",
        "outputId": "a23be63c-a279-44df-9acf-f915e154c924"
      },
      "execution_count": null,
      "outputs": [
        {
          "output_type": "stream",
          "name": "stdout",
          "text": [
            "Gender: ['Female' 'Male']\n",
            "family_history_with_overweight: ['yes' 'no']\n",
            "FAVC: ['no' 'yes']\n",
            "CAEC: ['Sometimes' 'Frequently' 'Always' 'no']\n",
            "SMOKE: ['no' 'yes']\n",
            "SCC: ['no' 'yes']\n",
            "CALC: ['no' 'Sometimes' 'Frequently' 'Always']\n",
            "MTRANS: ['Public_Transportation' 'Walking' 'Automobile' 'Motorbike' 'Bike']\n",
            "NObeyesdad: ['Normal_Weight' 'Overweight_Level_I' 'Overweight_Level_II'\n",
            " 'Obesity_Type_I' 'Insufficient_Weight' 'Obesity_Type_II'\n",
            " 'Obesity_Type_III']\n"
          ]
        }
      ]
    },
    {
      "cell_type": "code",
      "source": [
        "import matplotlib.pyplot as plt\n",
        "import seaborn as sns\n",
        "import numpy as np\n",
        "import pandas as pd\n",
        "df = pd.read_csv('Obesity.csv')\n",
        "# Plot boxplot for numerical columns to identify outliers\n",
        "\n",
        "plt.figure(figsize=(12, 6))\n",
        "sns.boxplot(data=df.select_dtypes(include='number'))\n",
        "plt.title('Boxplot of Numerical Features for Outlier Detection')\n",
        "plt.xticks(rotation=45)\n",
        "plt.show()"
      ],
      "metadata": {
        "colab": {
          "base_uri": "https://localhost:8080/",
          "height": 575
        },
        "id": "kFgIY4Fdtr-s",
        "outputId": "5f19ab2e-e146-40ae-c31b-d5546b48aac9"
      },
      "execution_count": null,
      "outputs": [
        {
          "output_type": "display_data",
          "data": {
            "text/plain": [
              "<Figure size 1200x600 with 1 Axes>"
            ],
            "image/png": "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\n"
          },
          "metadata": {}
        }
      ]
    },
    {
      "cell_type": "code",
      "source": [
        "# Plot histogram of BMI to understand distribution\n",
        "# Calculate BMI and add as a new column\n",
        "df['BMI'] = df['Weight'] / (df['Height'] ** 2)\n",
        "plt.figure(figsize=(8, 5))\n",
        "sns.histplot(df['BMI'], kde=True)\n",
        "plt.title('Distribution of BMI')\n",
        "plt.xlabel('BMI')\n",
        "plt.ylabel('Frequency')\n",
        "plt.show()"
      ],
      "metadata": {
        "colab": {
          "base_uri": "https://localhost:8080/",
          "height": 487
        },
        "id": "NAQMbKe7tw1o",
        "outputId": "bb19a6fc-5b45-4726-8add-4d2fafca395d"
      },
      "execution_count": null,
      "outputs": [
        {
          "output_type": "display_data",
          "data": {
            "text/plain": [
              "<Figure size 800x500 with 1 Axes>"
            ],
            "image/png": "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\n"
          },
          "metadata": {}
        }
      ]
    },
    {
      "cell_type": "code",
      "source": [
        "# Plot countplots for categorical features\n",
        "categorical_cols = ['FAVC', 'CAEC', 'CALC', 'SCC', 'MTRANS']\n",
        "fig, axes = plt.subplots(1, len(categorical_cols), figsize=(20, 5))\n",
        "\n",
        "for i, col in enumerate(categorical_cols):\n",
        "    sns.countplot(x=col, data=df, ax=axes[i])\n",
        "    axes[i].set_title(f'Distribution of {col}')\n",
        "    axes[i].tick_params(axis='x', rotation=45)\n",
        "\n",
        "plt.tight_layout()\n",
        "plt.show()"
      ],
      "metadata": {
        "colab": {
          "base_uri": "https://localhost:8080/",
          "height": 290
        },
        "id": "FP41lRWYt2ht",
        "outputId": "883eaca6-c715-4136-e6d7-40c266e67987"
      },
      "execution_count": null,
      "outputs": [
        {
          "output_type": "display_data",
          "data": {
            "text/plain": [
              "<Figure size 2000x500 with 5 Axes>"
            ],
            "image/png": "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\n"
          },
          "metadata": {}
        }
      ]
    },
    {
      "cell_type": "code",
      "source": [
        "# Perform one-hot encoding on categorical features\n",
        "categorical_cols = ['CAEC', 'CALC', 'MTRANS']\n",
        "df = pd.get_dummies(df, columns=categorical_cols, drop_first=True)\n"
      ],
      "metadata": {
        "id": "eBkrFLOat9CX"
      },
      "execution_count": null,
      "outputs": []
    },
    {
      "cell_type": "code",
      "source": [
        "# Label encode binary categorical variables\n",
        "binary_cols = ['FAVC', 'SCC']\n",
        "for col in binary_cols:\n",
        "    df[col] = df[col].map({'yes': 1, 'no': 0})\n"
      ],
      "metadata": {
        "id": "rL6xXHKYuIA7"
      },
      "execution_count": null,
      "outputs": []
    },
    {
      "cell_type": "code",
      "source": [
        "# Check the final structure of the data\n",
        "print(df.info())\n",
        "print(df.head())"
      ],
      "metadata": {
        "colab": {
          "base_uri": "https://localhost:8080/"
        },
        "id": "Sm-q8WeGuQAI",
        "outputId": "0e28275d-1073-4260-949c-f995a6854474"
      },
      "execution_count": null,
      "outputs": [
        {
          "output_type": "stream",
          "name": "stdout",
          "text": [
            "<class 'pandas.core.frame.DataFrame'>\n",
            "RangeIndex: 2111 entries, 0 to 2110\n",
            "Data columns (total 25 columns):\n",
            " #   Column                          Non-Null Count  Dtype  \n",
            "---  ------                          --------------  -----  \n",
            " 0   Gender                          2111 non-null   object \n",
            " 1   Age                             2111 non-null   float64\n",
            " 2   Height                          2111 non-null   float64\n",
            " 3   Weight                          2111 non-null   float64\n",
            " 4   family_history_with_overweight  2111 non-null   object \n",
            " 5   FAVC                            2111 non-null   int64  \n",
            " 6   FCVC                            2111 non-null   float64\n",
            " 7   NCP                             2111 non-null   float64\n",
            " 8   SMOKE                           2111 non-null   object \n",
            " 9   CH2O                            2111 non-null   float64\n",
            " 10  SCC                             2111 non-null   int64  \n",
            " 11  FAF                             2111 non-null   float64\n",
            " 12  TUE                             2111 non-null   float64\n",
            " 13  NObeyesdad                      2111 non-null   object \n",
            " 14  BMI                             2111 non-null   float64\n",
            " 15  CAEC_Frequently                 2111 non-null   bool   \n",
            " 16  CAEC_Sometimes                  2111 non-null   bool   \n",
            " 17  CAEC_no                         2111 non-null   bool   \n",
            " 18  CALC_Frequently                 2111 non-null   bool   \n",
            " 19  CALC_Sometimes                  2111 non-null   bool   \n",
            " 20  CALC_no                         2111 non-null   bool   \n",
            " 21  MTRANS_Bike                     2111 non-null   bool   \n",
            " 22  MTRANS_Motorbike                2111 non-null   bool   \n",
            " 23  MTRANS_Public_Transportation    2111 non-null   bool   \n",
            " 24  MTRANS_Walking                  2111 non-null   bool   \n",
            "dtypes: bool(10), float64(9), int64(2), object(4)\n",
            "memory usage: 268.1+ KB\n",
            "None\n",
            "   Gender   Age  Height  Weight family_history_with_overweight  FAVC  FCVC  \\\n",
            "0  Female  21.0    1.62    64.0                            yes     0   2.0   \n",
            "1  Female  21.0    1.52    56.0                            yes     0   3.0   \n",
            "2    Male  23.0    1.80    77.0                            yes     0   2.0   \n",
            "3    Male  27.0    1.80    87.0                             no     0   3.0   \n",
            "4    Male  22.0    1.78    89.8                             no     0   2.0   \n",
            "\n",
            "   NCP SMOKE  CH2O  ...  CAEC_Frequently  CAEC_Sometimes  CAEC_no  \\\n",
            "0  3.0    no   2.0  ...            False            True    False   \n",
            "1  3.0   yes   3.0  ...            False            True    False   \n",
            "2  3.0    no   2.0  ...            False            True    False   \n",
            "3  3.0    no   2.0  ...            False            True    False   \n",
            "4  1.0    no   2.0  ...            False            True    False   \n",
            "\n",
            "  CALC_Frequently  CALC_Sometimes  CALC_no  MTRANS_Bike  MTRANS_Motorbike  \\\n",
            "0           False           False     True        False             False   \n",
            "1           False            True    False        False             False   \n",
            "2            True           False    False        False             False   \n",
            "3            True           False    False        False             False   \n",
            "4           False            True    False        False             False   \n",
            "\n",
            "   MTRANS_Public_Transportation  MTRANS_Walking  \n",
            "0                          True           False  \n",
            "1                          True           False  \n",
            "2                          True           False  \n",
            "3                         False            True  \n",
            "4                          True           False  \n",
            "\n",
            "[5 rows x 25 columns]\n"
          ]
        }
      ]
    },
    {
      "cell_type": "code",
      "source": [
        "# List of encoded feature columns relevant to your analysis\n",
        "selected_columns = [\n",
        "    'FAVC', 'FCVC', 'NCP', 'CH2O', 'SCC', 'FAF', 'TUE', 'BMI',\n",
        "    'CAEC_Frequently', 'CAEC_Sometimes', 'CAEC_no',\n",
        "    'CALC_Frequently', 'CALC_Sometimes', 'CALC_no',\n",
        "    'MTRANS_Bike', 'MTRANS_Motorbike', 'MTRANS_Public_Transportation', 'MTRANS_Walking'\n",
        "]\n",
        "\n",
        "# Create a subset DataFrame with the selected columns\n",
        "subset_df = df[selected_columns]\n",
        "\n",
        "# Compute the correlation matrix for the subset\n",
        "correlation_subset = subset_df.corr()\n",
        "\n",
        "# Display the correlation matrix\n",
        "print(\"Correlation Matrix:\")\n",
        "print(correlation_subset['BMI'].sort_values(ascending=False))  # Sort by correlation with BMI for clarity\n",
        "\n",
        "# Optional: Visualize with a heatmap\n",
        "import seaborn as sns\n",
        "import matplotlib.pyplot as plt\n",
        "\n",
        "plt.figure(figsize=(10, 8))\n",
        "sns.heatmap(correlation_subset[['BMI']], annot=True, cmap='coolwarm', fmt=\".2f\", linewidths=0.5, cbar=True)\n",
        "plt.title('Correlation of Features with BMI')\n",
        "plt.show()\n"
      ],
      "metadata": {
        "colab": {
          "base_uri": "https://localhost:8080/",
          "height": 1000
        },
        "id": "nL9C1-N-uW_W",
        "outputId": "34192c14-a11d-4d71-823a-046af3c95583"
      },
      "execution_count": null,
      "outputs": [
        {
          "output_type": "stream",
          "name": "stdout",
          "text": [
            "Correlation Matrix:\n",
            "BMI                             1.000000\n",
            "CAEC_Sometimes                  0.420548\n",
            "FCVC                            0.263651\n",
            "FAVC                            0.246097\n",
            "CALC_Sometimes                  0.235591\n",
            "CH2O                            0.144200\n",
            "MTRANS_Public_Transportation    0.088204\n",
            "NCP                             0.039969\n",
            "MTRANS_Bike                    -0.032631\n",
            "MTRANS_Motorbike               -0.035581\n",
            "CALC_Frequently                -0.062869\n",
            "CAEC_no                        -0.083957\n",
            "TUE                            -0.099720\n",
            "MTRANS_Walking                 -0.124445\n",
            "FAF                            -0.177537\n",
            "SCC                            -0.184286\n",
            "CALC_no                        -0.216842\n",
            "CAEC_Frequently                -0.395313\n",
            "Name: BMI, dtype: float64\n"
          ]
        },
        {
          "output_type": "display_data",
          "data": {
            "text/plain": [
              "<Figure size 1000x800 with 2 Axes>"
            ],
            "image/png": "iVBORw0KGgoAAAANSUhEUgAAA9AAAAKqCAYAAADSYLb7AAAAOXRFWHRTb2Z0d2FyZQBNYXRwbG90bGliIHZlcnNpb24zLjguMCwgaHR0cHM6Ly9tYXRwbG90bGliLm9yZy81sbWrAAAACXBIWXMAAA9hAAAPYQGoP6dpAADOwUlEQVR4nOzdd3QU1fvH8c9sSDYhlR5KIITQu3QQBEUBFSxICSKdrwqCGBSMhaYQEVFAERUTQEWKFAtgLECki4gU6UjH0ElCICQhmd8f/FhYksACGxbi+3XOnMPeuXPvnaHl2efOvYZpmqYAAAAAAMA1WVw9AAAAAAAA7gYE0AAAAAAAOIAAGgAAAAAABxBAAwAAAADgAAJoAAAAAAAcQAANAAAAAIADCKABAAAAAHAAATQAAAAAAA4ggAYAAAAAwAEE0AAAZGPq1KkyDEP79u1zWpv79u2TYRiaOnWq09rMCTExMapRo4Y8PT1lGIbi4+NdPaT/PMMwNGzYMIfrvvDCCzk7IAD4DyKABgDcVv/884+effZZhYSEyNPTU35+fmrUqJHGjx+v5ORkVw/Pab7++muNGzfO1cO4KSdPnlT79u3l5eWliRMn6ssvv5S3t3eWdS99yZDV8eqrr+bI+FatWqVhw4b954P6nHoOl77kufLw8/NTjRo19NFHHyk9Pd2uftOmTWUYhsqWLZtle7/88outnTlz5tjKL/3ZWbdunVPHDwA5KY+rBwAA+O9YuHCh2rVrJ6vVqi5duqhKlSpKTU3VihUr9Morr2jLli367LPPXD1Mp/j666/1999/a8CAAXblpUqVUnJystzd3V0zMAf88ccfOnPmjN566y01b97coWtGjBih0qVL25VVqVIlJ4anVatWafjw4erWrZsCAgJypI87UXJysvLkufyjW04/h7CwMD388MOSpISEBC1atEj9+vXT/v37NWbMGLu6np6e2r17t9auXau6devanZs+fbo8PT11/vx5p48RAG43AmgAwG2xd+9edezYUaVKldKSJUtUtGhR27m+fftq9+7dWrhw4S33Y5qmzp8/Ly8vr0znzp8/Lw8PD1ksrpuAZRiGPD09Xda/I44dOyZJNxSUtWrVSrVr186hEd0eZ8+ezTbTfie43X9u7rnnHnXu3Nn2uU+fPqpXr56+/vrrTAF0mTJldOHCBc2YMcMugD5//rzmz5+vRx55RHPnzr1tYweAnMIUbgDAbfHuu+8qKSlJUVFRdsHzJaGhoXrxxRdtny9cuKC33npLZcqUkdVqVXBwsF577TWlpKTYXRccHKxHH31UP/30k2rXri0vLy99+umnio2NlWEYmjlzpt544w0VL15cefPmVWJioiTp999/V8uWLeXv76+8efPqvvvu08qVK697H999950eeeQRFStWTFarVWXKlNFbb71lN621adOmWrhwofbv32+buhocHCwp+3eglyxZosaNG8vb21sBAQF67LHHtG3bNrs6w4YNk2EY2r17ty3r6O/vr+7du+vcuXPXHbskffPNN6pVq5a8vLxUsGBBde7cWYcPH7Ybe9euXSVJderUkWEY6tatm0NtX8uPP/5ouz9fX1898sgj2rJli12dTZs2qVu3brbp/YGBgerRo4dOnjxp9wxeeeUVSVLp0qVtz3ffvn3XfL/86veHLz3LrVu3qlOnTsqXL5/uvfde2/mvvvrK9pzy58+vjh076uDBg3Zt7tq1S23btlVgYKA8PT1VokQJdezYUQkJCdk+hwkTJsjNzc1u2vXYsWNlGIbCw8NtZenp6fL19dXgwYOzvIdrPYcrffvtt6pSpYqsVqsqV66smJiYbMd2PYZhqEiRInZZ8CuFhYVp1qxZysjIsJX98MMPOnfunNq3b3/T/QLAnYQMNADgtvjhhx8UEhKihg0bOlS/V69emjZtmp566ikNHDhQv//+uyIjI7Vt2zbNnz/fru6OHTsUFhamZ599Vr1791b58uVt59566y15eHjo5ZdfVkpKijw8PLRkyRK1atVKtWrV0tChQ2WxWDRlyhTdf//9Wr58eaYpqFeaOnWqfHx8FB4eLh8fHy1ZskRDhgxRYmKiLSv3+uuvKyEhQYcOHdIHH3wgSfLx8cm2zV9//VWtWrVSSEiIhg0bpuTkZH344Ydq1KiR1q9fbwu+L2nfvr1Kly6tyMhIrV+/Xp9//rkKFy6s0aNHX/OZTp06Vd27d1edOnUUGRmpo0ePavz48Vq5cqX++usvBQQE6PXXX1f58uX12Wef2aZllylT5prtShen+J44ccKurGDBgpKkL7/8Ul27dlWLFi00evRonTt3TpMmTdK9996rv/76y3Z/v/zyi/bs2aPu3bsrMDDQNqV/y5YtWrNmjQzD0JNPPqmdO3dqxowZ+uCDD2x9FCpUSMePH7/uOK/Wrl07lS1bVqNGjZJpmpKkkSNH6s0331T79u3Vq1cvHT9+XB9++KGaNGlie06pqalq0aKFUlJS1K9fPwUGBurw4cNasGCB4uPj5e/vn2V/jRs3VkZGhlasWKFHH31UkrR8+XJZLBYtX77cVu+vv/5SUlKSmjRpkmU713oOl6xYsULz5s1Tnz595OvrqwkTJqht27Y6cOCAChQocN1nc+7cOdvvaWJion788UfFxMQoIiIiy/qdOnXSsGHDFBsbq/vvv1/SxVcZHnjgARUuXPi6/QHAXcEEACCHJSQkmJLMxx57zKH6GzZsMCWZvXr1sit/+eWXTUnmkiVLbGWlSpUyJZkxMTF2dZcuXWpKMkNCQsxz587ZyjMyMsyyZcuaLVq0MDMyMmzl586dM0uXLm0++OCDtrIpU6aYksy9e/fa1bvas88+a+bNm9c8f/68reyRRx4xS5Uqlanu3r17TUnmlClTbGU1atQwCxcubJ48edJWtnHjRtNisZhdunSxlQ0dOtSUZPbo0cOuzSeeeMIsUKBApr6ulJqaahYuXNisUqWKmZycbCtfsGCBKckcMmRIpvv+448/rtnmlXWzOkzTNM+cOWMGBASYvXv3trvuyJEjpr+/v115Vs92xowZpiRz2bJltrIxY8Zk+n0xzayf7SWSzKFDh9o+X3qWYWFhdvX27dtnurm5mSNHjrQr37x5s5knTx5b+V9//WVKMr/55pvsH04W0tPTTT8/P3PQoEGmaV7881igQAGzXbt2ppubm3nmzBnTNE3z/fffNy0Wi3n69Ols7yG753CproeHh7l7925b2caNG01J5ocffnjNMV56jlkdzz//vN3fG9M0zfvuu8+sXLmyaZqmWbt2bbNnz56maZrm6dOnTQ8PD3PatGm2v49XPq8b+XMGAHcKpnADAHLcpWnTvr6+DtVftGiRJNlNaZWkgQMHSlKmd6VLly6tFi1aZNlW165d7d6H3rBhg3bt2qVOnTrp5MmTOnHihE6cOKGzZ8/qgQce0LJly+ymoF7tyrbOnDmjEydOqHHjxjp37py2b9/u0P1dKS4uThs2bFC3bt2UP39+W3m1atX04IMP2p7FlZ577jm7z40bN9bJkydtzzkr69at07Fjx9SnTx+7d2kfeeQRVahQ4ZbfP584caJ++eUXu0O6mFWOj49XWFiY7VmfOHFCbm5uqlevnpYuXWpr48pne/78eZ04cUL169eXJK1fv/6Wxpedq5/lvHnzlJGRofbt29uNNzAwUGXLlrWN91KG+aeffnJ4+rwkWSwWNWzYUMuWLZMkbdu2TSdPntSrr74q0zS1evVqSRez0lWqVLmlxcGaN29uN3ugWrVq8vPz0549exy6/n//+5/t93Lu3Lnq27evPv3000x/L6/UqVMnzZs3T6mpqZozZ47c3Nz0xBNP3PQ9AMCdhincAIAc5+fnJ+liwOmI/fv3y2KxKDQ01K48MDBQAQEB2r9/v1351as/X+vcrl27JMn2nm9WEhISlC9fvizPbdmyRW+88YaWLFmSKWC91ruv2bl0L1dOO7+kYsWK+umnnzItblWyZEm7epfGevr0aduzvpF+KlSooBUrVtzw2K9Ut27dLBcRu/S8L03pvdqV4z116pSGDx+umTNn2hYyu+Rmnq0jsvrzYZpmtlsyXVo9vXTp0goPD9f777+v6dOnq3HjxmrTpo06d+6c7fTtSxo3bmybqr98+XIVLVpU99xzj6pXr67ly5frwQcf1IoVK275veGr/5xIF/+snD592qHry5Yta7cK+5NPPinDMDRu3Dj16NFDVatWzXRNx44d9fLLL+vHH3/U9OnT9eijjzr8xRkA3A0IoAEAOc7Pz0/FihXT33//fUPXGYbhUL2sVtzO7tyl7PKYMWNUo0aNLK/J7n3l+Ph43XffffLz89OIESNUpkwZeXp6av369Ro8ePA1M9fO5ObmlmW5+f/v8N5JLj2TL7/8UoGBgZnOX7kgVfv27bVq1Sq98sorqlGjhnx8fJSRkaGWLVs69Gyz+/Ny9b7FV8rqz4dhGPrxxx+zfM5X/tkYO3asunXrpu+++04///yz+vfvr8jISK1Zs0YlSpTIts97771XaWlpWr16tZYvX67GjRtLuhhYL1++XNu3b9fx48dt5TcrJ/6cPPDAA/roo4+0bNmyLAPookWLqmnTpho7dqxWrlzJytsAch0CaADAbfHoo4/qs88+0+rVq9WgQYNr1i1VqpQyMjK0a9cuVaxY0VZ+9OhRxcfHq1SpUjc9jktTWv38/Bze4/iS2NhYnTx5UvPmzbNb3Gnv3r2Z6joa/F+6lx07dmQ6t337dhUsWNApWytd2c/V2eAdO3bc0jO9lkvPu3Dhwtd83qdPn9bixYs1fPhwDRkyxFZ+KYN9peye7aVM/JUrXEvKNGPheuM1TVOlS5dWuXLlrlu/atWqqlq1qt544w2tWrVKjRo10ieffKK3334722vq1q0rDw8PLV++XMuXL7etpt2kSRNNnjxZixcvtn2+Fkf/jDnThQsXJElJSUnZ1unUqZN69eqlgIAA2z7SAJBb8A40AOC2GDRokLy9vdWrVy8dPXo00/l//vlH48ePlyTbD93jxo2zq/P+++9Luvje7s2qVauWypQpo/feey/LIOBaKzlfyuhdmcFLTU3Vxx9/nKmut7e3Q9OOixYtqho1amjatGl2gd/ff/+tn3/+2WkBSO3atVW4cGF98skndluB/fjjj9q2bdstPdNradGihfz8/DRq1CilpaVlOn/peWf1bKXMfwYk2b5QuDpQ9vPzU8GCBW3vF1+S1e9Pdp588km5ublp+PDhmcZimqZtS63ExERbMHlJ1apVZbFYMm21djVPT0/VqVNHM2bM0IEDB+wy0MnJyZowYYLKlCmT5XZvV8ruOeSkH374QZJUvXr1bOs89dRTGjp0qD7++GN5eHjcrqEBwG1BBhoAcFuUKVNGX3/9tTp06KCKFSuqS5cuqlKlilJTU7Vq1Sp98803tv2Gq1evrq5du+qzzz6zTZteu3atpk2bpscff1zNmjW76XFYLBZ9/vnnatWqlSpXrqzu3burePHiOnz4sJYuXSo/Pz9bkHC1hg0bKl++fOratav69+8vwzD05ZdfZjkltlatWpo1a5bCw8NVp04d+fj4qHXr1lm2O2bMGLVq1UoNGjRQz549bdtY+fv72+1dfCvc3d01evRode/eXffdd5/CwsJs21gFBwfrpZdecko/V/Pz89OkSZP0zDPP6J577lHHjh1VqFAhHThwQAsXLlSjRo300Ucfyc/PT02aNNG7776rtLQ0FS9eXD///HOW2f1atWpJurhdWMeOHeXu7q7WrVvbvqB555131KtXL9WuXVvLli3Tzp07HR5vmTJl9PbbbysiIkL79u3T448/Ll9fX+3du1fz58/X//73P7388stasmSJXnjhBbVr107lypXThQsX9OWXX8rNzU1t27a9bj+NGzfWO++8I39/f9tU6MKFC6t8+fLasWOHQ3tvX+s5OMP69ev11VdfSbq4fsHixYs1d+5cNWzYUA899FC21znzzy0A3HFctfw3AOC/aefOnWbv3r3N4OBg08PDw/T19TUbNWpkfvjhh3bbQKWlpZnDhw83S5cubbq7u5tBQUFmRESEXR3TvLiN1SOPPJKpn6y2zbnSX3/9ZT755JNmgQIFTKvVapYqVcps3769uXjxYludrLaxWrlypVm/fn3Ty8vLLFasmDlo0CDzp59+MiWZS5cutdVLSkoyO3XqZAYEBJiSbFtaZbfV0q+//mo2atTI9PLyMv38/MzWrVubW7dutatzaeul48eP25VnNc7szJo1y6xZs6ZptVrN/Pnzm08//bR56NChLNu7kW2srld36dKlZosWLUx/f3/T09PTLFOmjNmtWzdz3bp1tjqHDh0yn3jiCTMgIMD09/c327VrZ/7777+Ztm8yTdN86623zOLFi5sWi8Xu3s+dO2f27NnT9Pf3N319fc327dubx44dy3Ybq6uf5SVz58417733XtPb29v09vY2K1SoYPbt29fcsWOHaZqmuWfPHrNHjx5mmTJlTE9PTzN//vxms2bNzF9//fW6z8w0TXPhwoWmJLNVq1Z25b169TIlmVFRUZmuuZHnIMns27dvpjZKlSpldu3a9Zpjy2obqzx58pghISHmK6+8Yttq65Irt7HKDttYAcgtDNO8A1ccAQAAAADgDsM70AAAAAAAOIAAGgAAAAAABxBAAwAAAADgAAJoAAAAAIDLLVu2TK1bt1axYsVkGIa+/fbb614TGxure+65R1arVaGhoZo6dWqOjpEAGgAAAADgcmfPnlX16tU1ceJEh+rv3btXjzzyiJo1a6YNGzZowIAB6tWrl3766accGyOrcAMAAAAA7iiGYWj+/Pl6/PHHs60zePBgLVy4UH///betrGPHjoqPj1dMTEyOjIsMNAAAAADA6VJSUpSYmGh3pKSkOK391atXq3nz5nZlLVq00OrVq53Wx9Xy5FjLAAAAAACXWuhe3mV9//F6mIYPH25XNnToUA0bNswp7R85ckRFihSxKytSpIgSExOVnJwsLy8vp/RzJQJo4C6xefdRVw8BAAAA2agaWuT6lf5jIiIiFB4ebldmtVpdNBrnIIAGAAAAADid1WrN0YA5MDBQR4/aJ5mOHj0qPz+/HMk+SwTQAAAAAJBrGe6Gq4eQYxo0aKBFixbZlf3yyy9q0KBBjvXJImIAAAAAAJdLSkrShg0btGHDBkkXt6nasGGDDhw4IOnilPAuXbrY6j/33HPas2ePBg0apO3bt+vjjz/W7Nmz9dJLL+XYGMlAAwAAAEAuZclz92Sg161bp2bNmtk+X3p/umvXrpo6dari4uJswbQklS5dWgsXLtRLL72k8ePHq0SJEvr888/VokWLHBsj+0ADdwkWEQMAALhz3amLiMX4VXRZ3y0Tt7ms75xCBhoAAAAAcinDnbd2nYmnCQAAAACAAwigAQAAAABwAFO4AQAAACCXupsWEbsbkIHGf1a3bt1kGEamY/fu3ZKkyMhIubm5acyYMbZr5s6dKzc3Nx0+fDjLNsuWLWtbLVCSdu/ere7du6tEiRKyWq0qXbq0wsLCtG7dupy9OQC4jX5cME/Pd2+vsMeb69WXntWuHVuzrftLzA96Y9AL6tr+YXVt/7CGv/ZSpvofvT9KTz3SxO54+82Xc/o2AAC4LgJo/Ke1bNlScXFxdkfp0qUlSdHR0Ro0aJCio6Nt9du0aaMCBQpo2rRpmdpatmyZdu/erZ49e0q6uAx/rVq1tHPnTn366afaunWr5s+frwoVKmjgwIG35wYBIIetXLZY0yZPVLtO3fTuhM8VXDpUb7/5shLiT2dZf8vmv3Rvkwc0LHK8Ro2dpIKFCuutN1/WyRPH7erVqFVPk7+cbzsGDBp6O24HAHIdw91w2ZEbEUDjP81qtSowMNDucHNz02+//abk5GSNGDFCiYmJWrVqlSTJ3d1dzzzzjKZOnZqprejoaNWrV0+VK1eWaZrq1q2bypYtq+XLl+uRRx5RmTJlVKNGDQ0dOlTffffdbb5TAMgZP8yfreYtH9X9Dz6soJLB+t8LA2X19NSSnxdmWX/AK0PU8tEnVLpMWRUPKqXn+g+SmZGhzRv/tKvn7u6ufPkL2A4fX9/bcTsAAFwTATSQhaioKIWFhcnd3V1hYWGKioqynevZs6d27dqlZcuW2cqSkpI0Z84cW/Z5w4YN2rJliwYOHCiLJfNfs4CAgBy/BwDIaWlpadqze6eq1ahtK7NYLKpao5Z2bN/iUBupKSlKT78gH18/u/ItmzeoR6c26v+/p/XZxLE6k5jg1LEDAHAzCKDxn7ZgwQL5+PjYjnbt2ikxMVFz5sxR586dJUmdO3fW7NmzlZSUJEmqVKmS6tevbze1e/bs2TJNUx07dpQk7dq1S5JUoUKF23xHAHD7nElMUEZGuvwD8tmVBwTkV/zpUw618dWUT5Qvf0FVq1HLVlajVj31C39NQ0d9oM7dn9PWzRs0cugrSk9Pd+r4AeC/wJLHcNmRG7EKN/7TmjVrpkmTJtk+e3t7a8aMGSpTpoyqV68uSapRo4ZKlSqlWbNm2TLMPXr00EsvvaQPP/xQvr6+io6OVrt27eT7/1MMTdO86TGlpKQoJSXFrsxqtd50ewBwp5o/+yutXLZYw96ZIA+Py//O3XvfA7Zflwouo1LBZdS3V0dt2bzBLtAGAOB2IwON/zRvb2+FhobajqJFiyoqKkpbtmxRnjx5bMfWrVvtMs6XMs2zZ8/Wrl27tHLlSltwLUnlypWTJG3fvv2GxxQZGSl/f3+7IzIy8hbvFACcz9fPXxaLW6YFw+LjTykgX/5rXvvd3BmaP+drvfH2WAWXLnPNukWKFpOfn7+OxB265TEDwH8Ni4g5Fxlo4AqbN2/WunXrFBsbq/z5L//wd+rUKTVt2lTbt29XhQoV5Ovrq3bt2ik6Olr//POPypUrp8aNG9vq16hRQ5UqVdLYsWPVoUOHTO9Bx8fHZ/sedEREhN1WWNLFDPTOg/FOu08AcAZ3d3eFhJbT5g1/qm6Di/8GZmRkaPOG9Wr16BPZXvftnK81b9aXeuOt9xRa9vqvupw8cUxnziQqX74CThs7AAA3gwAauEJUVJTq1q2rJk2aZDpXp04dRUVF2faF7tmzpxo3bqxt27Zp8ODBdnUNw9CUKVPUvHlzNW7cWK+//roqVKigpKQk/fDDD/r555/122+/ZTkGq9XKlG0Ad43WT7TXR+9HqkzZ8gotV1ELv/tGKeeT1ezBhyVJE8aOVIECBfV0t2clSfO/ma5ZX0VrwKA3VahwoE6fOilJ8vTykpdXXiUnn9M3X09V/Ub3KSBffh2J+1dfRU9SYNHiqlGrrsvuEwAAiQAasElNTdVXX32VKRi+pG3btho7dqxGjRold3d33XvvvSpfvrx2796tLl26ZKpft25drVu3TiNHjlTv3r114sQJFS1aVA0bNtS4ceNy+G4A4PZo1OQBJSbEa+ZX0Yo/fUrBIaF6fcR7tincJ44flcW4PI3v50Xf6cKFNL03aohdO+06dVOHp3vIYnHT/n3/KHZxjM6dTVK+/AVVvWYddXymp9zdPW7rvQFAbpBbF/NyFcO8ldWOANw2m3cfdfUQAAAAkI2qoUVcPYQs/Vaxhsv6vm/bBpf1nVPIQAMAAABALmW4kYF2JlbhBgAAAADAAWSgAQAAACCXspCBdioy0AAAAAAAOIAAGgAAAAAABzCFGwAAAAByKcPCFG5nIgMNAAAAAIADyEADAAAAQC5luJEzdSaeJgAAAAAADiCABgAAAADAAUzhBgAAAIBcin2gnYsMNAAAAAAADiADDQAAAAC5FNtYORcBNHCXqBpaxNVDAAAAAP7TCKCBu8TW3f+6eggAAADIRqXQYq4eQpZ4B9q5eAcaAAAAAAAHEEADAAAAAOAApnADAAAAQC5lMIXbqchAAwAAAADgADLQAAAAAJBLGRZyps7E0wQAAAAAwAEE0AAAAAAAOIAp3AAAAACQSxkWFhFzJjLQAAAAAAA4gAAa/yndunWTYRiZjt27d0uSjhw5on79+ikkJERWq1VBQUFq3bq1Fi9erNTUVBUsWFDvvPNOlm2/9dZbKlKkiNLS0iRJqampevfdd1W9enXlzZtXBQsWVKNGjTRlyhRbHQDIDRYtmK//de+o9o8/pEEvPa+dO7ZlW/fnmAV6bVB/dW7fWp3bt9bQ1wZmWf/ggf0aNfx1Pd3uUXV8spVeGfCcjh87mpO3AQC5ksXNcNmRGzGFG/85LVu21JQpU+zKChUqpH379qlRo0YKCAjQmDFjVLVqVaWlpemnn35S3759tX37dnXu3FlTpkzRq6++ane9aZqaOnWqunTpInd3d6WmpqpFixbauHGj3nrrLTVq1Eh+fn5as2aN3nvvPdWsWVM1atS4jXcNADljxbIlmjJ5kp574SWVK19RP3w7RyPeHKSPPvtCAQH5MtXfsnmDGje5XxWerSJ3Dw/NnzNDw998RRM+nqICBQtJkuLiDuu1Qf3V/KFW6ti5m7zy5tXB/fvk7uFxu28PAAA7hmmapqsHAdwu3bp1U3x8vL799ttM5x5++GFt2rRJO3bskLe3t925+Ph4BQQEaPPmzapWrZqWL1+ue++913Y+NjZWzZo107Zt21ShQgW9++67ioiI0Lp161SzZk27ttLS0pSampqpj+vZuvvfG6oPALfDoJeeV2i5Cvrf8y9KkjIyMtS7Wwc9/OgTatu+03WvT09P1zMd2qj38/3V7IEWkqSxo0fIzS2PBrz8Wo6OHQCcqVJoMVcPIUsbWzZxWd/VY5a5rO+cwhRuQNKpU6cUExOjvn37ZhnYBgQESJKqVq2qOnXqKDo62u78lClT1LBhQ1WoUEGSNH36dDVv3jxT8CxJ7u7uNxw8A8CdKC0tTf/s3qnqNWrZyiwWi6rVuEc7tm9xqI3UlBSlp1+Qj6+fpIsB+Lo/1qhY8RIa/uYr6trpCQ166Xn9vnpFjtwDAAA3ggAa/zkLFiyQj4+P7WjXrp12794t0zRtAfC19OzZU998842SkpIkSWfOnNGcOXPUo0cPW51du3Y51BYA3M3OJCYoIyND/ldN1Q4IyKf406ccauOLKZ8qX/6CtiA8IT5e55OTNe+bGap5T10Ne2uM6jVorNEjh+jvzRucfQsAANwQ3oHGf06zZs00adIk22dvb28dOHDA4evDwsL00ksvafbs2erRo4dmzZoli8WiDh062OrcypsRKSkpSklJsSuzWq033R4A3Knmzv5aK5Yt1VvvfCCP/3+/2TQzJEl16zdUmyfaSZJKlwnVjm1b9NOiH1Slag1XDRcA7kqGhZypM/E08Z/j7e2t0NBQ21G0aFGVLVtWhmFo+/bt173ez89PTz31lG0hsilTpqh9+/by8fGx1SlXrpxDbWUlMjJS/v7+dkdkZORNtQUAOcnXz18Wi0UJ8aftyuPjTysgX/5rXvvt3FmaN+drDX17jIJLl7Fr083NTUElg+3qlwgqqRPHWYUbAOBaBNCApPz586tFixaaOHGizp49m+l8fHy83eeePXtqxYoVWrBggVatWqWePXvane/UqZN+/fVX/fXXX5naSktLy7KPSyIiIpSQkGB3RERE3NyNAUAOcnd3V5nQctq0Yb2tLCMjQ5s3rFf5CpWzvW7+nBn6ZuaXGjLiXYWWLZ+pzdCyFXT40EG78n//PaRChYs49wYA4D/AsBguO3IjAmjg/02cOFHp6emqW7eu5s6dq127dmnbtm2aMGGCGjRoYFe3SZMmCg0NVZcuXVShQgU1bNjQ7vyAAQPUqFEjPfDAA5o4caI2btyoPXv2aPbs2apfv7527dqV7TisVqv8/PzsDqZwA7hTtXminX75aYGW/Bqjgwf269OJH+j8+fN64MGWkqTxY0fpy6mTbfXnfTNDX385RS8MeEWFCwfq9KlTOn3qlJKTk211Hm/bQSuXL9XPMQsU9+9hLfphvv74fZVaPvL47b49AADs8A408P9CQkK0fv16jRw5UgMHDlRcXJwKFSqkWrVq2b0zLUmGYahHjx567bXXsswOW61W/fLLL/rggw/06aef6uWXX1bevHlVsWJF9e/fX1WqVLldtwUAOereJvcrMSFBM7+aqtOnT6l0SBkNGTHaNoX7+PFjMozL39fHLPpOFy6k6d1Rw+za6dCpqzo+3U2SVL9hYz3b9yXN++ZrRX36oYoVD9Kg14arUuWqt+u2AADIEvtAA3cJ9oEGAAC4c92p+0Bveex+l/Vd+bslLus7pzCFGwAAAAAABzCFGwAAAAByqdy6mJerkIEGAAAAAMABZKABAAAAIJcyLORMnYmnCQAAAACAAwigAQAAAABwAFO4AQAAACCXYhEx5yIDDQAAAACAA8hAAwAAAEAuRQbauchAAwAAAADgAAJoAAAAAAAcwBRuAAAAAMilmMLtXATQwF2iUmgxVw8BAAAA+E8jgAbuEl8uc/UIAAAAkJ1nmrh6BFkzLLy160w8TQAAAAAAHEAGGgAAAAByKYsb70A7ExloAAAAAAAcQAANAAAAAIADmMINAAAAALkU21g5FxloAAAAAAAcQAYaAAAAAHIptrFyLp4mAAAAAAAOIIAGAAAAAMABBNDAVbp16ybDMPTOO+/YlX/77bcyjMuLMJimqc8++0z16tWTj4+PAgICVLt2bY0bN07nzp2TJA0bNkyGYcgwDOXJk0fBwcF66aWXlJSUdFvvCQBy0rql0/Xhq/cr8vmqih7VTof3brpm/a3rftSkN1sq8vmq+nRYa+3e/Fu2dRd9OURv9y6v33+d6uRRA8B/g2ExXHbkRgTQQBY8PT01evRonT59Ots6zzzzjAYMGKDHHntMS5cu1YYNG/Tmm2/qu+++088//2yrV7lyZcXFxWnfvn0aPXq0PvvsMw0cOPB23AYA5LgtfyzSL7Mj1bh1X/V6c76KlKigGeN66mziySzrH9y9XvMnD1SNe59S7yHfqnyNBzR7Yl8dO7wzU93t63/R4T0b5RtQOKdvAwAAhxBAA1lo3ry5AgMDFRkZmeX52bNna/r06ZoxY4Zee+011alTR8HBwXrssce0ZMkSNWvWzFY3T548CgwMVIkSJdShQwc9/fTT+v7772/XrQBAjvr9lymq2bi9ajRqq0LFQvVw5+Fy9/DUhpVzs6z/x+IvVKZyYzVo0UsFi5ZR08cHqGjJSlq35Cu7eomnj+qnGW/p8V7vyeLmfjtuBQByJTLQzkUADWTBzc1No0aN0ocffqhDhw5lOj99+nSVL19ejz32WKZzhmHI398/27a9vLyUmprq1PECgCukX0hV3P4tKl2xoa3MsFgUXLGhDv/zV5bXHNqzQaUrNbArC6l8rw7t2WD7bGZk6LuoV9SgRU8VKl42R8YOAMDNIIAGsvHEE0+oRo0aGjp0aKZzu3btUvny5W+4zT///FNff/217r//fmcMEQBc6lzSaZkZ6fL2K2BX7uNXQEmJJ7K8JinhhLx9C9qVefsV0NmEy/VXxUyWxS2P6jzQxfmDBoD/GMNicdlxMyZOnKjg4GB5enqqXr16Wrt27TXrjxs3TuXLl5eXl5eCgoL00ksv6fz58zfVtyPYBxq4htGjR+v+++/Xyy+/bFdumqbDbWzevFk+Pj5KT09XamqqHnnkEX300UfZ1k9JSVFKSopdmdVqlWS9obEDwN0obv/fWrv4C/V6c57dwo0AgNxv1qxZCg8P1yeffKJ69epp3LhxatGihXbs2KHChTOvh/H111/r1VdfVXR0tBo2bKidO3faFgR+//33c2SMZKCBa2jSpIlatGihiIgIu/Jy5cpp+/btDrVRvnx5bdiwQdu2bVNycrK+//57FSlSJNv6kZGR8vf3tzuyexcbAFwpr08+GRa3TAuGJSWelI9fwSyv8fEvqLNn7LPTZxNPytv/Yv0Du9bp7JmTmjC4mUY+W0kjn62khJOH9evs0frwVWbvAEBu9v7776t3797q3r27KlWqpE8++UR58+ZVdHR0lvVXrVqlRo0aqVOnTgoODtZDDz2ksLCw62atbwUZaOA63nnnHdWoUcNuynanTp3UsWNHfffdd5negzZNU4mJibb3oD08PBQaGupwfxEREQoPD7crs1qtmv37LdwEAOQAtzweKlqqsvZuW63yNZtLuvj+8r5tq1X7/s5ZXlMipIb2bVujes272cr2blulEiE1JElV6z9m9061JM0Y11NV6z+m6o2ezJH7AIDc7G5ZzCs1NVV//vmnXeLKYrGoefPmWr16dZbXNGzYUF999ZXWrl2runXras+ePVq0aJGeeeaZHBsnATRwHVWrVtXTTz+tCRMm2Mrat2+v+fPnKywsTG+88YYeeughFSpUSJs3b9YHH3ygfv366fHHH7+p/qxW6/9P2QaAO1+9B7vr++jBKhpcRcVLV9Pvv05TWmqyLdj9LmqQfPMV0f1PXty+r84DXfTle89ozc/RCq16n7b8sUj/7vtbDz8zQtLFrHZen3x2fVjc3OXtX1AFAkNu780BAG5Jdq8mZvWz7okTJ5Senp5ppmaRIkWynfnZqVMnnThxQvfee69M09SFCxf03HPP6bXXXnPeTVyFKdyAA0aMGKGMjAzbZ8Mw9PXXX+v999/Xt99+q/vuu0/VqlXTsGHD9Nhjj6lFixYuHC0A3D6V6zys5u0G67fvJmjyiMd09OA2hb34uW0Kd8KpOCXFH7fVDwq9R4/3ek/rl83S5BGPafufP6l934kqXLycq24BAHI1Vy4iltOvJsbGxmrUqFH6+OOPtX79es2bN08LFy7UW2+95bQ+rmaYN7IaEgCX+XKZq0cAAACA7DzTxNUjyNqhF9q5rO9CY79yOAOdmpqqvHnzas6cOXYzObt27ar4+Hh99913ma5p3Lix6tevrzFjxtjKvvrqK/3vf/9TUlKSLDe5Evi1kIEGAAAAADid1WqVn5+f3ZHdq4oeHh6qVauWFi9ebCvLyMjQ4sWL1aBBgyyvOXfuXKYg2c3NTdKN7ZpzI3gHGgAAAAByq7toS8Dw8HB17dpVtWvXVt26dTVu3DidPXtW3bt3lyR16dJFxYsXt00Db926td5//33VrFlT9erV0+7du/Xmm2+qdevWtkDa2QigAQAAAAAu16FDBx0/flxDhgzRkSNHVKNGDcXExNgWFjtw4IBdxvmNN96QYRh64403dPjwYRUqVEitW7fWyJEjc2yMvAMN3CV4BxoAAODOdae+A334xQ4u67v4+Fku6zun8A40AAAAAAAOIIAGAAAAAMABvAMNAAAAALmUkQNbOf2X8TQBAAAAAHAAGWgAAAAAyKUMy92zjdXdgAw0AAAAAAAOIAMNAAAAALkU70A7F08TAAAAAAAHkIEG7hLPNHH1CAAAAID/NgJo4C7x66YUVw8BAAAA2WhezerqIWSJRcSciyncAAAAAAA4gAw0AAAAAORSZKCdiww0AAAAAAAOIIAGAAAAAMABTOEGAAAAgNyKfaCdiqcJAAAAAIADyEADAAAAQC5lGCwi5kxkoAEAAAAAcAAZaAAAAADIpQzegXYqnib+M44cOaJ+/fopJCREVqtVQUFBat26tRYvXixJCg4O1rhx4zJdN2zYMNWoUcP2efLkyWrcuLHy5cunfPnyqXnz5lq7dm2m67Zs2aL27durUKFCslqtKleunIYMGaJz587l1C0CgEv8FjNTb/ZpqRc71da7EZ20b9fmbOv+e3C3Jr/3kt7s01J921XTkoVfXrPtn+dHqW+7apozZbSzhw0AwA0jgMZ/wr59+1SrVi0tWbJEY8aM0ebNmxUTE6NmzZqpb9++N9RWbGyswsLCtHTpUq1evVpBQUF66KGHdPjwYVudNWvWqF69ekpNTdXChQu1c+dOjRw5UlOnTtWDDz6o1NRUZ98iALjEnytjNG/aGD3c7jm9OnqWSpQqr49GPqczCSezrJ+Wcl4FCpfQY0+/KL+Agtdse//uv7Xil29UvFS5nBg6AAA3jCnc+E/o06ePDMPQ2rVr5e3tbSuvXLmyevTocUNtTZ8+3e7z559/rrlz52rx4sXq0qWLTNNUz549VbFiRc2bN0+W/582U6pUKZUrV041a9bUBx98oMGDB9/6jQGAiy1e8IUaPtBWDZo9Lknq+L839ff65Vq95Fs99ETPTPVLhVZRqdAqkqTvpo/Ptt3zyec0dUKEOj03TDFzP8uRsQPAf4FhYRExZyIDjVzv1KlTiomJUd++fe2C50sCAgJuqf1z584pLS1N+fPnlyRt2LBBW7duVXh4uC14vqR69epq3ry5ZsyYcUt9AsCd4EJamg7u2aYK1erbyiwWiypUq6c9OzfeUtuzo0aq8j2N7doGAMDVCKCR6+3evVumaapChQrXrTt48GD5+PjYHaNGjbruNcWKFVPz5s0lSTt37pQkVaxYMcv6FStWtNUBgLtZ0pnTyshIl69/AbtyX/8CSow/cdPtrlv5ow7u2abHOr14q0MEAFgsrjtyIaZwI9czTdPhuq+88oq6detmVzZhwgQtW7Ysy/rvvPOOZs6cqdjYWHl6et50v1dKSUlRSkqKXZnVar2ptgDgbnP6xBHNmTJa/d78TO4e/NsHALizEEAj1ytbtqwMw9D27duvW7dgwYIKDQ21K7s0Nftq7733nt555x39+uuvqlatmq28XLmLi91s27ZNNWvWzHTdtm3bbHWyEhkZqeHDh9uVDR06VPc+GXHd8QPA7eTjm08Wi1umBcPOJJy87gJh2TmwZ6vOJJzSO4M62MoyMtK1e9uf+i1mpsZ/vU4WN7dbGjcAADeLABq5Xv78+dWiRQtNnDhR/fv3z/QedHx8/A2/B/3uu+9q5MiR+umnn1S7dm27czVq1FCFChX0wQcfqGPHjnbvQW/cuFG//vqrIiMjs207IiJC4eHhdmVWq1XLd9zQEAEgx+Vxd1dQSEXt2Py7qte9X5KUkZGhHZt/130tw26qzfJV6+n1sXPtyr78eIiKFCuthx7vTvAMADeIRcScK3dOTAeuMnHiRKWnp6tu3bqaO3eudu3apW3btmnChAlq0KDBDbU1evRovfnmm4qOjlZwcLCOHDmiI0eOKCkpSZJkGIaioqK0detWtW3bVmvXrtWBAwf0zTffqHXr1mrQoIEGDBiQbftWq1V+fn52B1O4AdypHni0i1Yunqs1sd/pyKE9mjn5baWkJKv+/6/KPe3D1+xW276QlqaDe7fr4N7tSr+QpviTx3Rw73YdizsgSfL08laxkmXtDqvVSz6+/ipWsqwrbhEAABsy0PhPCAkJ0fr16zVy5EgNHDhQcXFxKlSokGrVqqVJkybdUFuTJk1SamqqnnrqKbvyoUOHatiwYZKkhg0bas2aNRo+fLhatWqlM2fOqGTJkuratasiIiIIiAHkGrUatdSZxNNaMOtjnYk/oeLB5dX39UnyC7i4sNjpE0dkGJe/r084fUzvDGpv+7z4h2la/MM0la1UWwOGR9/28QNAbnflv8G4dYZ5sysdAbitft2Ucv1KAAAAcInm1e7MBMnpkc+7rO98r99YoupuQAYaAAAAAHIr3oF2KvL5AAAAAAA4gAAaAAAAAAAHMIUbAAAAAHIpw0LO1Jl4mgAAAAAAOIAMNAAAAADkUgaLiDkVGWgAAAAAABxAAA0AAAAAgAOYwg0AAAAAuZVBztSZeJoAAAAAADiADDQAAAAA5FIsIuZcZKABAAAAAHAAGWjgLtG8mtXVQwAAAMDdxkLO1JkIoIG7RN/34l09BAAAAGRj4ssBrh4CbgO+jgAAAAAAwAFkoAEAAAAglzIMFhFzJjLQAAAAAAA4gAw0AAAAAORWLCLmVDxNAAAAAAAcQAANAAAAAIADmMINAAAAALmUYWERMWciAw0AAAAAgAPIQAMAAABAbmWQM3UmniaQhePHj+v5559XyZIlZbVaFRgYqBYtWmjlypW2On/99ZfatWunIkWKyNPTU2XLllXv3r21c+dOu7bmzp2rpk2byt/fXz4+PqpWrZpGjBihU6dO3e7bAoAc80gjT416zk8fvOivfu28VSjg2j9ihJZw03NPeGvkc36a+HKAqoW6Z6pjdZfaP+Clt5+92O4b3X11b3WPnLoFAACuiwAayELbtm31119/adq0adq5c6e+//57NW3aVCdPnpQkLViwQPXr11dKSoqmT5+ubdu26auvvpK/v7/efPNNWzuvv/66OnTooDp16ujHH3/U33//rbFjx2rjxo368ssvXXV7AOBUD9a1qmlNq2b+ck5jpp9Rapr0wlPeyuOW/TUe7oYOHUvX7F+Ts63zZFMvVQrOo2mLzumtKWe09M8UtX/AS1XLMIEOABxmMVx35EL8DwRcJT4+XsuXL1dsbKzuu+8+SVKpUqVUt25dSdK5c+fUvXt3Pfzww5o/f77tutKlS6tevXqKj4+XJK1du1ajRo3SuHHj9OKLL9rqBQcH68EHH7TVA4C7XbN7rIpZc16b/rkgSZq26Kze6eOv6qHu+nNHWpbXbN17QVv3XrhmuyHF82jNllTtOnix3spNqbq3modKBebR5n+ufS0AADmBDDRwFR8fH/n4+Ojbb79VSkpKpvM//fSTTpw4oUGDBmV5fUBAgCRp+vTp8vHxUZ8+fa5ZDwDuZgX8LfL3sWjH/ssB7flUaV9cukoXu7Xv6fccvqBqoe7y97mYxSgblEeF87tp+/6sg3IAAHIaGWjgKnny5NHUqVPVu3dvffLJJ7rnnnt03333qWPHjqpWrZp27dolSapQocI129m1a5dCQkLk7p75vT4AyC38vC8Gt4nnMuzKz5zLsJ27Wd8sSVbYQ3k16jl/paebyjClr38+p92H0m+pXQD4LzFYRMypCKCBLLRt21aPPPKIli9frjVr1ujHH3/Uu+++q88//1ymaTrUhqP1rpaSkpIp8221Wm+qLQBwtjoV3RX2YF7b54/nJeVYX/fVtKp0UTdNmpekU4kZKhuURx2a51VC0lntOMAUbgDA7cfXEUA2PD099eCDD+rNN9/UqlWr1K1bNw0dOlTlypWTJG3fvv2a15crV0579uxRWtqNTTWMjIyUv7+/3REZGXnT9wEAzrRpd5oivzhjO84mX/yy0C+v/Y8UvnktSjx7c18kSpJ7HqlNY0/NjU3W33su6N8TGfrtr1T9uT1VzevwpSIAOIxFxJyKABpwUKVKlXT27Fk99NBDKliwoN59990s611aHKxTp05KSkrSxx9/fM16V4uIiFBCQoLdERER4YxbAIBblpImHY/PsB1xJzOUkJSh8qUuT2rz9JCCi7pp7783nyV2s0h53AxdPZnHNCUjd/5MBgC4CzCFG7jKyZMn1a5dO/Xo0UPVqlWTr6+v1q1bp3fffVePPfaYvL299fnnn6tdu3Zq06aN+vfvr9DQUJ04cUKzZ8/WgQMHNHPmTNWrV0+DBg3SwIEDdfjwYT3xxBMqVqyYdu/erU8++UT33nuv3ercl1it1mymbGe/1QsAuNLS9SlqWd+qY6fTdTIhQ4828lJCUoY27r48A6d/O29t3J2m3/5KlXRxj+dCAZf3uSrgb1GJQm46ez5Dp8+YOp8q7Tx4QU/c56W0C8kXp3CXyKO6lTw0L5Z/DwEArkEADVzFx8dH9erV0wcffKB//vlHaWlpCgoKUu/evfXaa69Jkh577DGtWrVKkZGR6tSpkxITExUUFKT7779fb7/9tq2t0aNHq1atWpo4caI++eQTZWRkqEyZMnrqqafUtWtXV90iADjVL2tT5OFuqNNDeeVlNfTP4QuaOPesLlyx1lfBADd5e10uKBmYRwM6+Ng+P9XMS5K05u9UfRlzTpI05YezatPEU90ezqu8noZOJWbohxXntXxj6u25MQDIBQwLk46dyTBvdqUjALdV3/fiXT0EAAAAZGPiywGuHkKWzkUNcVnfeXuOcFnfOYUMNAAAAADkViwc4VTk8wEAAAAAcAAZaAAAAADIrXgH2ql4mgAAAAAAOIAAGgAAAAAABzCFGwAAAAByKxYRcyoy0AAAAAAAOIAMNAAAAADkUgaLiDkVTxMAAAAAAAcQQAMAAAAA4ACmcAMAAABAbmWQM3UmniYAAAAAAA4gAw3cJSa+HODqIQAAAOBuY2EbK2cigAbuEi+8n+DqIQAAACAbH4X7u3oIucLEiRM1ZswYHTlyRNWrV9eHH36ounXrZls/Pj5er7/+uubNm6dTp06pVKlSGjdunB5++OEcGR8BNAAAAADA5WbNmqXw8HB98sknqlevnsaNG6cWLVpox44dKly4cKb6qampevDBB1W4cGHNmTNHxYsX1/79+xUQEJBjYySABgAAAIBcyriLFhF7//331bt3b3Xv3l2S9Mknn2jhwoWKjo7Wq6++mql+dHS0Tp06pVWrVsnd3V2SFBwcnKNjvHueJgAAAAAgV0pNTdWff/6p5s2b28osFouaN2+u1atXZ3nN999/rwYNGqhv374qUqSIqlSpolGjRik9PT3HxkkGGgAAAAByKxcuIpaSkqKUlBS7MqvVKqvVmqnuiRMnlJ6eriJFitiVFylSRNu3b8+y/T179mjJkiV6+umntWjRIu3evVt9+vRRWlqahg4d6rwbuQIZaAAAAACA00VGRsrf39/uiIyMdFr7GRkZKly4sD777DPVqlVLHTp00Ouvv65PPvnEaX1cjQw0AAAAAORWLnwHOiIiQuHh4XZlWWWfJalgwYJyc3PT0aNH7cqPHj2qwMDALK8pWrSo3N3d5ebmZiurWLGijhw5otTUVHl4eNziHWRGBhoAAAAA4HRWq1V+fn52R3YBtIeHh2rVqqXFixfbyjIyMrR48WI1aNAgy2saNWqk3bt3KyMjw1a2c+dOFS1aNEeCZ4kAGgAAAABwBwgPD9fkyZM1bdo0bdu2Tc8//7zOnj1rW5W7S5cuioiIsNV//vnnderUKb344ovauXOnFi5cqFGjRqlv3745NkamcAMAAABAbmW4bhGxG9WhQwcdP35cQ4YM0ZEjR1SjRg3FxMTYFhY7cOCALJbLOeCgoCD99NNPeumll1StWjUVL15cL774ogYPHpxjYzRM0zRzrHUATvPC+wmuHgIAAACy8VG4v6uHkKXz34x1Wd+e7Qa6rO+cwhRu4Dq6desmwzAyHbt375Z0cXVBNzc3jRkzJtO1U6dOzfLazz///HbfBgDkqEcaWjXyf756v7+fXmjrrUIB1/4Ro0xxNz37WF6N/J+vPgr3V7UymSfFebhL7e731Fu9L7b7elcf3VstZ95pA4Bcy2Jx3ZEL5c67ApysZcuWiouLsztKly4tSYqOjtagQYMUHR2d5bV+fn6Zrn366adv5/ABIEc1r+Oh+2pYNXNxst77Okmpaab6PumtPG7ZX2N1N3T4eLpmLUnOtk7b+7xUKTiPvvjxnN6eekax61PU7n5PVQ3hDTQAgGsQQAMOsFqtCgwMtDvc3Nz022+/KTk5WSNGjFBiYqJWrVqV6VrDMDJd6+Xl5YK7AICc0aymVT/9fl6b/7mgf09k6IuYc/L3MVQ91D3ba7buu6AFq1K0afeFbOuULuam37ekadehdJ1KNLVyc5oOH89QqcBrROYAAOQgAmjgFkRFRSksLEzu7u4KCwtTVFSUq4cEALdVAX9D/j4WbT9wORA+nyrtO5Ku4KK3Fuju/TddVcvkkb/PxQVwyga5qXA+i7btzz7oBgBcxbC47siFmAMFOGDBggXy8fGxfW7VqpWioqI0Z84crV69WpLUuXNnNW7cWOPHj7erm5CQYPfZx8dHR44cuX2DB4Ac5Jf34g9IZ87Zr0l65myG/LxvbeXXb5YmK6y5l0b+z0/p6aYyTGnGL8n653D6LbULAMDNIoAGHNCsWTNNmjTJ9tnb21szZsxQmTJlVL16dUlSjRo1VKpUKc2aNUs9e/a01fX19dX69ettny3XWVAhJSVFKSkpdmXZbTgPALdb7QruCmt++TWUSd+ezbG+7qvhoeCibvrk27M6lZih0BJ51P4BLyWczdCOAwTRAOAQy92zjdXdgAAacIC3t7dCQ0PtyqKiorRlyxblyXP5r1FGRoaio6PtAmiLxZLp2muJjIzU8OHD7cqGDh0q+b10k6MHAOfZ/E+a9h25HLxeWijMN6+hxLOXs9C+3hYdOnbzQa57Hqn1vZ6a/P05bdl7ccr2vydSVaKQmx6obdWOA+duum0AAG4WATRwEzZv3qx169YpNjZW+fPnt5WfOnVKTZs21fbt21WhQoWbajsiIkLh4eF2ZVarVQMnnr+lMQOAM6SkSSnxGXZlCUkZKl8yjw4fT5UkeXpIwYFuWrEx9ab7cbNIedwMmfYzw5VhmjJENgUAHJZL30V2FQJo4CZERUWpbt26atKkSaZzderUUVRUVJb7QjvCarVmM2WbABrAnWnpXylqWc9Tx09n6GRihh5p6KmEJFMbd6fZ6vR7ylsbd6dp2YaLQbWHu+z2ii7gb1HxQhadO2/q9BlT51OlXQcv6PEmnkq7kGybwl23kofmxfLvIQDANQiggRuUmpqqr776SoMHD87yfNu2bTV27FiNGjXqNo8MAFzj1z9SZXU3FPagl7yshv45nK6P553VhStmcBf0t8jH63LmuFQRN73Y/vICi22bXnyves2WVH3108W9oaMXntNj93qq68N5ldfT0KnEDC1YcV4rNt18ZhsAgFthmObVk6MA3IleeD/B1UMAAABANj4K93f1ELJ0/vuJLuvbs01fl/WdU5gQDwAAAACAA5jCDQAAAAC51XW2UMWN4WkCAAAAAOAAAmgAAAAAABzAFG4AAAAAyK0M4/p14DAy0AAAAAAAOIAMNAAAAADkVgY5U2fiaQIAAAAA4AAy0AAAAACQW7GNlVPxNAEAAAAAcAABNAAAAAAADmAKNwAAAADkVmxj5VQE0MBd4qNwf1cPAQAAAPhPI4AG7hLDv0pz9RAAAACQjaGd3V09hKyxjZVT8TQBAAAAAHAAATQAAAAAAA5gCjcAAAAA5FYsIuZUZKABAAAAAHAAGWgAAAAAyK0s5EydiacJAAAAAIADyEADAAAAQC5l8g60U5GBBgAAAADAAQTQAAAAAAA4gCncwFWM60xzGTp0qJo2bapmzZrp9OnTCggIsDsfHBysAQMGaMCAAddsb8aMGerYsaMzhgwAd4Sm1Sy6p6xFnu7SweOmFq5N16kz2dcvWdhQw0oWFctvyDevoZmxF7TjkHnL7QIArmCQM3UmAmjgKnFxcbZfz5o1S0OGDNGOHTtsZT4+Plq3bt0NtTllyhS1bNnSruzqwBsA7maNKllUr4JF365K1+kkU82qu6nz/Xk08YcLSs/I+hqPPNLR06Y2/JOhDvdl/SPJzbQLAEBOIYAGrhIYGGj7tb+/vwzDsCu7GQEBAbfcBgDcyepVtGjZ5gxbBvnbVel6+ak8qhBkaMv+zFllSdr9r6nd/2Z97lbaBQBcgQy0U/E0AQDALQnwkXy9DO05cjklnJImHTphKqjQza/+mlPtAgBws8hAA7dBWFiY3Nzc7Mq2bt2qkiVLumhEAOA8Pp4Xg9mz5+3Lz56XvD1vPtDNqXYBALhZBNDAbfDBBx+oefPmdmXFihXLsm5KSopSUlLsyqxWq5gwAuBOUTXY0KP1Ln8p+PXSdBeOBgBwLewD7VwE0MBN8PPzkyQlJCRkWgwsPj5e/v7+dmWBgYEKDQ11qO3IyEgNHz7crmzo0KEyQl+/+QEDgBPtOGTq0IkLts95/j+W9vaUkpIv1/P2vLhI2M1KOm/mSLsAANwsUlrATShbtqwsFov+/PNPu/I9e/YoISFB5cqVu+m2IyIilJCQYHdERETc6pABwGlSL0inky4fxxOkM8mmQgIv/1jh4S6VKGjo4PGbD3Tjk3KmXQD4TzEsrjtyITLQwE3w9fVVr169NHDgQOXJk0dVq1bVwYMHNXjwYNWvX18NGza0qx8fH68jR45kasPb2ztT21ar9f+nbF8tzZm3AABO9fu2DDWuYtHJM6bi/3+7qTPnpO0HLwe6zzzgpu0HTf2x8+KiYO55pPy+l9vI52OoSD5TySlS4jnH2wUA4HYhgAZu0vjx4/XOO+9o8ODB2r9/vwIDA/Xggw9q5MiRMq5616R79+6Zro+MjNSrr756u4YLADlq5dYMueeRWtdzk6eHdOCYqa+W2O/VnN/XUF7Py4FvsQKGuj14+UeRFrXdJLlpwz8Z+m51usPtAgCugXegncowTZOvcIG7wPCvyEADAADcqYZ2dnf1ELJ0bvk3Lus7b+N2Lus7p+TOiekAAAAAADgZU7gBAAAAILeykDN1Jp4mAAAAAAAOIAMNAAAAALmUySJiTkUGGgAAAAAABxBAAwAAAADgAKZwAwAAAEBuZZAzdSaeJgAAAAAADiADDQAAAAC5lEkG2ql4mgAAAAAAOIAMNAAAAADkVmxj5VRkoAEAAAAAcAAZaOAuMbSzu6uHAAAAAPynEUADd4mF7uVdPQQAAABk45G0Ha4eQpZYRMy5eJoAAAAAADiADDQAAAAA5FYsIuZUZKABAAAAAHAAATQAAAAAAA5gCjcAAAAA5FYsIuZUPE0AAAAAABxABhoAAAAAcimTRcScigw0AAAAAAAOIIAGAAAAAMABBNDANXTr1k2GYdiOAgUKqGXLltq0aZOtzqVza9assbs2JSVFBQoUkGEYio2Ntav/7bff3qY7AICclf/e2qo9f5Ie2L9cj6TtUJE2D1z/miZ1de/aeWqZtFlNt/2sEl2eyFSn1POd1GzXYrU8s0kNV86Wf52qOTF8AMj9DIvrjlwod94V4EQtW7ZUXFyc4uLitHjxYuXJk0ePPvqoXZ2goCBNmTLFrmz+/Pny8fG5nUMFgNvOzTuvEjft0N/9hztU3yu4hOp8/6lOxv6uFbUf094Pp6nqp2+r4IP32uoUbddKFcdEaNfbE7Wi7hM6s2m76i2Mkkeh/Dl1GwAAOIQAGrgOq9WqwMBABQYGqkaNGnr11Vd18OBBHT9+3Fana9eumjlzppKTk21l0dHR6tq1qyuGDAC3zfGflmnn0HE6+t2vDtUv9b+OSt57SNsGjVbS9j3a//F0HZn7k0q/2M1Wp/SA7joYNVuHps1T0rZ/tLnPUKWfO6+gbm1z6C4AIPcyZbjsyI0IoIEbkJSUpK+++kqhoaEqUKCArbxWrVoKDg7W3LlzJUkHDhzQsmXL9Mwzz7hqqABwRwqoX0Mnlqy2Kzv+ywrlq19DkmS4u8v/nso6sXjV5QqmqRNLVimgfs3bOFIAADJjGyvgOhYsWGCbin327FkVLVpUCxYskMVi//1Tjx49FB0drc6dO2vq1Kl6+OGHVahQIVcMGQDuWNYiBZVy9IRdWcrRE3L395XF0yr3fP6y5MmjlGMnr6pzUt7lQ27nUAEgVzBz6bvIrsLTBK6jWbNm2rBhgzZs2KC1a9eqRYsWatWqlfbv329Xr3Pnzlq9erX27NmjqVOnqkePHjfVX0pKihITE+2OlJQUZ9wKAAAAgFtAAA1ch7e3t0JDQxUaGqo6dero888/19mzZzV58mS7egUKFNCjjz6qnj176vz582rVqtVN9RcZGSl/f3+7IzIy0hm3AgAul3L0hKxFCtqVWYsUVFrCGWWcT1HqidPKuHBB1sIFrqpTQClH7DPXAADcbgTQwA0yDEMWi8VuwbBLevToodjYWHXp0kVubm431X5ERIQSEhLsjoiIiFsdNgDcEeLXbFCB++vblRV8oKFOr9kgSTLT0pSwfosK3t/gcgXDUIFmDRS/5q/bOFIAyCXYxsqpeAcauI6UlBQdOXJEknT69Gl99NFHSkpKUuvWrTPVbdmypY4fPy4/P7+b7s9qtcpqtd709QBwO7l555V3aEnb57ylS8ivegWlnkrQ+YNxKv92uDyLF9HG7oMlSfs/m6lSfZ5WhchXdHDqXBVsVl9F27XSH22etbWxd9wUVY8erfg//1bCH5sU3L+r8nh76eC0ebf9/gAAuBIBNHAdMTExKlq0qCTJ19dXFSpU0DfffKOmTZtmqmsYhgoWLJipHAByK/9aVdRg8Ze2z5Xee02SdPCLedrUM0LWooXkFVTUdj553yH90eZZVRoboeB+XXT+0BFtfvYNnfhlha1O3Dc/yqNQfpUb2l/WwEJK3LhNax/tpdSrFhYDAFyfaeTO7aRcxTBN03T1IABc30L38q4eAgAAALLxSNoOVw8hS6c3/uayvvNVv++Gr5k4caLGjBmjI0eOqHr16vrwww9Vt27d6143c+ZMhYWF6bHHHtO33357E6N1TO6cmA4AAAAAuKvMmjVL4eHhGjp0qNavX6/q1aurRYsWOnbs2DWv27dvn15++WU1btw4x8dIAA0AAAAAuZRpWFx23Kj3339fvXv3Vvfu3VWpUiV98sknyps3r6Kjo7O9Jj09XU8//bSGDx+ukJCQW3lUDiGABgAAAAA4XUpKihITE+2OlJSULOumpqbqzz//VPPmzW1lFotFzZs31+rVq7PtY8SIESpcuLB69uzp9PFnhQAaAAAAAHIrw3DZERkZKX9/f7sjMjIyy2GeOHFC6enpKlKkiF15kSJFbDviXG3FihWKiorS5MmTnf7YssMq3AAAAAAAp4uIiFB4eLhdmbO2az1z5oyeeeYZTZ48+bbugkMADQAAAAC51M28i+wsVqvV4YC5YMGCcnNz09GjR+3Kjx49qsDAwEz1//nnH+3bt0+tW7e2lWVkZEiS8uTJox07dqhMmTK3MPqsMYUbAAAAAOBSHh4eqlWrlhYvXmwry8jI0OLFi9WgQYNM9StUqKDNmzdrw4YNtqNNmzZq1qyZNmzYoKCgoBwZJxloAAAAAIDLhYeHq2vXrqpdu7bq1q2rcePG6ezZs+revbskqUuXLipevLgiIyPl6empKlWq2F0fEBAgSZnKnYkAGgAAAAByKVOGq4fgsA4dOuj48eMaMmSIjhw5oho1aigmJsa2sNiBAwdksbh2ErVhmqbp0hEAcMhC9/KuHgIAAACy8UjaDlcPIUsn/s5+C6icVrBK5qnXdzsy0AAAAACQS7lyEbHciKcJAAAAAIADyEADd4k7dVoQAAAA8F9BAA3cJe5t/ZurhwAAAIBsrPjhPlcPIWvG3bOI2N2AKdwAAAAAADiADDQAAAAA5FImOVOn4mkCAAAAAOAAMtAAAAAAkEuZvAPtVGSgAQAAAABwAAE0AAAAAAAOYAo3AAAAAORSpkHO1Jl4mgAAAAAAOIAMNOBE3bp1U3x8vL799ltXDwUAAACQKRYRcyYy0HeZI0eOqF+/fgoJCZHValVQUJBat26txYsX29WLjIyUm5ubxowZk6mNqVOnyjCMTIenp+dN9ZWd4ODgTH2UKFHi5m/+DrJv3z4ZhqENGza4eigAcMfo+XSwvp1WX4vn3Ktxb1VTiaJeDl/b+akgrfjhPvXvVcau3MPdUPhzoVo4vaF+nn2v3o6opHwB7s4eOgAADiGAvovs27dPtWrV0pIlSzRmzBht3rxZMTExatasmfr27WtXNzo6WoMGDVJ0dHSWbfn5+SkuLs7u2L9//031dS0jRoyw6+Ovv/7Ksl5aWprDbQIA7jxPtw3SU48W13sf79L/Xv5LyefT9f6IqvJwv37mo0JZX7VpWVS79yZlOtevV6ga1S2gN0dvVb+IDSqY36qREZVz4hYAALguAui7SJ8+fWQYhtauXau2bduqXLlyqly5ssLDw7VmzRpbvd9++03JyckaMWKEEhMTtWrVqkxtGYahwMBAu6NIkSI33Nf1+Pr62vVRqFAhW/+TJk1SmzZt5O3trZEjR0qSvvvuO91zzz3y9PRUSEiIhg8frgsXLtja27Vrl5o0aSJPT09VqlRJv/zyiwzDsE2Zjo2NlWEYio+Pt12zYcMGGYahffv22cpWrFihxo0by8vLS0FBQerfv7/Onj1rOx8cHKxRo0apR48e8vX1VcmSJfXZZ5/ZzpcuXVqSVLNmTRmGoaZNm2a69y+++EIFChRQSkqKXfnjjz+uZ555xuFnCAB3g3ZtiuuL2fu14veT+mffWb39wXYVyG9V4/oFr3mdl6dFQwdW0Lsf7tSZpAt257zzuunRBwP14ef/aP2meO34J0mjxm9XtUr+qlzeNydvBwByDdOwuOzIjXLnXeVCp06dUkxMjPr27Stvb+9M5wMCAmy/joqKUlhYmNzd3RUWFqaoqKgc6+tWDBs2TE888YQ2b96sHj16aPny5erSpYtefPFFbd26VZ9++qmmTp1qC64zMjL05JNPysPDQ7///rs++eQTDR48+Ib7/eeff9SyZUu1bdtWmzZt0qxZs7RixQq98MILdvXGjh2r2rVr66+//lKfPn30/PPPa8eOHZKktWvXSpJ+/fVXxcXFad68eZn6adeundLT0/X999/byo4dO6aFCxeqR48eNzxuALhTFSviqYL5rfpjw2lb2dlz6dq6M1FVKvhd89rw58pq1bpTWrcxPtO58qG+cne3aN3Gy+0eOJSsI8fOq/J12gUAICcQQN8ldu/eLdM0VaFChWvWS0xM1Jw5c9S5c2dJUufOnTV79mwlJdlPi0tISJCPj4/d0apVqxvqyxGDBw+262PChAm2c506dVL37t0VEhKikiVLavjw4Xr11VfVtWtXhYSE6MEHH9Rbb72lTz/9VNLFYHX79u364osvVL16dTVp0kSjRo264TFFRkbq6aef1oABA1S2bFk1bNhQEyZM0BdffKHz58/b6j388MPq06ePQkNDNXjwYBUsWFBLly6VJFsmvUCBAgoMDFT+/Pkz9ePl5aVOnTppypQptrKvvvpKJUuWzDJjDQB3q/z5PCRJp+PtX8c5HZ9qO5eVBxoXUrkyPvp02p4szxfI56HUtAwlnU23Kz8Vn6oCAdm3CwC4zDQMlx25Eatw3yVM03So3owZM1SmTBlVr15dklSjRg2VKlVKs2bNUs+ePW31fH19tX79ertrvby8bqgvR7zyyivq1q2b7XPBgpen8tWuXduu7saNG7Vy5UpbxlmS0tPTdf78eZ07d07btm1TUFCQihUrZjvfoEGDGx7Txo0btWnTJk2fPt1WZpqmMjIytHfvXlWsWFGSVK1aNdv5S1Pejx07dkN99e7dW3Xq1NHhw4dVvHhxTZ06Vd26dZNxjX9QUlJSMk37tlqtN9QvAOSkB+8rrFf6lrN9HjRi8w23UbigVS/2DtVLQzYpNc15/+8AAJCTCKDvEmXLlpVhGNq+ffs160VFRWnLli3Kk+fyb21GRoaio6PtAmiLxaLQ0NBb6ssRBQsWzLafq6eHJyUlafjw4XryyScz1b16hfDsWCwXJ1Vc+SXA1QuUJSUl6dlnn1X//v0zXV+yZEnbr93d7Vd5NQxDGRkZDo3jkpo1a6p69er64osv9NBDD2nLli1auHDhNa+JjIzU8OHD7cqGDh0qqdkN9Q0AOWXF2pPaunOd7bOH+8V/e/MFuOvk6VRbeb4AD+3ek3lhMEkqH+qj/Pk8FDWulq0sj5uh6pX99eSjxXX/k8t08nSqPNwt8vF2s8tC5w/w0Mn41KyaBQBchW2snIsA+i6RP39+tWjRQhMnTlT//v0zBZ/x8fE6ePCg1q1bp9jYWLspxadOnVLTpk21fft2h6ZlO9KXs96DvtI999yjHTt2ZBtwV6xYUQcPHlRcXJyKFi0qSZkWNLs0tTouLk758uWTpExbTd1zzz3aunVrtv04wsPj4tTB9PT069SUevXqpXHjxunw4cNq3ry5goKCrlk/IiJC4eHhdmVWq1W/PuX44m0AkJOSk9N1ONn+378Tp1JUu3o+7d57cUHGvF5uqlTOT98u+jfLNtZtjNczff+wK3ttQHntP5Ss6XMOKCND2rH7jNLSMlSrej79tuqEJCmouJcCC3tqy/bEHLgzAACujQD6LjJx4kQ1atRIdevW1YgRI1StWjVduHBBv/zyiyZNmqQWLVqobt26atKkSaZr69Spo6ioKNu+0KZp6siRI5nqFS5cWBaL5bp9bdu2zen3N2TIED366KMqWbKknnrqKVksFm3cuFF///233n77bTVv3lzlypVT165dNWbMGCUmJur111+3ayM0NFRBQUEaNmyYRo4cqZ07d2rs2LF2dQYPHqz69evrhRdeUK9eveTt7a2tW7fql19+0UcffeTQWAsXLiwvLy/FxMSoRIkS8vT0lL+/f5Z1O3XqpJdfflmTJ0/WF198cd22rVYrU7YB3HW++f6wunYoqYP/Jivu6Hn16hysk6dStHzNCVudcW9X07LVJzRv4b9KTk7X3gPn7No4fz5DiYlptvKz59K14Jcj6tezjBLPXNC5cxc04NlQbd6WoC07ztzW+wMAQGIRsbtKSEiI1q9fr2bNmmngwIGqUqWKHnzwQS1evFjjx4/XV199pbZt22Z5bdu2bfXFF1/YpjMnJiaqaNGimY5L7/heq69JkyblyP21aNFCCxYs0M8//6w6deqofv36+uCDD1SqVClJF6dnz58/X8nJyapbt6569epl9760dHHa9YwZM7R9+3ZVq1ZNo0eP1ttvv21Xp1q1avrtt9+0c+dONW7cWDVr1tSQIUPs3q2+njx58mjChAn69NNPVaxYMT322GPZ1vX391fbtm3l4+Ojxx9/3PEHAgB3kelzD2rOgn816IVymvz+Pcrr6aaBQzfbvd9cPNBLAX7u12glsw8/361Vf5zUyIhK+uidGjp1OlWvj9ri7OEDQK7FNlbOZZjOXDEKcAHDMDR//vw7Ojh94IEHVLlyZbtVyG/Uva1/c+KIAAAA4EwrfrjP1UPI0sFdW13Wd1DZSi7rO6cwhRvIQadPn1ZsbKxiY2P18ccfu3o4AAAA+I9hETHnIoDGTZk+fbqeffbZLM+VKlVKW7YwvU66uAr36dOnNXr0aJUvX97VwwEAAABwCwigcVPatGmjevXqZXnu6u2fctqd/BbCvn37XD0EAAAAAE5CAI2b4uvrK19fX1cPAwAAAMA15NbFvFyFpwkAAAAAgAPIQAMAAABALsUiYs5FBhoAAAAAAAeQgQYAAACAXIp3oJ2LpwkAAAAAgAMIoAEAAAAAcABTuAEAAAAgl2IRMeciAw0AAAAAgAPIQAN3iRU/3OfqIQAAAOAuYxpkoJ2JABq4S8T/tcTVQwAAAEA2Amre7+oh4DZgCjcAAAAAAA4gAw0AAAAAuZRpMoXbmchAAwAAAADgADLQAAAAAJBLmeRMnYqnCQAAAACAA8hAAwAAAEAuZYp3oJ2JDDQAAAAAAA4ggAYAAAAAwAFM4QYAAACAXIop3M5FAI3/rNjYWDVr1kynT59WQECAq4cDAHetb36K1fQfftHJhESVLVlCA7t3UOXQ4Ote9/OqP/TmhGg1qV1dY15+TpJ04UK6Ppn1vVZt+FuHj52QT14v1alSQX3DHleh/AE5eyMAAFwHU7jvcEeOHFG/fv0UEhIiq9WqoKAgtW7dWosXL7arFxkZKTc3N40ZMyZTG1OnTpVhGJkOT0/Pm+orOxs3blSbNm1UuHBheXp6Kjg4WB06dNCxY8du/gE4SdOmTTVgwAC7soYNGyouLk7+/v6uGRQA5AK/rFqn8V/OVc+nHtG0yNcUWqqEXoycoFMJide87t9jJzXhq3mqUSHUrvx8aqp27DugHk8+rC8iI/RO+P904N+jevm9STl5GwCQa5kyXHbkRgTQd7B9+/apVq1aWrJkicaMGaPNmzcrJiZGzZo1U9++fe3qRkdHa9CgQYqOjs6yLT8/P8XFxdkd+/fvv6m+snL8+HE98MADyp8/v3766Sdt27ZNU6ZMUbFixXT27NlbexA5xMPDQ4GBgTKM3PmXGwBuhxkLF+ux+xupddOGCilRVK/2CpOnh4d+iF2d7TXpGRka+lG0/vfUoypeuKDdOZ+8Xvrw9RfVvEEtlSoWqKplQ/Ryjw7avueAjpw4ldO3AwDANRFA38H69OkjwzC0du1atW3bVuXKlVPlypUVHh6uNWvW2Or99ttvSk5O1ogRI5SYmKhVq1ZlasswDAUGBtodRYoUueG+srNy5UolJCTo888/V82aNVW6dGk1a9ZMH3zwgUqXLm031rp168pqtapo0aJ69dVXdeHCBdv5pk2bql+/fhowYIDy5cunIkWKaPLkyTp79qy6d+8uX19fhYaG6scff7Tr/++//1arVq3k4+OjIkWK6JlnntGJEyckSd26ddNvv/2m8ePH27Lv+/btU2xsrAzDUHx8vKSLmfqAgAAtWLBA5cuXV968efXUU0/p3LlzmjZtmoKDg5UvXz71799f6enptr5TUlL08ssvq3jx4vL29la9evUUGxtrO79//361bt1a+fLlk7e3typXrqxFixZd95kCwJ0u7cIFbd97QHWrVrCVWSwW1alaQZt37sn2uqi5C5XP31dt7m/kUD9J55JlGIZ88nrd8pgBALgVBNB3qFOnTikmJkZ9+/aVt7d3pvNXvrMbFRWlsLAwubu7KywsTFFRUTnWV3YCAwN14cIFzZ8/X6ZpZlnn8OHDevjhh1WnTh1t3LhRkyZNUlRUlN5++227etOmTVPBggW1du1a9evXT88//7zatWunhg0bav369XrooYf0zDPP6Ny5c5Kk+Ph43X///apZs6bWrVunmJgYHT16VO3bt5ckjR8/Xg0aNFDv3r1t2fegoKAsx3ju3DlNmDBBM2fOVExMjGJjY/XEE09o0aJFWrRokb788kt9+umnmjNnju2aF154QatXr9bMmTO1adMmtWvXTi1bttSuXbskSX379lVKSoqWLVumzZs3a/To0fLx8bnuMwWAO118YpLSMzKU39/Prjy/v59OxWc9hXvD9t36fukqvda7s0N9pKSm6aOv5+uhhrUJoAHgJjCF27lYROwOtXv3bpmmqQoVKlyzXmJioubMmaPVqy9OlevcubMaN26s8ePH2wVpCQkJmYK2xo0b68cff3S4r2upX7++XnvtNXXq1EnPPfec6tatq/vvv19dunSxZbo//vhjBQUF6aOPPpJhGKpQoYL+/fdfDR48WEOGDJHFcvH7nOrVq+uNN96QJEVEROidd95RwYIF1bt3b0nSkCFDNGnSJG3atEn169fXRx99pJo1a2rUqFG28URHRysoKEg7d+5UuXLl5OHhobx58yowMPCa95GWlqZJkyapTJkykqSnnnpKX375pY4ePSofHx9VqlRJzZo109KlS9WhQwcdOHBAU6ZM0YEDB1SsWDFJ0ssvv6yYmBhNmTJFo0aN0oEDB9S2bVtVrVpVkhQSEnLNMaSkpCglJcWuzGq1OvT7AAB3srPJ5zVs4lS91vtpBfhd/4vECxfS9fr4yZIpDeoZdhtGCADAtRFA36Gyy+JebcaMGSpTpoyqV68uSapRo4ZKlSqlWbNmqWfPnrZ6vr6+Wr9+vd21Xl5eN9TX9YwcOVLh4eFasmSJfv/9d33yyScaNWqUli1bpqpVq2rbtm1q0KCB3TvHjRo1UlJSkg4dOqSSJUtKkqpVq2Y77+bmpgIFCtiCT0m2gPzS4mQbN27U0qVLs8zq/vPPPypXrpzD95A3b15b8Hypr+DgYLu2ixQpYut78+bNSk9Pz9RHSkqKChQoIEnq37+/nn/+ef38889q3ry52rZta3ePV4uMjNTw4cPtyoYOHaoBjzVx+D4A4HYI8PORm8WSacGwUwmJyh/gl6n+4aPHFXf8pF4ec3lBsIz//z+oYae+mv3+MJUILCTpYvD82vjJijt+Sh+/OYDsMwDcJNPMnZlgVyGAvkOVLVtWhmFo+/bt16wXFRWlLVu2KE+ey7+VGRkZio6OtgugLRaLQkNDs2rC4b4cUaBAAbVr107t2rXTqFGjVLNmTb333nuaNm2aw224u7vbfTYMw67sUgCekZEhSUpKSlLr1q01evToTG0VLVr0hsZ/vb4vlV3Zt5ubm/7880+5ubnZ1bsUdPfq1UstWrTQwoUL9fPPPysyMlJjx45Vv379shxDRESEwsPD7cqsVquSt668oXsBgJzmniePKpQuqT/+3qH76tSQdPHf5j/+3qF2LZpmql+qWKC+HvOGXdkns37QueTzCu/WTkUK5pN0OXg+GHdMHw95Sf6+vPYCALgzEEDfofLnz68WLVpo4sSJ6t+/f6Z3k+Pj43Xw4EGtW7dOsbGxyp8/v+3cqVOn1LRpU23fvt2hadmO9HUz+yR7eHioTJkytlW4K1asqLlz58o0TVsQvHLlSvn6+qpEiRI33P4l99xzj+bOnavg4GC7LxKuHsuVC385S82aNZWenq5jx46pcePG2dYLCgrSc889p+eee04RERGaPHlytgG01WrNcsp2stNGDQDOE/bIAxoxaZoqhpRUpdBgzVy0ROdTUvTofQ0kScMmTlWh/AHqG/a4rB7uKhNU3O563//PLF8qv3AhXa9+8Jl27D2osYP7KCMjQyfjEyRJfj7ecs/m33kAAG4H/he6g02cOFGNGjVS3bp1NWLECFWrVk0XLlzQL7/8okmTJqlFixaqW7eumjTJPLW3Tp06ioqKsu0LbZqmjhw5kqle4cKFZbFYrtvXtm3brjnWBQsWaObMmerYsaPKlSsn0zT1ww8/aNGiRZoyZYqkiyt9jxs3Tv369dMLL7ygHTt2aOjQoQoPD7e9/3wz+vbtq8mTJyssLEyDBg1S/vz5tXv3bs2cOVOff/653NzcFBwcrN9//1379u2Tj4+P3RcOt6JcuXJ6+umn1aVLF40dO1Y1a9bU8ePHtXjxYlWrVk2PPPKIBgwYoFatWqlcuXI6ffq0li5dqooVKzqlfwBwtQcb1lZ8YpI++2aBTsYnqlypEhr3aj8V+P8p3EdPnJLlBrYLPHYqXsv/3CRJembwSLtzH7/5kmpVdvy1HACAcu1iXq5CAH0HCwkJ0fr16zVy5EgNHDhQcXFxKlSokGrVqqXx48erU6dOGjx4cJbXtm3bVmPHjrUtrJWYmJjldOa4uDgFBgZes69JkyZluu5qlSpVUt68eTVw4EAdPHhQVqtVZcuW1eeff65nnnlGklS8eHEtWrRIr7zyiqpXr678+fOrZ8+etgXDblaxYsW0cuVKDR48WA899JBSUlJUqlQptWzZ0haYv/zyy+ratasqVaqk5ORk7d2795b6vNKUKVP09ttva+DAgTp8+LAKFiyo+vXr69FHH5Ukpaenq2/fvjp06JD8/PzUsmVLffDBB07rHwBcrV3LpmrXsmmW5yYNDc+y/JIhfbrafS5WuIB+n3n9/3cAAHAFw3TWClIAclT8X0tcPQQAAABkI6Dm/a4eQpb+3p15FurtUiX02jvg3I3YBxoAAAAAAAcQQMMh06dPl4+PT5ZH5cqVXT08AAAAAFkwZbjsyI14BxoOadOmjerVq5fluau3eQIAAACA3IgAGg7x9fWVr6+vq4cBAAAAAC5DAA0AAAAAuZRp5s6p1K7CO9AAAAAAADiADDQAAAAA5FIZuXQxL1chAw0AAAAAgAMIoAEAAAAAcABTuAEAAAAgl8qt+zG7ChloAAAAAAAcQAYaAAAAAHIptrFyLgJo4C4RUPN+Vw8BAAAA+E8jgAbuEiNnprt6CAAAAMjG6x3dXD2ELPEOtHPxDjQAAAAAAA4ggAYAAAAAwAFM4QYAAACAXIpFxJyLDDQAAAAAAA4ggAYAAACAXMqU4bLjZkycOFHBwcHy9PRUvXr1tHbt2mzrTp48WY0bN1a+fPmUL18+NW/e/Jr1nYEAGgAAAADgcrNmzVJ4eLiGDh2q9evXq3r16mrRooWOHTuWZf3Y2FiFhYVp6dKlWr16tYKCgvTQQw/p8OHDOTZGwzRNM8daB+A0bGMFAABw57pTt7H6Y0e8y/quUz7ghurXq1dPderU0UcffSRJysjIUFBQkPr166dXX331utenp6crX758+uijj9SlS5ebGfJ1sYgYAAAAAORSrlxELCUlRSkpKXZlVqtVVqs1U93U1FT9+eefioiIsJVZLBY1b95cq1evdqi/c+fOKS0tTfnz57+1gV8DU7gBAAAAAE4XGRkpf39/uyMyMjLLuidOnFB6erqKFCliV16kSBEdOXLEof4GDx6sYsWKqXnz5rc89uwQQOOOc+TIEfXr108hISGyWq0KCgpS69attXjxYrt6kZGRcnNz05gxYzK1MXXqVBmGkenw9PS8qb4AANfXpIqhFx+zaNBTFnVqalE+n+tfUyvUUN/WFg1uZ1G3By0qdlXSwNtTalP/YruvPGVRz4csKl8iZ8YPALlRhguPiIgIJSQk2B1XZpid6Z133tHMmTM1f/78TD/zOxNTuHFH2bdvnxo1aqSAgACNGTNGVatWVVpamn766Sf17dtX27dvt9WNjo7WoEGDFB0drVdeeSVTW35+ftqxY4ddmWFcnsJyI30BAK6tQQVDdcoZ+uH3DMUnSfdVtSisqUWfLspQekbW11QMMtS8pqEf15n696SpuuUNdWxq0ScLM3Tu/2f8talvkae79M3yi2WVSxl6sqFF0T9n6Gj8bbs9AMBNyG66dlYKFiwoNzc3HT161K786NGjCgwMvOa17733nt555x39+uuvqlat2k2P1xFkoHFH6dOnjwzD0Nq1a9W2bVuVK1dOlStXVnh4uNasWWOr99tvvyk5OVkjRoxQYmKiVq1alaktwzAUGBhod1w5JcTRvq7FMAx9/vnneuKJJ5Q3b16VLVtW33//vV2d3377TXXr1pXValXRokX16quv6sKFCzf5hADgzlS3vKEVW0ztPCwdS5C+/z1Dvl5S+RLZv3tXr4KhDf+Y2rTX1IlEadEfpi5ckKqHXL6mRAHpj12m/j0lxZ+VVm41dT5NKprfde/0AcDdxDQNlx03wsPDQ7Vq1bKbCZqRkaHFixerQYMG2V737rvv6q233lJMTIxq165908/JUQTQuGOcOnVKMTEx6tu3r7y9vTOdDwgIsP06KipKYWFhcnd3V1hYmKKionKsr+sZPny42rdvr02bNunhhx/W008/rVOnTkmSDh8+rIcfflh16tTRxo0bNWnSJEVFRentt9++ofECwJ0swFvy8TK07+jljT1S0qTDJ6XiBbK+xmKRiuaT9h613wxk71FTJQpc/qHr0EmpUpAhT4+LnyuVNJTHTdp/jE1EACC3CQ8P1+TJkzVt2jRt27ZNzz//vM6ePavu3btLkrp06WI3BXz06NF68803FR0dreDgYB05ckRHjhxRUlJSjo2RABp3jN27d8s0TVWoUOGa9RITEzVnzhx17txZktS5c2fNnj0701+UhIQE+fj42B2tWrW6ob4c0a1bN4WFhSk0NFSjRo1SUlKSbQP3jz/+WEFBQfroo49UoUIFPf744xo+fLjGjh2rjIxs5jQCwF3G+/9fNTt73r787HlTPl5ZX5PXQ7JYjCyukbyvuGbeygxZLNLAJ930anuLWtU2NGdFhk7n3M9GAAAX6dChg9577z0NGTJENWrU0IYNGxQTE2ObRXrgwAHFxcXZ6k+aNEmpqal66qmnVLRoUdvx3nvv5dgYeQcadwxHtySfMWOGypQpo+rVq0uSatSooVKlSmnWrFnq2bOnrZ6vr6/Wr19vd62Xl9cN9eWIK9+z8Pb2lp+fn22z923btqlBgwZ27143atRISUlJOnTokEqWLJmpveyW++evK4A7ReVShh6uffnftVnLcu4LwfuqXsw+T1+arnMpUvniF9+B/mJxho4n5Fi3AJBrmLq7Xnl54YUX9MILL2R5LjY21u7zvn37cn5AV+EnctwxypYtK8Mwrrt4V1RUlLZs2aI8eS7/8c3IyFB0dLRdAG2xWBQaGnpLfTnC3d3d7rNhGLeUXY6MjNTw4cPtyoYOHSr3Cm/edJsA4Ey7Dpv6/OTlLyLd/n8+m7enlHRFRtnb09DR01l/YXkuVcrIMG3Z68vXSGeTL/46wEeqU86iTxel60TixbJj8aaCChmqXfbi4mMAANxOTOHGHSN//vxq0aKFJk6cqLNnz2Y6Hx8fr82bN2vdunWKjY3Vhg0bbEdsbKxWr17tcEDsSF/OULFiRa1evdou471y5Ur5+vqqRIms92G5ncv9A8DNSL0gnU66fJxIlJKSTQUXuZzl8Mhz8f3nwyezbiMjQ4o7LbtrpIufD/1/cO7udrHs6jA5w5SMuyuhAgAuc7csIna3IIDGHWXixIlKT09X3bp1NXfuXO3atUvbtm3ThAkT1KBBA0VFRalu3bpq0qSJqlSpYjuaNGmiOnXq2C0mZpqmbSGBK49L2eHr9eUMffr00cGDB9WvXz9t375d3333nYYOHarw8HBZLFn/9bNarfLz87M7HF3+HwBcZe0OU40qGypbTCrkf3H7qTPJ0o5Dl8PfTs0sql328g9Uv283VbOMoarBhgr4Sa1qG3LPI23ac/Gak4nSqTOmHq59cX/oAB+pXnlDIYH27QIAcLswhRt3lJCQEK1fv14jR47UwIEDFRcXp0KFCqlWrVoaP368OnXqpMGDB2d5bdu2bTV27FiNGjVK0sXFxooWLZqpXlxcnAIDA6/Z16RJk5xyP8WLF9eiRYv0yiuvqHr16sqfP7969uypN954wyntA8CdYvV2U+55pIfrWOTpIR08Ls38zX4P6Hw+ktcV3wduO3hxCvd9VY2L073jpZmxGTr7/8tAZJgX27i/ukXtmljkkUc6fUb6/ndT/8QJAIDbzjCduZoSgBwzcma6q4cAAACAbLze0c3VQ8jSiq2ZX1e8Xe6tlHm72LsdU7gBAAAAAHAAATSQjenTp2faR/rSUblyZVcPDwAAALiuDNN1R27EO9BANtq0aaN69eplee7qrasAAAAA5H4E0EA2fH195evr6+phAAAAADfNVO7cTspVmMINAAAAAIADCKABAAAAAHAAU7gBAAAAIJcyTaZwOxMZaAAAAAAAHEAGGgAAAAByKTOXbiflKmSgAQAAAABwAAE0AAAAAAAOYAo3AAAAAORSGewD7VQE0MBd4vWObq4eAgAAAPCfRgAN3CVGz8lw9RAAAACQjcFP3Zlvx7KNlXPdmb/LAAAAAADcYchAAwAAAEAuxTZWzkUGGgAAAAAABxBAAwAAAADgAKZwAwAAAEAuZbKNlVORgQYAAAAAwAFkoAEAAAAgl8pgETGnIgMNAAAAAIADCKABJ+vWrZsef/xxVw8DAAAAgJMRQN+ljhw5on79+ikkJERWq1VBQUFq3bq1Fi9ebFcvMjJSbm5uGjNmTKY2pk6dqoCAAKf0k53g4GAZhmF3lChRwuH7vJPt27dPhmFow4YNrh4KALicaZpa/+sEzYhsrGlDa+jH6O5KOLHvutdtXTNds8c8oGlDq+v7SR10/OCmTHWOHfhLP0Z10xfD7tGXI2pr4eTOupB2PgfuAgByH9M0XHbkRgTQd6F9+/apVq1aWrJkicaMGaPNmzcrJiZGzZo1U9++fe3qRkdHa9CgQYqOjs7Rfq5lxIgRiouLsx1//fVXlvXS0tJueIwAgDvD5uWfa+vqr9TwsWFq/fwsubvn1U9Te+tCWkq21+zZtEhrF41Wjfv7qk3fucofWF4/Te2t5KSTtjrHDvyln6b+T8VCG6n187PU5vlvVLH+0zIMfoQBANx+/O9zF+rTp48Mw9DatWvVtm1blStXTpUrV1Z4eLjWrFljq/fbb78pOTlZI0aMUGJiolatWpUj/VyPr6+vAgMDbUehQoUkSYZhaNKkSWrTpo28vb01cuRISdJ3332ne+65R56engoJCdHw4cN14cIFW3u7du1SkyZN5OnpqUqVKumXX36RYRj69ttvJUmxsbEyDEPx8fG2azZs2CDDMLRv3z5b2YoVK9S4cWN5eXkpKChI/fv319mzZ23ng4ODNWrUKPXo0UO+vr4qWbKkPvvsM9v50qVLS5Jq1qwpwzDUtGnTTPf+xRdfqECBAkpJsf8B8vHHH9czzzzj8DMEgDuZaZrasvILVW/6nEpVekD5A8urSbt3lHzmmA5s+zXb6/5eOU3la7dTuVpPKl/hUDV6bJjyuHtq55/zbHV+X/SOKjXorOr39Va+ImXlX6i0Qqq2klsej9txawBw1zNN1x25EQH0XebUqVOKiYlR37595e3tnen8lVOyo6KiFBYWJnd3d4WFhSkqKipH+rkVw4YN0xNPPKHNmzerR48eWr58ubp06aIXX3xRW7du1aeffqqpU6faguuMjAw9+eST8vDw0O+//65PPvlEgwcPvuF+//nnH7Vs2VJt27bVpk2bNGvWLK1YsUIvvPCCXb2xY8eqdu3a+uuvv9SnTx89//zz2rFjhyRp7dq1kqRff/1VcXFxmjdvXqZ+2rVrp/T0dH3//fe2smPHjmnhwoXq0aPHDY8bAO5EZ04fUnLSCRUr08BW5uHpq0IlqunYgY1ZXpN+IVUn/92iYqGXrzEsFhULbaDjBzZIkpKTTur4wU3y8imgBZ+G6etR92rR5Gd0ZN+fOXo/AABkhwD6LrN7926ZpqkKFSpcs15iYqLmzJmjzp07S5I6d+6s2bNnKykpyan9OGLw4MHy8fGxHRMmTLCd69Spk7p3766QkBCVLFlSw4cP16uvvqquXbsqJCREDz74oN566y19+umnki4Gq9u3b9cXX3yh6tWrq0mTJho1atQNjykyMlJPP/20BgwYoLJly6phw4aaMGGCvvjiC50/f/m9uocfflh9+vRRaGioBg8erIIFC2rp0qWSZMukFyhQQIGBgcqfP3+mfry8vNSpUydNmTLFVvbVV1+pZMmSWWasAeBulHzmhCTJy6eAXbmnT0ElJx3P8pqUc/EyM9IzXePlU0Dnki62d+bUQUnSX4s/Urna7dSi22cqUKySYhx8vxoAIGXIcNmRG7EP9F3GdHAuxIwZM1SmTBlVr15dklSjRg2VKlVKs2bNUs+ePZ3WjyNeeeUVdevWzfa5YMGCtl/Xrl3bru7GjRu1cuVKW8ZZktLT03X+/HmdO3dO27ZtU1BQkIoVK2Y736BBA92ojRs3atOmTZo+fbqtzDRNZWRkaO/evapYsaIkqVq1arbzhmEoMDBQx44du6G+evfurTp16ujw4cMqXry4pk6dqm7duskwsv5HJSUlJdOUb6vVKsn9hvoFgJzyz4YftPK7YbbPD3aZlCP9XPq/qHzdDipX60lJUoFilfTvP2u06895qt0iPEf6BQAgOwTQd5myZcvKMAxt3779mvWioqK0ZcsW5clz+bc4IyND0dHRDgXQjvbjiIIFCyo0NDTLc1dPD09KStLw4cP15JNPZqrr6enpUH8Wy8WJFVd+CXD1AmVJSUl69tln1b9//0zXlyxZ0vZrd3f7oNUwDGVkZDg0jktq1qyp6tWr64svvtBDDz2kLVu2aOHChdnWj4yM1PDhw+3Khg4dKq8qQ26oXwDIKSUr3q9CQZe/YEy/kCrp4pTrvH6FbeXnk04of9GKWbZhzRsgw+Jmt2CYrQ2fi1+05vW9ONMnoHAZuzoBhUOUlBB36zcCAMANIoC+y+TPn18tWrTQxIkT1b9//0wBaHx8vA4ePKh169YpNjbWblrxqVOn1LRpU23fvv26U7Md6cdZ70Ff6Z577tGOHTuyDbgrVqyogwcPKi4uTkWLFpWkTAuaXZpaHRcXp3z58klSpq2m7rnnHm3dujXbfhzh4XFxAZv09PTr1u3Vq5fGjRunw4cPq3nz5goKCsq2bkREhMLD7bMqVqtV43646aECgFO5W73lbr38/4JpmvLyKah/96xRgWIXA+bU80k6fmiTKtTrmGUbbnk8VKBYZf37zxqVqtT8YjsZGfr3nzWqWP9pSZJPvuLK61tYCcf32l2bcGK/SpRrnBO3BgC5Tm5dzMtVeAf6LjRx4kSlp6erbt26mjt3rnbt2qVt27ZpwoQJatCggaKiolS3bl01adJEVapUsR1NmjRRnTp17BYTS09P14YNG+yObdu2OdRPThgyZIi++OILDR8+XFu2bNG2bds0c+ZMvfHGG5Kk5s2bq1y5curatas2btyo5cuX6/XXX7drIzQ0VEFBQRo2bJh27dqlhQsXauzYsXZ1Bg8erFWrVumFF17Qhg0btGvXLn333XeZFhG7lsKFC8vLy0sxMTE6evSoEhISsq3bqVMnHTp0SJMnT77u4mFWq1V+fn52x8Up3ABwZzIMQ5UbddHGpZ/owLYlOnVkp5bNeVVevoVVsmJzW70fo7pr6+rLr85UadRVO9d9o13rv1X8sX+06vvhupCarHK1nrC1W7VxD21d/ZX2/v2TEk/u15+/jFfC8T0qV6vtbb9PAADIQN+FQkJCtH79eo0cOVIDBw5UXFycChUqpFq1amn8+PHq1KlTtitTt23bVmPHjrUtvJWUlKSaNWva1SlTpox27959zX4mTcqZ991atGihBQsWaMSIERo9erTc3d1VoUIF9erVS9LF6dnz589Xz549VbduXQUHB2vChAlq2bKlrQ13d3fNmDFDzz//vKpVq6Y6dero7bffVrt27Wx1qlWrpt9++02vv/66GjduLNM0VaZMGXXo0MHhsebJk0cTJkzQiBEjNGTIEDVu3FixsbFZ1vX391fbtm21cOFCPf744zf1bADgTla1cS9dSE3Wym+HKvV8ogqXukctun2mPO6XvwA8c+qAzp87bfscUu1hnT97WusXT1DymYvTvR/q9pm8fC6vlVG5UVdduJCqtYveUcq5BOUvWl4tukfJr0BJAQCuzzRz52JermKYzlwtCnARwzA0f/78Ozo4feCBB1S5cmW7VchvxOg5N/buNQAAAG6fwU/dmZN7v193/dcNc0qb2m4u6zunkIEGctjp06cVGxur2NhYffzxx64eDgAAAICbRACNmzZ9+nQ9++yzWZ4rVaqUtmzZcptHdGeqWbOmTp8+rdGjR6t8+fKuHg4AAAD+QzKYb+xUBNC4aW3atFG9evWyPHf19k857U5+E2Hfvn2uHgIAAAAAJyCAxk3z9fWVr6+vq4cBAAAAIBt3cJ7prnRnvukOAAAAAMAdhgAaAAAAAAAHMIUbAAAAAHIpU+wD7UxkoAEAAAAAcAAZaAAAAADIpdjGyrnIQAMAAAAA4AAy0AAAAACQS7GNlXORgQYAAAAAwAFkoIG7xOCn+L4LAAAAcCUCaOAusWHXcVcPAQAAANmoUbaQq4eQJaZwOxcpLQAAAAAAHEAGGgAAAAByqQzTcPUQchUy0AAAAAAAOIAAGgAAAAAABzCFGwAAAAByKRYRcy4y0AAAAAAAOIAMNAAAAADkUmSgnYsMNAAAAAAADiCAxn9WbGysDMNQfHy8q4cCAAAA5IgM03VHbkQAfRc4cuSI+vXrp5CQEFmtVgUFBal169ZavHixXb3IyEi5ublpzJgxmdqYOnWqAgICnNJPdjZu3Kg2bdqocOHC8vT0VHBwsDp06KBjx445fK85pWnTphowYIBdWcOGDRUXFyd/f3/XDAoAcomfFszVCz2eUucn7tfr4b21e8fWbOsujvleQwf1UY8OLdWjQ0u99fqL16w/+aMx6vDovVr43eycGDoAADeEAPoOt2/fPtWqVUtLlizRmDFjtHnzZsXExKhZs2bq27evXd3o6Oj/a+/O42O6+j+Af262yTJZZGliiYRsJCL2La2IpdnwSKMUsQXlKVIiiPIQra1Pae20ZFGlUUJbhCIVS0RjC0I8Yl+aWEr2iCQzvz/8XB2ZxIRhIv28X6/7eplzz/K9o9J87zn3XEyZMgXR0dGvdRxl7t27h27dusHc3By//fYbMjIyEBMTg3r16qGwsLDa8bwJenp6sLGxgSDw5fJERC/ryMFEfL92OYIGDMeCJVGwa+SIeTPDkJvzUGn9c2dPoZNXd8ycvwxfLPwWFlbWmDszDA/u36tQN/XIAWT+7xzqmFu+7ssgIiJSCRPoGu6TTz6BIAhITU1FUFAQnJ2d4ebmhrCwMBw9elSsd+DAARQXF+Pzzz9HXl4ejhw58lrGqUxycjJyc3Oxdu1atGzZEo0aNYK3tze++eYbNGrUSCHOdu3aQSKRoG7duoiIiEBZWZl4vkuXLhg/fjwmTJiAOnXqwNraGmvWrEFhYSGGDx8OY2NjODo6YteuXQrjp6enw8/PD1KpFNbW1hg8eDDu378PABg2bBgOHDiAJUuWQBAECIKAa9euVVjC/XSWfseOHXBxcYGhoSH69u2LoqIirFu3Dvb29qhTpw5CQ0NRXl4ujl1SUoLw8HDUr18fRkZGaN++PZKSksTz169fR69evVCnTh0YGRnBzc0NCQkJ1fr7ISKqqXb+HIduPr3g3SMADRo2wsixk6En0cf+vTuU1g+dPAs+AR/AvrET6tvaYcz4qZDLZDh7+rhCvQf37yHm28UYHz4TOjrc85SI6GXJ5YLGjtqICXQN9uDBA+zevRtjx46FkZFRhfN/X5IdFRWFAQMGQFdXFwMGDEBUVNRrGacyNjY2KCsrw7Zt2yCvZKu/27dvw9/fH23btsXp06exatUqREVFYc6cOQr11q1bB0tLS6SmpmL8+PH497//jQ8//BCdOnXCyZMn8f7772Pw4MEoKioCAOTk5KBr165o2bIljh8/jt27d+POnTvo168fAGDJkiXo2LEjRo0ahaysLGRlZcHW1lZpjEVFRVi6dCni4uKwe/duJCUlITAwEAkJCUhISMD69evx7bffYsuWLWKbcePGISUlBXFxcThz5gw+/PBD+Pr6IjMzEwAwduxYlJSU4ODBgzh79iy+/PJLSKXSF36nREQ1XVlpKa5cugj3Fm3EMi0tLbi3aIPMC+dU6qOkpARl5WWQGpuIZTKZDMu//gK9PhgAW7vGao+biIjoZfGWbg126dIlyOVyNGnSpMp6eXl52LJlC1JSUgAAwcHBeO+997BkyRKVEjVVx6lKhw4d8Nlnn2HgwIEYM2YM2rVrh65du2LIkCGwtrYGAKxcuRK2trZYvnw5BEFAkyZN8Oeff2Lq1KmYOXMmtLSe3M/x8PDAjBkzAADTpk3DggULYGlpiVGjRgEAZs6ciVWrVuHMmTPo0KEDli9fjpYtW2LevHliPNHR0bC1tcXFixfh7OwMPT09GBoawsbGpsrrKC0txapVq+Dg4AAA6Nu3L9avX487d+5AKpXC1dUV3t7e2L9/P/r3748bN24gJiYGN27cQL169QAA4eHh2L17N2JiYjBv3jzcuHEDQUFBcHd3BwA0bsxfBomodsjLy4VMVg5TM3OFclMzc/x567pKfWyIXQlzc0uFJPyXLRugra0Nv94fqjVeIqJ/Ir7GSr04A12DVTaT+7wff/wRDg4O8PDwAAC0aNECdnZ22LRpk1rHeZG5c+ciOzsbq1evhpubG1avXo0mTZrg7NmzAICMjAx07NhR4ZljT09PFBQU4NatW2JZ8+bNxT9ra2vDwsJCTD4BiAn5083JTp8+jf3790MqlYrH05sBly9frtY1GBoaisnz07Hs7e0VbkRYW1uLY589exbl5eVwdnZWGP/AgQPi2KGhoZgzZw48PT0xa9YsnDlzpsoYSkpKkJeXp3CUlJRU6zqIiN4GP29ejyMHEzFp+jzo6UkAAFcuXcCuXzfj3xOmc48KIiKqcZhA12BOTk4QBAEXLlyosl5UVBTOnTsHHR0d8Th//rzKm4mpOo4qLCws8OGHH2LhwoXIyMhAvXr1sHDhwmr1oaurq/BZEASFsqe/UMlkMgBAQUEBevXqhbS0NIUjMzMTnTt3VuvYT8v+Pra2tjZOnDihMHZGRgaWLFkCABg5ciSuXLmCwYMH4+zZs2jTpg2WLVtWaQzz58+HqampwjF//vxqXQcR0ZtgYmIKLS1t5OY8UCjPzXkAszoWVbbdvnUjftmyAdO/+AZ2jRzF8oxzZ5CX+xBjhwdhQG8vDOjthXt3s7E+ajnGhfR9LddBRESkKi7hrsHMzc3h4+ODFStWIDQ0tMLzyTk5Obh58yaOHz+OpKQkmJs/W0L34MEDdOnSBRcuXHjh0mxVxlHlOejn6enpwcHBQdyFu2nTpoiPj4dcLheT4OTkZBgbG6NBgwbV7v+pVq1aIT4+Hvb29pVuNKOnp6ew8Ze6tGzZEuXl5bh79y7ee++9SuvZ2tpizJgxGDNmDKZNm4Y1a9Zg/PjxSutOmzYNYWFhCmUSiQQZN/LUGjsR0avS0dVFY0dnnD19Am07PrlhKZPJkH76BHx6flBpu1+2bMC2n77HZ58vgoOT4v+jOnv7wN2jjULZvJlh6NzVB126B6j/IoiIarna+j5mTeEMdA23YsUKlJeXo127doiPj0dmZiYyMjKwdOlSdOzYEVFRUWjXrh06d+6MZs2aiUfnzp3Rtm1bhc3EysvLK8zSZmRkqDTOi+zYsQPBwcHYsWMHLl68iP/9739YuHAhEhIS8K9//QvAk52+b968ifHjx+PChQv45ZdfMGvWLISFhYnPP7+MsWPH4sGDBxgwYACOHTuGy5cv47fffsPw4cPFpNne3h5//PEHrl27hvv374szyK/K2dkZgwYNwpAhQ7B161ZcvXoVqampmD9/Pnbu3AkAmDBhAn777TdcvXoVJ0+exP79+9G0adNK+5RIJDAxMVE4JBKJWuIlIlK3gD4f4ffftuNA4i7cunkNa1cuRMmjYjHZXb7oC2yMXS3W/2XLD/jph7X496fT8I51XeQ8/As5D//Co+InG0Mam5iioX1jhUNHRwemdSxQr0FDjVwjERHRU5yBruEaN26MkydPYu7cuZg0aRKysrJgZWWF1q1bY8mSJRg4cCCmTp2qtG1QUBAWLVokbq5VUFCAli1bKtRxcHDApUuXqhxn1apVL4zT1dUVhoaGmDRpEm7evAmJRAInJyesXbsWgwcPBgDUr18fCQkJmDx5Mjw8PGBubo4RI0aIG4a9rHr16iE5ORlTp07F+++/j5KSEtjZ2cHX11dMzMPDwzF06FC4urqiuLgYV69efaUx/y4mJgZz5szBpEmTcPv2bVhaWqJDhw7o2bMngCc3LsaOHYtbt27BxMQEvr6++Oabb9Q2PhGRJnXq3A15uTn46Ye1yHn4APaNHTHt80Uwq/NkVdRf9+4o3CTdm/AzyspK8fV8xZ/9fQcMx4eDRrzR2ImI/gm4iZh6CXJ17SBFRK9VWuY9TYdARERERJVo4WSl6RCUitmvubGHe2tu7NeFM9BERERERES1FKdL1YvPQJNKNmzYoPCapr8fbm5umg6PiIiIiIjoteMMNKmkd+/eaN++vdJzz7/miYiIiIiIqDZiAk0qMTY2hrGxsabDICIiIiKiauBrrNSLS7iJiIiIiIioRlixYgXs7e2hr6+P9u3bIzU1tcr6mzdvRpMmTaCvrw93d3ckJCS81viYQBMREREREdVScrnmjuratGkTwsLCMGvWLJw8eRIeHh7w8fHB3bt3ldY/cuQIBgwYgBEjRuDUqVPo06cP+vTpg/T09Ff81irH11gRvSX4GisiIiKimqumvsZqzT7NjT2qe/Xqt2/fHm3btsXy5csBADKZDLa2thg/fjwiIiIq1O/fvz8KCwuxY8cOsaxDhw5o0aIFVq9e/UqxV4Yz0ERERERERKRRjx8/xokTJ9C9+7OsW0tLC927d0dKSorSNikpKQr1AcDHx6fS+urATcSIiIiIiIhqKZlMc2OXlJSgpKREoUwikUAikVSoe//+fZSXl8Pa2lqh3NraGhcuXFDaf3Z2ttL62dnZrxh55TgDTURERERERGo3f/58mJqaKhzz58/XdFivhDPQREREREREtZQmd7yaNm0awsLCFMqUzT4DgKWlJbS1tXHnzh2F8jt37sDGxkZpGxsbm2rVVwfOQBMREREREZHaSSQSmJiYKByVJdB6enpo3bo1EhMTxTKZTIbExER07NhRaZuOHTsq1AeAvXv3VlpfHTgDTfSWqKk7OxIRERFRzfU2vXMpLCwMQ4cORZs2bdCuXTssXrwYhYWFGD58OABgyJAhqF+/vrgM/NNPP4WXlxcWLVqEgIAAxMXF4fjx4/juu+9eW4xMoIneEiO+4GusiIiIiGqqqP9wsuNV9e/fH/fu3cPMmTORnZ2NFi1aYPfu3eJGYTdu3ICW1rNF1J06dcLGjRsxY8YMfPbZZ3BycsLPP/+MZs2avbYY+R5oorcEE2giIiKimqumJtCrdmtu7H/7am7s14Uz0ERERERERLWUjNOlasVNxIiIiIiIiIhUwBloIiIiIiKiWkqzT+wKGhz79eAMNBEREREREZEKmEATERERERERqYBLuImIiIiIiGopvnNJvTgDTURERERERKQCzkATERERERHVUjKZpiOoXTgDTTVSdnY2xo8fj8aNG0MikcDW1ha9evVCYmKiQr358+dDW1sbX331VYU+YmNjYWZmppZxiIjoxf7lZYhFE8yxKsISkwaZ4h1z7Srr+3saYMYIM6yYYoFvwiwwrp8JrC2etTHSFzDQR4q5n9TBqghL/DfUHAN8jGAgqX27uhIR0duBM9BU41y7dg2enp4wMzPDV199BXd3d5SWluK3337D2LFjceHCBbFudHQ0pkyZgujoaEyePPm1jUNERFXz62SA7u0MEPVLPu7nlKNPFyOEDTTFjFUPUFauvI1zQz3sP1aMq1ll0NICgryNMGmgKWasfoDHpYCZsRbMjLXw095C/Hm/DBam2hjsL4WZsTZWbcl7sxdIRPSW4jPQ6sUZaKpxPvnkEwiCgNTUVAQFBcHZ2Rlubm4ICwvD0aNHxXoHDhxAcXExPv/8c+Tl5eHIkSOvZZyqCIKAtWvXIjAwEIaGhnBycsKvv/6qUOfAgQNo164dJBIJ6tati4iICJSVlVUrViKimq57OwPsOFSEtIuPcetuOaJ+yYeZsRZaNZFU2mbxj7lIPlOCP++V49adckT9mg8LM23Y19UFANy+V46VW/JwOvMx7j2U4cK1UmzbXwgPJz1ocRKaiIg0gAk01SgPHjzA7t27MXbsWBgZGVU4//cl2VFRURgwYAB0dXUxYMAAREVFvZZxXmT27Nno168fzpw5A39/fwwaNAgPHjwAANy+fRv+/v5o27YtTp8+jVWrViEqKgpz5sxRuX8ioprO0kwLZsbaOH/1sVhWXCLHldulcKiv+mI3w/9fml1YXPkDewYSLTwqkUPGGRUiItIAJtBUo1y6dAlyuRxNmjSpsl5eXh62bNmC4OBgAEBwcDB++uknFBQUqHUcVQwbNgwDBgyAo6Mj5s2bh4KCAqSmpgIAVq5cCVtbWyxfvhxNmjRBnz59MHv2bCxatAgy7uhARLWEqfTJrxN5hYpZbV6hDCZS1X7VEAB89L4UmTdKcfue8jXfUgMBvd4zxIFTxa8ULxHRP4lMrrmjNuIz0FSjyFV8SOPHH3+Eg4MDPDw8AAAtWrSAnZ0dNm3ahBEjRqhtHFU0b95c/LORkRFMTExw9+5dAEBGRgY6duwIQXi21tDT0xMFBQW4desWGjZsWKG/kpISlJSUKJRJJJUvgSQietPaN5NgSICx+HnJj7mv3OcgPynqv6ODBbE5Ss/r6wn4dIAp/rxfjl8PFL3yeERERC+DCTTVKE5OThAE4YUbeEVFReHcuXPQ0Xn2n7BMJkN0dLRKCbSq46hCV1dX4bMgCK80uzx//nzMnj1boWzWrFmA9tiX7pOISJ1OX3yM2bcfiJ91dJ7cJDQxEpD7t4VAJkZauJn94j0fBvpK4eGkhy+/z8HD/Io/P/X1BEwcaIpHJXIs/ykX5VzAQ0SkMm4ipl5cwk01irm5OXx8fLBixQoUFhZWOJ+Tk4OzZ8/i+PHjSEpKQlpamngkJSUhJSVFpaRYlXHUoWnTpkhJSVGY8U5OToaxsTEaNGigtM20adOQm5urcEybNk0t8RARqcOjx3LcfSgTjz/vlSMnvxxNG+mJdfT1BDSur4vLt6tOoAf6StHKRQ9f/ZCL+znKk+ewQaYoK5dj2abcSnf0JiIiehOYQFONs2LFCpSXl6Ndu3aIj49HZmYmMjIysHTpUnTs2BFRUVFo164dOnfujGbNmolH586d0bZtW4XNxMrLyxWS7LS0NGRkZKg0jjp88sknuHnzJsaPH48LFy7gl19+waxZsxAWFgYtLeX//CQSCUxMTBQOLuEmoppuX2oxer5rCA9nPdR/Rxsj+xgjJ1+GkxeePZISHmyKrm30xc/BflJ0dJfgu235eFQig4mRABMjAbr/v7joafKspysgdkc+9CWCWEfgLtxERKQBXMJNNU7jxo1x8uRJzJ07F5MmTUJWVhasrKzQunVrLFmyBAMHDsTUqVOVtg0KCsKiRYswb948AEBBQQFatmypUMfBwQGXLl2qcpxVq1ap5Vrq16+PhIQETJ48GR4eHjA3N8eIESMwY8YMtfRPRFRT7DpSDD1dAUMDjGGoLyDzRim+2ag4Y2xVRxtSw2c3D73bGAAApg41U+gr+pc8JJ8pgV1dHTg0ePKYzIJxFgp1piz9C3/lci03EdGLyDW6m1ftu9spyNW5mxIRvTYjvrin6RCIiIiIqBJR/7HSdAhKLdyquZuN4R/UvgXPnIEmIiIiIiKqpWrr66Q0pfbdEiBSkw0bNkAqlSo93NzcNB0eERERERG9YZyBJqpE79690b59e6Xnnn91FRERERFRTcQHdtWLCTRRJYyNjWFsbKzpMIiIiIiIqIbgEm4iIiIiIiIiFXAGmoiIiIiIqJaScRcxteIMNBEREREREZEKOANNRERERERUS3ETMfXiDDQRERERERGRCphAExEREREREamAS7iJiIiIiIhqKS7hVi/OQBMRERERERGpgDPQRG+JqP9YaToEIiIiInrLyDgFrVZMoIneEku284cfERERUU31aS9B0yHQG8Al3EREREREREQq4Aw0ERERERFRLSWXaTqC2oUz0EREREREREQq4Aw0ERERERFRLSXnJmJqxRloIiIiIiIiIhVwBpqIiIiIiKiWkvEZaLXiDDQRERERERGRCphAExEREREREamAS7iJiIiIiIhqKW4ipl6cgSaqBnt7eyxevFj8LAgCfv75Z43FQ0REREREbw4TaAIADBs2DIIgYMyYMRXOjR07FoIgiHWqOiIjI3Ht2jWFMnNzc3h5eeHQoUNKxx49ejS0tbWxefPmCuciIyOVxpWWlgZBEHDt2jWxbNu2bejQoQNMTU1hbGwMNzc3TJgwQaXrj42NVYhZKpWidevW2Lp1q0K9Y8eO4eOPP1apTyKifxK5XI7U3UsRO/s9fBvhgV+/HY6ce9de2O5s8gasn9sV30Y0x5Yl/XDnxhmF80lbZuKH+T3wbYQHomd1RELMJ3h498prugoiotpHJtfcURsxgSaRra0t4uLiUFxcLJY9evQIGzduRMOGDQEAWVlZ4rF48WKYmJgolIWHh4tt9+3bh6ysLBw8eBD16tVDz549cefOHYUxi4qKEBcXhylTpiA6OlppXPr6+oiKikJmZmalsScmJqJ///4ICgpCamoqTpw4gblz56K0tFTl6//7tZw6dQo+Pj7o168f/ve//4l1rKysYGhoqHKfRET/FKf2r8WZw+vhFRSJoNCfoKNngB1rRqKstKTSNplpCUj+dQHa9BiLDydshWU9F+xYMxJF+X+JdawauKFrv3kYMGUneo1aC8jl2P7dCMhk5W/isoiIiBQwgSZRq1atYGtrqzDrunXrVjRs2BAtW7YEANjY2IiHqakpBEFQKJNKpWJbCwsL2NjYoFmzZvjss8+Ql5eHP/74Q2HMzZs3w9XVFRERETh48CBu3rxZIS4XFxd4e3tj+vTplca+fft2eHp6YvLkyXBxcYGzszP69OmDFStWqHz9f78WJycnzJkzB1paWjhz5tlsyPNLuJ83a9Ys1K1bV2xz+PBhvPfeezAwMICtrS1CQ0NRWFiockxERG8DuVyOM4e+R+vuY9CoWTdY1nNBt4++RGHeXVxN31dpu9MHYuHa/kM0bRcEcxtHeAXNho6uPi4cixfruHXoj3oObWFi3gBWDdzQzncCCnKykP/g9pu4NCIiIgVMoElBSEgIYmJixM/R0dEYPnz4K/VZXFyM77//HgCgp6encC4qKgrBwcEwNTWFn58fYmNjlfaxYMECxMfH4/jx40rP29jY4Ny5c0hPT3+lWJ8qLy/HunXrADy5sfAicrkc48ePx/fff49Dhw6hefPmuHz5Mnx9fREUFIQzZ85g06ZNOHz4MMaNG6eWGImIaoq8B7dQlH8Ptk6dxDKJgTGsGzZH9vU0pW3Kyx7j3u1zaOD8rI2gpYUGTh0rbVNaUoQLx7bCxLwBpGY26rwEIqJaSy6Ta+yojbgLNykIDg7GtGnTcP36dQBAcnIy4uLikJSUVO2+OnXqBC0tLRQVFUEul6N169bo1q2beD4zMxNHjx4VZ7yDg4MRFhaGGTNmQBAEhb5atWqFfv36YerUqUhMTKww1vjx43Ho0CG4u7vDzs4OHTp0wPvvv49BgwZBIpGoFG9ubq44g15cXAxdXV189913cHBwqLJdWVkZgoODcerUKRw+fBj169cHAMyfPx+DBg0Sn8N2cnLC0qVL4eXlhVWrVkFfX1+luIiIarqi/HsAAANjC4VyA6klivLvK23zqPAh5LJyGEqfa2NsiYd3ryqUpSdvxJGdC1H2uAhmVo3Q6+NoaOso3pAlIiJ6E5hAkwIrKysEBAQgNjYWcrkcAQEBsLS0fKm+Nm3ahCZNmiA9PR1TpkxBbGwsdHV1xfPR0dHw8fER+/f398eIESPw+++/KyTaT82ZMwdNmzbFnj178M477yicMzIyws6dO3H58mXs378fR48exaRJk7BkyRKkpKSo9NyysbExTp48CeDJs9n79u3DmDFjYGFhgV69elXabuLEiZBIJDh69KjCd3X69GmcOXMGGzZsEMvkcjlkMhmuXr2Kpk2bKu2vpKQEJSWKzww+uQnAXxaJqGa4eHI7krbMEj8HjFj9WsdzatULDZw7oSjvHtIORGPP+gkIHPcjdHRVu0FKRPRPxrdYqRcTaKogJCREXGZcnWeIn2drawsnJyc4OTmhrKwMgYGBSE9Ph0QiEZdIZ2dnQ0fn2X+G5eXliI6OVppAOzg4YNSoUYiIiEBUVJTSMR0cHODg4ICRI0di+vTpcHZ2xqZNm1Rahq6lpQVHR0fxc/PmzbFnzx58+eWXVSbQPXr0wI8//ojffvsNgwYNEssLCgowevRohIaGVmjzdFM2ZebPn4/Zs2crlM2aNQt1Ws+qpAUR0Ztl7+qN/mHNxc/lZY8BAMX5f8HI5NkNzuKC+7Cop/xmob5RHQha2igq+EuhvDj/PgxNFG/cSgyMITEwhpmVPaztPBD1n/a4mr4XTi17quuSiIiIVMIEmirw9fXF48ePIQgCfHx81NJn3759MXPmTKxcuRITJ05EQkIC8vPzcerUKWhra4v10tPTMXz4cOTk5MDMzKxCPzNnzoSDgwPi4uJeOKa9vT0MDQ1fadMubW1thV3Jlenduzd69eqFgQMHQltbGx999BGAJ8vOz58/r5CUq2LatGkICwtTKJNIJFi9p3qxExG9Lnr6UujpP9s0Ui6Xw9DYCrcyU2BZ/0nC/PhRAe7cOAO3jgOU9qGtower+m64nZmCxs26P+lHJsOtS0fh7jlIaZtn5GLSTkREVZPV0meRNYUJNFWgra2NjIwM8c/qIAgCQkNDERkZidGjRyMqKgoBAQHw8PBQqOfq6oqJEydiw4YNGDt2bIV+rK2tERYWhq+++kqhPDIyEkVFRfD394ednR1ycnKwdOlSlJaWokePHirFKJfLkZ2dDeDJM9B79+7Fb7/9hpkzZ76wbWBgINavX4/BgwdDR0cHffv2xdSpU9GhQweMGzcOI0eOhJGREc6fP4+9e/di+fLllfYlkUgqeW6bP/yIqGYSBAHN3xuCE4mrYWplDxPz+kjdvRRGJu+g0f8nxwDwy+phaNysO9zfDQYAeHgNw+9xEbBq0AzvNGyOM4fWoexxMZq0/QAAkPvXTVxKS4CtiycMjMxRkJuNU7+vgbauBA2beGnkWomI6J+NCTQpZWJiovY+hw4diunTp2PZsmXYuXMnNm7cWKGOlpYWAgMDERUVpTSBBoDw8HCsWrUKjx49Esu8vLywYsUKDBkyBHfu3EGdOnXQsmVL7NmzBy4uLirFl5eXh7p16wJ4ksTa2dnh888/x9SpU1Vq37dvX8hkMgwePBhaWlr44IMPcODAAUyfPh3vvfce5HI5HBwc0L9/f5X6IyJ6m7T0Homyx8VI2jITj4vzULdRa/QctUbhOeW8v26guPCh+NmphT8eFTxA6m/LUJR/D5b1mqLnyDUwNH6yhFtHRw9ZV0/gzKHvUVKcBwOpBeo1boMPxv0Iw+c2LCMiInoTBLmcj5UTvQ2WbOc/VSIiIqKa6tNewosracDU76p+HPF1+vJjA42N/brwPdBEREREREREKmACTf8Ibm5ukEqlSo+/v2aKiIiIiKg2kcs0d9RGfAaa/hESEhJQWlqq9Jy1tfUbjoaIiIiIiN5GTKDpH8HOzk7TIRARERER0VuOCTQREREREVEtJeOe0WrFZ6CJiIiIiIiIVMAZaCIiIiIiolqKby1WL85AExEREREREamAM9BERERERES1lEzGGWh14gw0ERERERERkQqYQBMRERERERGpgEu4iYiIiIiIainuIaZeTKCJ3hKf9hI0HQIRERER0T8aE2iit8SS7bx9SERERFRT1dTJDjk3EVMrPgNNREREREREpAIm0EREREREREQq4BJuIiIiIiKiWkrGXcTUijPQRERERERERCrgDDQREREREVEtxU3E1Isz0EREREREREQq4Aw0ERERERFRLcUZaPXiDDQRERERERGRCphAE/2/pKQkCIKAnJycSuvExsbCzMxM/BwZGYkWLVq89tiIiIiIiEjzmEC/QcOGDYMgCBgzZkyFc2PHjoUgCGKdqo7IyEhcu3ZNoczc3BxeXl44dOiQ0rFHjx4NbW1tbN68ucK5yMhIpXGlpaVBEARcu3ZNLNu2bRs6dOgAU1NTGBsbw83NDRMmTFDp+mNjYyEIApo2bVrh3ObNmyEIAuzt7VXq6ylBEPDzzz9Xq82r6N+/Py5evPjGxiMielvI5XKk7l6K2Nnv4dsID/z67XDk3Lv2wnZnkzdg/dyu+DaiObYs6Yc7N85U2v+ONaOwMrwJrqTvU3P0RES1l0yuuaM2YgL9htna2iIuLg7FxcVi2aNHj7Bx40Y0bNgQAJCVlSUeixcvhomJiUJZeHi42Hbfvn3IysrCwYMHUa9ePfTs2RN37txRGLOoqAhxcXGYMmUKoqOjlcalr6+PqKgoZGZmVhp7YmIi+vfvj6CgIKSmpuLEiROYO3cuSktLVb5+IyMj3L17FykpKQrlUVFR4vVrgqrXYGBggHfeeec1R0NE9PY5tX8tzhxeD6+gSASF/gQdPQPsWDMSZaUllbbJTEtA8q8L0KbHWHw4YSss67lgx5qRKMr/q0LdM4fWAYLwOi+BiIjeEg8ePMCgQYNgYmICMzMzjBgxAgUFBVXWHz9+PFxcXGBgYICGDRsiNDQUubm51R6bCfQb1qpVK9ja2mLr1q1i2datW9GwYUO0bNkSAGBjYyMepqamEARBoUwqlYptLSwsYGNjg2bNmuGzzz5DXl4e/vjjD4UxN2/eDFdXV0RERODgwYO4efNmhbhcXFzg7e2N6dOnVxr79u3b4enpicmTJ8PFxQXOzs7o06cPVqxYofL16+joYODAgQqJ/K1bt5CUlISBAwdWqL9q1So4ODhAT08PLi4uWL9+vXju6Wx1YGBghdnrqtoBT2auV61ahd69e8PIyAhz584VzyUnJ6N58+bQ19dHhw4dkJ6eLp57fgn38y5fvozGjRtj3LhxkMvlKCkpQXh4OOrXrw8jIyO0b98eSUlJKn5bRERvB7lcjjOHvkfr7mPQqFk3WNZzQbePvkRh3l1crWK2+PSBWLi2/xBN2wXB3MYRXkGzoaOrjwvH4hXq3b+dgbQDMejab24lPRERUWXkMrnGjtdl0KBBOHfuHPbu3YsdO3bg4MGD+Pjjjyut/+eff+LPP//EwoULkZ6ejtjYWOzevRsjRoyo9thMoDUgJCQEMTEx4ufo6GgMHz78lfosLi7G999/DwDQ09NTOBcVFYXg4GCYmprCz88PsbGxSvtYsGAB4uPjcfz4caXnbWxscO7cOYWE8mWEhITgp59+QlFREYAnSamvry+sra0V6m3btg2ffvopJk2ahPT0dIwePRrDhw/H/v37AQDHjh0DAMTExCArK0v8/KJ2T0VGRiIwMBBnz55FSEiIWD558mQsWrQIx44dg5WVFXr16qXSDPWZM2fw7rvvYuDAgVi+fDkEQcC4ceOQkpKCuLg4nDlzBh9++CF8fX2rnOknInrb5D24haL8e7B16iSWSQyMYd2wObKvpyltU172GPdun0MD52dtBC0tNHDqqNCm9HEx9m4IR+fAmTA0sXpdl0BERG+JjIwM7N69G2vXrkX79u3x7rvvYtmyZYiLi8Off/6ptE2zZs0QHx+PXr16wcHBAV27dsXcuXOxfft2lJWVVWt8JtAaEBwcjMOHD+P69eu4fv06kpOTERwc/FJ9derUCVKpFEZGRli4cCFat26Nbt26ieczMzNx9OhR9O/fXxw7JiYGcnnFO0KtWrVCv379MHXqVKVjjR8/Hm3btoW7uzvs7e3x0UcfITo6GiUllS/PU6Zly5Zo3LgxtmzZArlcjtjYWIUE9qmFCxdi2LBh+OSTT+Ds7IywsDB88MEHWLhwIQDAyurJL1JmZmawsbERP7+o3VMDBw7E8OHD0bhxY4Xl47NmzUKPHj3g7u6OdevW4c6dO9i2bVuV13TkyBF06dIF4eHhmDNnDgDgxo0biImJwebNm/Hee+/BwcEB4eHhePfddxVuoBARve2K8u8BAAyMLRTKDaSWKMq/r7TNo8KHkMvKYSh9ro2xJYrynrVJ/nU+bOxbolGzbs93QURENVxJSQny8vIUjurmDs9LSUmBmZkZ2rRpI5Z1794dWlpaFVbiViU3NxcmJibQ0anem52ZQGuAlZUVAgICEBsbi5iYGAQEBMDS0vKl+tq0aRNOnTqF+Ph4ODo6IjY2Frq6uuL56Oho+Pj4iP37+/sjNzcXv//+u9L+5syZg0OHDmHPnj0VzhkZGWHnzp24dOkSZsyYAalUikmTJqFdu3bibLKqns7CHzhwAIWFhfD3969QJyMjA56engplnp6eyMjIqLJvVdv9/R/d33Xs2FH8s7m5OVxcXKoc88aNG+jRowdmzpyJSZMmieVnz55FeXk5nJ2dIZVKxePAgQO4fPlypf29jh80RETqdPHkdnz3WSvxkJVX7+69qq6e+x23L/2Bd/817bX0T0T0TyCXyzV2zJ8/H6ampgrH/PnzX+l6srOzK+xJpKOjA3Nzc2RnZ6vUx/379/HFF19Uuey7MtVLt0ltQkJCMG7cOACo1jPEz7O1tYWTkxOcnJxQVlaGwMBApKenQyKRoLy8HOvWrUN2drbCnZXy8nJER0crzFQ/5eDggFGjRiEiIgJRUVFKx3RwcICDgwNGjhyJ6dOnw9nZGZs2barWMvRBgwZhypQpiIyMxODBg6t950cdjIyM1NKPlZUV6tWrhx9//BEhISEwMTEBABQUFEBbWxsnTpyAtra2Qpu/P8f+vPnz52P27NkKZbNmzUKd1rPUEi8R0auyd/VG/7Dm4ufysscAgOL8v2Bk8uyXmuKC+7CoV/HNCwCgb1QHgpY2igoUNwwrzr8PQ5MnN31vXzqK3L9uYO1/2inU+W1dKOo2ao0+nyjub0FERDXLtGnTEBYWplAmkUiU1o2IiMCXX35ZZX8vmkhTRV5eHgICAuDq6orIyMhqt2cCrSG+vr54/PgxBEGAj4+PWvrs27cvZs6ciZUrV2LixIlISEhAfn4+Tp06pZDApaenY/jw4cjJyVG6IdbMmTPh4OCAuLi4F45pb28PQ0NDFBYWVitWc3Nz9O7dGz/99BNWr16ttE7Tpk2RnJyMoUOHimXJyclwdXUVP+vq6qK8vLza7apy9OhRcUn3w4cPcfHiRaWv3nrKwMAAO3bsgL+/P3x8fLBnzx4YGxujZcuWKC8vx927d/Hee++pNDZQ+Q+a1RUXBRARaYSevhR6+s9uBMrlchgaW+FWZgos6z/5efn4UQHu3DgDt44DlPahraMHq/puuJ2ZgsbNuj/pRybDrUtH4e45CADQynsUmrbrq9Bu06Le8OwdAXvXrq/j0oiIah2ZBt8nJZFIKk2Ynzdp0iQMGzasyjqNGzeGjY0N7t69q1BeVlaGBw8ewMbGpsr2+fn58PX1hbGxMbZt26awcldVTKA1RFtbW7yD8vzs5MsSBAGhoaGIjIzE6NGjERUVhYCAAHh4eCjUc3V1xcSJE7FhwwaMHTu2Qj/W1tYICwvDV199pVAeGRmJoqIi+Pv7w87ODjk5OVi6dClKS0vRo0ePascbGxuLlStXwsLCQun5yZMno1+/fmjZsiW6d++O7du3Y+vWrdi379mOrvb29khMTISnpyckEgnq1KmjUruqfP7557CwsIC1tTWmT58OS0tL9OnTp8o2T5e3+/n5wc/PD7t374azszMGDRqEIUOGYNGiRWjZsiXu3buHxMRENG/eHAEBAUr7qvwHTS19mR4RvfUEQUDz94bgROJqmFrZw8S8PlJ3L4WRyTto9P/JMQD8snoYGjfrDvd3n+z74eE1DL/HRcCqQTO807A5zhxah7LHxWjS9gMAgKGJldKNw6R16sHEosGbuTgiInojrKysxD2NqtKxY0fk5OTgxIkTaN26NQDg999/h0wmQ/v27Sttl5eXBx8fH0gkEvz666/Q19d/qTj5DLQGmZiYiMt91WXo0KEoLS3FsmXLsHPnTgQFBVWoo6WlhcDAwEqXaANAeHh4hWXGXl5euHLlCoYMGYImTZrAz88P2dnZ2LNnD1xcXKodq4GBQaXJMwD06dMHS5YswcKFC+Hm5oZvv/0WMTEx6NKli1hn0aJF2Lt3L2xtbcXXgKnSrioLFizAp59+itatWyM7Oxvbt2+vsLO5MlKpFLt27YJcLkdAQAAKCwsRExODIUOGYNKkSXBxcUGfPn1w7Ngxjb7zmojodWjpPRLunsFI2jITW5Z8iNLHReg5ag10dJ/dEMz76waKCx+Kn51a+KNTzylI/W0Zfvq6D+7fvoCeI9fA0Pjl9gUhIqKKNPkM9OvQtGlT+Pr6YtSoUUhNTUVycjLGjRuHjz76CPXq1QMA3L59G02aNEFqaiqAJ8nz+++/j8LCQkRFRSEvLw/Z2dnIzs6usJr1RQT567oyIlKrJdv5T5WIiIiopvq0l6DpEJQaOVf52xDehLXTX88N0QcPHmDcuHHYvn07tLS0EBQUhKVLl4oTgNeuXUOjRo2wf/9+dOnSBUlJSfD29lba19WrV2Fvb6/y2FzCTURERERERG8Nc3NzbNy4sdLz9vb2CjPgXbp0UduMOJdwk9q4ubkpvK7p78eGDRs0HR4RERER0T+OXCbX2FEbcQaa1CYhIQGlpaVKz1lbW7/haIiIiIiIiNSLCTSpjZ2dnaZDICIiIiKiv6mtM8GawiXcRERERERERCpgAk1ERERERESkAi7hJiIiIiIiqqVkfGuxWnEGmoiIiIiIiEgFnIEmIiIiIiKqpbiJmHpxBpqIiIiIiIhIBZyBJiIiIiIiqqXkfAZarTgDTURERERERKQCzkATvSU+7SVoOgQiIiIion80JtBEb4ltqeWaDoGIiIiIKhHYTlvTISgl4yZiasUl3EREREREREQq4Aw0ERERERFRLcXXWKkXZ6CJiIiIiIiIVMAEmoiIiIiIiEgFXMJNRERERERUS/E90OrFGWgiIiIiIiIiFXAGmoiIiIiIqJaSy2SaDqFW4Qw0ERERERERkQqYQL9hw4YNQ58+faqs06VLF0yYMEH8bG9vj8WLF7/WuOjF+PdARERERPTPVq0EetiwYRAEAWPGjKlwbuzYsRAEQaxT1REZGYlr164plJmbm8PLywuHDh1SOvbo0aOhra2NzZs3VzgXGRmpNK60tDQIgoBr166JZdu2bUOHDh1gamoKY2NjuLm5KSSrVYmNjRXj1dLSQoMGDTB8+HDcvXtXpfYv69ixY/j4449fqY8X/b3Y29urJ9gaJDIyEi1atKh2u9jYWJiZmVUoV8ffAxFRbZSydyMWTOyOGSEtsGJWf9y8fKbK+mf+2I1FUwIwI6QFvpn2L1xIO6BwPj/3Pn769jPMHe+F/4xohej/foz72dde4xUQEdVeMplcY0dtVO0ZaFtbW8TFxaG4uFgse/ToETZu3IiGDRsCALKyssRj8eLFMDExUSgLDw8X2+7btw9ZWVk4ePAg6tWrh549e+LOnTsKYxYVFSEuLg5TpkxBdHS00rj09fURFRWFzMzMSmNPTExE//79ERQUhNTUVJw4cQJz585FaWmpytf/9Fpu3bqFNWvWYNeuXRg8eLDK7V+GlZUVDA0NX6mPJUuWKPwdAEBMTIz4+dixYwr1Hz9+/ErjaZJcLkdZWZna+1XH3wMRUW1z+ugu7Nj4JboHfoLxX2xB3YZNEPXfj1GQ+5fS+tcvnkLcyslo4/UBQr+Ih1vrbli/eDyybz75/7dcLsf6xePx4N5NDJm4HKFz4mFmWRdrF4zA40dFb/LSiIiIKqh2At2qVSvY2tpi69atYtnWrVvRsGFDtGzZEgBgY2MjHqamphAEQaFMKpWKbS0sLGBjY4NmzZrhs88+Q15eHv744w+FMTdv3gxXV1dERETg4MGDuHnzZoW4XFxc4O3tjenTp1ca+/bt2+Hp6YnJkyfDxcUFzs7O6NOnD1asWKHy9T+9lnr16sHPzw+hoaHYt28fiouLlc54Ll68WOns7uzZs2FlZQUTExOMGTOmyoT1+aXDOTk5GD16NKytraGvr49mzZphx44dVcZtamqq8HcAAGZmZuLntm3b4osvvsCQIUNgYmIizrROnToVzs7OMDQ0ROPGjfGf//xH4YbD02tev3497O3tYWpqio8++gj5+flinS1btsDd3R0GBgawsLBA9+7dUVhYCODZkvaqvo+SkhKEhobinXfegb6+Pt59912FhD8pKQmCIGDXrl1o3bo1JBIJfvjhB8yePRunT58WZ9ljY2MBAF9//TXc3d1hZGQEW1tbfPLJJygoKBD7Gj58OHJzcxVWTCj7e7hx4wb+9a9/QSqVwsTEBP369VO4+aPKd0NE9LY7vCsW7bp8iDadP4B1fUf0GT4LehJ9HD+4VWn95D3r4dz8XXgFjMA79R3wft9Q1LN3Rcq+DQCA+9nXcePSaQQOmwnbxu6wqtsIfYbNQunjEqQdTXiTl0ZEVCvI5XKNHbXRSz0DHRISgpiYGPFzdHQ0hg8f/kqBFBcX4/vvvwcA6OnpKZyLiopCcHAwTE1N4efnJyZCz1uwYAHi4+Nx/PhxpedtbGxw7tw5pKenv1Ksf2dgYACZTFatGc/ExERkZGQgKSkJP/74I7Zu3YrZs2er1FYmk8HPzw/Jycn44YcfcP78eSxYsADa2tovewmihQsXwsPDA6dOncJ//vMfAICxsTFiY2Nx/vx5LFmyBGvWrME333yj0O7y5cv4+eefsWPHDuzYsQMHDhzAggULADxZjTBgwACEhISI1/zBBx8o/IN60fcxZcoUxMfHY926dTh58iQcHR3h4+ODBw8eKMQRERGBBQsWICMjAz169MCkSZPg5uYmzrL3798fAKClpYWlS5fi3LlzWLduHX7//XdMmTIFANCpU6cKqyb+vmLi738P//rXv/DgwQMcOHAAe/fuxZUrV8QxVPluiIjedmVlj3H72nk4unUQy7S0tODo1hHXL6UpbXP9Uhoc3ToqlDm7e+J65mkAQHnZkxuoOroShT51dPVw7X8n1XwFRERE1fNSr7EKDg7GtGnTcP36dQBAcnIy4uLikJSUVO2+OnXqBC0tLRQVFUEul6N169bo1q2beD4zMxNHjx4VZ7yDg4MRFhaGGTNmQBAEhb5atWqFfv36YerUqUhMTKww1vjx43Ho0CG4u7vDzs4OHTp0wPvvv49BgwZBIpFUqP8imZmZWL16Ndq0aQNjY2OV2+np6SE6OhqGhoZwc3PD559/jsmTJ+OLL76AllbV9zT27duH1NRUZGRkwNnZGQDQuHHjaseuTNeuXTFp0iSFshkzZoh/tre3R3h4uLic/imZTIbY2FjxOxg8eDASExMxd+5cZGVloaysDB988AHs7OwAAO7u7gpjVPV9FBcXY9WqVYiNjYWfnx8AYM2aNdi7dy+ioqIwefJksZ/PP/8cPXr0ED9LpVLo6OiIM+5PPb9B25w5czBmzBisXLkSenp6CqsmKpOYmIizZ8/i6tWrsLW1BQB8//33cHNzw7Fjx9C2bdsXfjdERG+7ovwcyGTlkJpaKpRLTSxw788rStsU5NyH1NRCsb6pJQpy7wMArOo2gplFXez+6RsEhkRCT2KAw7u/R+6DbOTn3nst10FEVJvJa+mzyJryUjPQVlZWCAgIQGxsLGJiYhAQEABLS8sXN1Ri06ZNOHXqFOLj4+Ho6IjY2Fjo6uqK56Ojo+Hj4yP27+/vj9zcXPz+++9K+5szZw4OHTqEPXv2VDhnZGSEnTt34tKlS5gxYwakUikmTZqEdu3aoahIteeqcnNzIZVKYWhoCBcXF1hbW2PDhg3VumYPDw+FZ2k7duyIgoICpUvTn5eWloYGDRqIybM6tWnTpkLZpk2b4OnpKS69nzFjBm7cuKFQx97eXuEGQt26dcWN1Tw8PNCtWze4u7vjww8/xJo1a/Dw4UOF9lV9H5cvX0ZpaSk8PT3F87q6umjXrh0yMjJeGL8y+/btQ7du3VC/fn0YGxtj8ODB+Ouvv1T+bwAAMjIyYGtrKybPAODq6gozMzOFuKr6bipTUlKCvLw8haOkpETl2IiI3mbaOroI/nQp7mdfw+djOmLmiNa4cj4VLs3fq3DjnIiI6E176ddYhYSEIDY2FuvWrUNISMhLB2BrawsnJycEBgZi3rx5CAwMFJOF8vJyrFu3Djt37oSOjg50dHRgaGiIBw8eVLqZmIODA0aNGoWIiIhK1907ODhg5MiRWLt2LU6ePInz589j06ZNKsVrbGyMtLQ0pKeno7CwEAcPHhSTWS0trQpjVmeDMlUYGBiotb+/MzIyUvickpKCQYMGwd/fHzt27MCpU6cwffr0Cs9r//2GB/DkOXHZ/7+wXVtbG3v37sWuXbvg6uqKZcuWwcXFBVevXn3t8Stz7do19OzZE82bN0d8fDxOnDghPgP/OjZOq+q7qcz8+fNhamqqcMyfP1/tsRERvSpDYzNoaWmLs8dPFeT9BamZ8hvrUjPLChuMFeTeV5jFbtDIDZ/O3YbIb//AZ8sOIGTKdygqyIG5le3z3REREb1RL51A+/r64vHjxygtLYWPj49agunbty90dHSwcuVKAEBCQgLy8/Nx6tQppKWlicfT52RzcnKU9jNz5kxcvHgRcXFxLxzT3t4ehoaG4qZWL6KlpQVHR0c0bty4QjJrZWWF7OxshSQ6LS2tQh+nT59W2MX86NGjkEqlCrOZlWnevDlu3bqFixcvqhTvqzhy5Ajs7Owwffp0tGnTBk5OTuKy/eoQBAGenp6YPXs2Tp06BT09PWzbtk08X9X34eDgAD09PSQnJ4vnS0tLcezYMbi6ulY5rp6eHsrLyxXKTpw4AZlMhkWLFqFDhw5wdnbGn3/++cJ2z2vatClu3rypsGrg/PnzyMnJeWFcLzJt2jTk5uYqHNOmTXulPomIXgcdHT3Ut3fFpfNHxTKZTIZL547CzrGF0jZ2ji1w6dxRhbLM9BTYOXlUqKtvaAypiTnuZ1/Dravn4Nq6q1rjJyL6J5DL5Bo7aqOXTqC1tbWRkZGB8+fPq2UDK+BJohUaGooFCxagqKgIUVFRCAgIgIeHB5o1ayYe/fr1g5mZWaVLp62trREWFoalS5cqlEdGRmLKlClISkrC1atXcerUKYSEhKC0tFTh2dmX1aVLF9y7dw///e9/cfnyZaxYsQK7du2qUO/x48cYMWIEzp8/j4SEBMyaNQvjxo174fPPAODl5YXOnTsjKCgIe/fuxdWrV7Fr1y7s3r37leN/npOTE27cuIG4uDhcvnwZS5cuVUh8VfHHH39g3rx5OH78OG7cuIGtW7fi3r17aNq0qVinqu/DyMgI//73vzF58mTs3r0b58+fx6hRo1BUVIQRI0ZUOba9vT2uXr2KtLQ03L9/HyUlJXB0dERpaSmWLVuGK1euYP369Vi9enWFdgUFBUhMTMT9+/eVLu3u3r073N3dMWjQIJw8eRKpqakYMmQIvLy8VF5KXhmJRAITExOF42We0SciehPe9RuGY0lbcOLQz7h7+zJ+jp2NxyXFaN05EACwaXUEdm/6Wqzv+f5gXDx7GAcTYnD3zyvYu3U5bl9NR8fug8Q6Z/7YjcsZqfjr7k2cO5GItV+OhGvrbnB296wwPhER0Zv00gk0APGXe3UaOnSomODs3LkTQUFBFepoaWkhMDAQUVFRlfYTHh6u8Los4EnyeeXKFQwZMgRNmjSBn58fsrOzsWfPHri4uLxy7E2bNsXKlSuxYsUKeHh4IDU1VekOzt26dYOTkxM6d+6M/v37o3fv3uKrklQRHx+Ptm3bYsCAAXB1dcWUKVNeOGP6Mnr37o2JEydi3LhxaNGiBY4cOSLuzq0qExMTHDx4EP7+/nB2dsaMGTOwaNEicUMw4MXfx4IFCxAUFITBgwejVatWuHTpEn777TfUqVOnyrGDgoLg6+sLb29vWFlZ4ccff4SHhwe+/vprfPnll2jWrBk2bNhQYXl0p06dMGbMGPTv3x9WVlb473//W6FvQRDwyy+/oE6dOujcuTO6d++Oxo0bq/woABFRbeHRwQ/+AyZjb/wyLJnxAbKuX0DI5G9h/P9LsnP+ykJezrMl3nbOLfHRv/+L1P2bsWR6INJT92DwhGWwsXUS6+Tn3MNPqyPw9ZQAbF8/D608e2PA2K/e+LUREdUGMrlMY0dtJMhr6wu66K0wbNgw5OTk4Oeff9Z0KDXetlT13yQhIiIiIvUIbKeeVbnq9kHoJY2NvXWpo8bGfl1eaQaaiIiIiIiI6J+CCfTfuLm5QSqVKj2q+6oqTfDz86s0/nnz5mk6PCIiIiIiesO4iZh66Wg6gJokISGh0tdOWVtbv+Foqm/t2rUKu1n/nbm5+RuORjWxsbGaDoGIiIiIiEglTKD/xs7OTtMhvJL69etrOgQiIiIiIqpBautMsKZwCTcRERERERGRCjgDTUREREREVEvxpUvqxRloIiIiIiIiIhUwgSYiIiIiIiJSAZdwExERERER1VIymUzTIdQqnIEmIiIiIiIiUgFnoImIiIiIiGopvsZKvTgDTURERERERKQCzkATvSUC22lrOgQiIiIion80JtBEb4nPoko0HQIRERERVWLeCImmQ1BKLucmYurEJdxEREREREREKuAMNBERERERUS3FTcTUizPQRERERERERCrgDDQREREREVEtxRlo9eIMNBEREREREZEKmEATERERERERqYBLuImIiIiIiGopGV9jpVacgSYiIiIiIiJSARNo+scSBAE///wzAODatWsQBAFpaWkq1SciIiIiehvIZXKNHbURE+i3wLBhwyAIAsaMGVPh3NixYyEIglinqiMyMlJMFJ8e5ubm8PLywqFDh5SOPXr0aGhra2Pz5s0VzkVGRiqNKy0tDYIg4Nq1a2LZtm3b0KFDB5iamsLY2Bhubm6YMGHCC6/9woULEAQBR48eVSjv0KED9PX18ejRI7Hs0aNH0NfXR1RU1Av7fRlZWVnw8/N7LX0TEdUG3VtpI2KAHmYP1UOIry4sTIQq69vbCBjcQwcRH+lh3ggJmtop/lqiJQA+bbURGqiLyCF6iPhID30768DY8HVeBRERUeWYQL8lbG1tERcXh+LiYrHs0aNH2LhxIxo2bAjgSYL39Fi8eDFMTEwUysLDw8W2+/btQ1ZWFg4ePIh69eqhZ8+euHPnjsKYRUVFiIuLw5QpUxAdHa00rqcJa2ZmZqWxJyYmon///ggKCkJqaipOnDiBuXPnorS09IXX3aRJE9jY2CApKUksy8/Px8mTJ2FlZaWQWKekpKCkpARdu3Z9Yb8vw8bGBhKJ5LX0TUT0tuvcXBsdXbXxS3IZVv1aisdlcgz30YWOduVt9HQEZD+Q49eUMqXndXWAehZa2J9WjuW/lGJDYimsTAUM7q77mq6CiIioakyg3xKtWrWCra0ttm7dKpZt3boVDRs2RMuWLQE8SfCeHqamphAEQaFMKpWKbS0sLGBjY4NmzZrhs88+Q15eHv744w+FMTdv3gxXV1dERETg4MGDuHnzZoW4XFxc4O3tjenTp1ca+/bt2+Hp6YnJkyfDxcUFzs7O6NOnD1asWKHStXt7eysk0IcPH4azszN69eqlUJ6UlAQ7Ozs0atQIx44dQ48ePWBpaQlTU1N4eXnh5MmTKo0HAOXl5QgJCUGTJk1w48YNAMqXfG/duhXe3t4wNDSEh4cHUlJSFPpZs2YNbG1tYWhoiMDAQHz99dcwMzNTOQ4iordFJzdt7E8rR8YNGbIfyrH5QBmMDQFXu8p/1bh4S4a9J8px/rryDW5KSoGY3aU4e1WG+7ly3Lz3JNluYKUFU6PXdSVERLWLXCbT2FEbMYF+i4SEhCAmJkb8HB0djeHDh79Sn8XFxfj+++8BAHp6egrnoqKiEBwcDFNTU/j5+SE2NlZpHwsWLEB8fDyOHz+u9LyNjQ3OnTuH9PT0l4rR29sbhw8fRlnZkxmK/fv3o0uXLvDy8sL+/fvFevv374e3tzeAJ7PUQ4cOxeHDh3H06FE4OTnB398f+fn5LxyvpKQEH374IdLS0nDo0CFxhl+Z6dOnIzw8HGlpaXB2dsaAAQPEOJOTkzFmzBh8+umnSEtLQ48ePTB37tyX+g6IiGqyOsaAiaGAy38++2WppBS4dU+Ohu9UvYy7uvT1AJlcjkeP1dotERGRSphAv0WCg4Nx+PBhXL9+HdevX0dycjKCg4Nfqq9OnTpBKpXCyMgICxcuROvWrdGtWzfxfGZmJo4ePYr+/fuLY8fExEAur7gZQKtWrdCvXz9MnTpV6Vjjx49H27Zt4e7uDnt7e3z00UeIjo5GSUmJSrF6e3ujsLAQx44dA/BkptnLywudO3fGH3/8gUePHqG4uBipqaliAt21a1cEBwejSZMmaNq0Kb777jsUFRXhwIEDVY5VUFCAgIAA3Lt3D/v374eVlVWV9cPDwxEQEABnZ2fMnj0b169fx6VLlwAAy5Ytg5+fH8LDw+Hs7IxPPvmEz1ATUa1kbPAkSS4oVvx/REGxHFID9SXQOtqAb1sdnLksQ8mLnwIiIiJwEzF1YwL9FrGyskJAQABiY2MRExODgIAAWFpavlRfmzZtwqlTpxAfHw9HR0fExsZCV/fZM2XR0dHw8fER+/f390dubi5+//13pf3NmTMHhw4dwp49eyqcMzIyws6dO3Hp0iXMmDEDUqkUkyZNQrt27VBUVPTCWB0dHdGgQQMkJSUhLy8Pp06dgpeXF+rWrYuGDRsiJSVFfP75aQJ9584djBo1Ck5OTjA1NYWJiQkKCgrE5diVGTBgAAoLC7Fnzx6Ympq+MLbmzZuLf65bty4A4O7duwCA//3vf2jXrp1C/ec/K1NSUoK8vDyFQ9WbDUREb4KHgxZmDdETD+038NuElgAM8NYBAPxyRPkz00RERK+bjqYDoOoJCQnBuHHjAEDlZ4iVsbW1hZOTE5ycnFBWVobAwECkp6dDIpGgvLwc69atQ3Z2NnR0nv0nUl5ejujoaIWZ6qccHBwwatQoREREVLoLtoODAxwcHDBy5EhMnz4dzs7O2LRpk0rL0Lt06YL9+/ejefPmcHJywjvvvAMA4jJuuVwOR0dH2NraAgCGDh2Kv/76C0uWLIGdnR0kEgk6duyIx4+rXvPn7++PH374ASkpKSptRvb3mw6C8GSWRfaKz3vMnz8fs2fPViibNWsWYDvtlfolIlKXjBsy3Lz77OepjvaTn39SAwH5f5uFlhoIyHrw6s/AaQnAgK46MJMKWLurlLPPRETVIJfXzmeRNYUz0G8ZX19fPH78GKWlpfDx8VFLn3379oWOjg5WrlwJAEhISEB+fj5OnTqFtLQ08fjxxx+xdetW5OTkKO1n5syZuHjxIuLi4l44pr29PQwNDVFYWKhSjN7e3jhy5Aj27t2LLl26iOWdO3dGUlISkpKSxNln4Mnzx6GhofD394ebmxskEgnu37//wnH+/e9/Y8GCBejdu/cLl3u/iIuLi7js/KnnPyszbdo05ObmKhzTpjF5JqKa43Ep8CD/2XE3R468Ijkc6j37tUKiCzSwEnDj7qst4XuaPFuaCojeXYpiLsghIiIN4gz0W0ZbWxsZGRnin9VBEASEhoYiMjISo0ePRlRUFAICAuDh4aFQz9XVFRMnTsSGDRswduzYCv1YW1sjLCwMX331lUJ5ZGQkioqK4O/vDzs7O+Tk5GDp0qUoLS1Fjx49VIrx6XPQ0dHRWLNmjVju5eWFkSNHAgA++eQTsdzJyQnr169HmzZtkJeXh8mTJ8PAwEClscaPH4/y8nL07NkTu3btwrvvvqtSO2X9dO7cGV9//TV69eqF33//Hbt27RJnqisjkUgqeV0Wf2skoprryLlyeLfQxv08OR7my9GjtTbyi6Cww/YIP12cu1aOoxlPyvR0oPCuaHOpgLrmAopK5MgtfJI8D+ymg3oWWvh+bykEAZD+/4/y4hKgnJMqRET0hnEG+i1kYmICExMTtfY5dOhQlJaWYtmyZdi5cyeCgoIq1NHS0kJgYGClS7SBJ5tq/f11WcCTJPfKlSsYMmQImjRpAj8/P2RnZ2PPnj1wcXFRKb5GjRrBzs4O+fn58PLyEssbNmyIevXq4fHjxwoz01FRUXj48CFatWqFwYMHIzQ0VFz2rYoJEyZg9uzZ8Pf3x5EjR1Ru93eenp5YvXo1vv76a3h4eGD37t2YOHEi9PX1X6o/IqKa7OCZcqScL0egpw4+6a0LPR0BMb+Voqz8WR1zYwFG+s8S5vqWAsYH6mF84JO3QAR00MH4QD10b/Xk/r6JEeBqpw0zqYDQQD18NlAiHure3ZuIqLaSyeQaO2ojQa5sW2Uiei1GjRqFCxcu4NChQ9Vu+1kUZ6CJiIiIaqp5I5StINQ8735/aGzs/T+119jYrwuXcBO9RgsXLkSPHj1gZGSEXbt2Yd26deKz5kREREREr5v8FTe4JUVcwk0a5+bmBqlUqvTYsGGDpsN7JampqejRowfc3d2xevVqLF26VHxmm4iIiIiI3i6cgSaNS0hIQGmp8neSWFtbv+Fo1Ounn37SdAhERERERKQmTKBJ4+zs7DQdAhERERFRrSSvpZt5aQqXcBMRERERERGpgDPQREREREREtZRczk3E1Ikz0EREREREREQq4Aw0ERERERFRLcVnoNWLM9BEREREREREKmACTURERERERKQCLuEmIiIiIiKqpeQybiKmTpyBJiIiIiIiIlKBIJfL+VQ5ERERvTElJSWYP38+pk2bBolEoulwiIiIVMYEmoiIiN6ovLw8mJqaIjc3FyYmJpoOh4iISGVcwk1ERERERESkAibQRERERERERCpgAk1ERERERESkAibQRERE9EZJJBLMmjWLG4gREdFbh5uIEREREREREamAM9BEREREREREKmACTURERERERKQCJtBEREREREREKmACTURERERERKQCJtBERET0yoYNGwZBEMTDwsICvr6+OHPmjFjn6bmjR48qtC0pKYGFhQUEQUBSUpJC/Z9//vkNXQEREdGLMYEmIiIitfD19UVWVhaysrKQmJgIHR0d9OzZU6GOra0tYmJiFMq2bdsGqVT6JkMlIiJ6KUygiYiISC0kEglsbGxgY2ODFi1aICIiAjdv3sS9e/fEOkOHDkVcXByKi4vFsujoaAwdOlQTIRMREVULE2giIiJSu4KCAvzwww9wdHSEhYWFWN66dWvY29sjPj4eAHDjxg0cPHgQgwcP1lSoREREKmMCTURERGqxY8cOSKVSSKVSGBsb49dff8WmTZugpaX460ZISAiio6MBALGxsfD394eVlZUmQiYiIqoWJtBERESkFt7e3khLS0NaWhpSU1Ph4+MDPz8/XL9+XaFecHAwUlJScOXKFcTGxiIkJERDERMREVUPE2giIiJSCyMjIzg6OsLR0RFt27bF2rVrUVhYiDVr1ijUs7CwQM+ePTFixAg8evQIfn5+GoqYiIioephAExER0WshCAK0tLQUNgx7KiQkBElJSRgyZAi0tbU1EB0REVH16Wg6ACIiIqodSkpKkJ2dDQB4+PAhli9fjoKCAvTq1atCXV9fX9y7dw8mJiZvOkwiIqKXxgSaiIiI1GL37t2oW7cuAMDY2BhNmjTB5s2b0aVLlwp1BUGApaXlG46QiIjo1QhyuVyu6SCIiIiIiIiIajo+A01ERERERESkAibQRERERERERCpgAk1ERERERESkAibQRERERERERCpgAk1ERERERESkAibQRERERERERCpgAk1ERERERESkAibQRERERERERCpgAk1ERERERESkAibQRERERERERCpgAk1ERERERESkAibQRERERERERCr4P2KbzwRWSGG7AAAAAElFTkSuQmCC\n"
          },
          "metadata": {}
        }
      ]
    },
    {
      "cell_type": "markdown",
      "source": [
        "**Model Selection**"
      ],
      "metadata": {
        "id": "i8zMe9-brJ8j"
      }
    },
    {
      "cell_type": "code",
      "source": [
        "from sklearn.linear_model import LinearRegression, Lasso\n",
        "from sklearn.tree import DecisionTreeRegressor\n",
        "from sklearn.svm import SVR\n",
        "from sklearn.ensemble import RandomForestRegressor\n",
        "from sklearn.model_selection import train_test_split\n",
        "from sklearn.metrics import mean_squared_error, mean_absolute_error, r2_score\n",
        "import numpy as np\n",
        "\n"
      ],
      "metadata": {
        "id": "K5P0f4wrwTnd"
      },
      "execution_count": null,
      "outputs": []
    },
    {
      "cell_type": "code",
      "source": [
        "# Selecting specified feature columns\n",
        "feature_columns = [\n",
        "    'FAVC', 'FCVC', 'NCP', 'CH2O', 'SCC', 'FAF', 'TUE',\n",
        "    'CAEC_Frequently', 'CAEC_Sometimes', 'CAEC_no',\n",
        "    'CALC_Frequently', 'CALC_Sometimes', 'CALC_no',\n",
        "    'MTRANS_Bike', 'MTRANS_Motorbike', 'MTRANS_Public_Transportation', 'MTRANS_Walking'\n",
        "]\n",
        "\n",
        "# Separate features and target variable\n",
        "X = df[feature_columns]  # Features\n",
        "y = df['BMI']  # Target variable\n",
        "\n",
        "# Split the data into training and testing sets (e.g., 80-20 split)\n",
        "X_train, X_test, y_train, y_test = train_test_split(X, y, test_size=0.2, random_state=42)\n"
      ],
      "metadata": {
        "id": "_5Pl1Fq7xovc"
      },
      "execution_count": null,
      "outputs": []
    },
    {
      "cell_type": "markdown",
      "source": [
        "**Models Implemented: Linear Regression, Decision Tree, SVM, Lasso Regression, Random Forest**"
      ],
      "metadata": {
        "id": "q5dp2yB5rVyX"
      }
    },
    {
      "cell_type": "code",
      "source": [
        "# Initialize models\n",
        "models = {\n",
        "    \"Linear Regression\": LinearRegression(),\n",
        "    \"Decision Tree\": DecisionTreeRegressor(random_state=42),\n",
        "    \"Support Vector Regressor\": SVR(),\n",
        "    \"Lasso Regression\": Lasso(alpha=0.1),\n",
        "    \"Random Forest\": RandomForestRegressor(random_state=42)\n",
        "}\n",
        "\n",
        "# Train and evaluate each model\n",
        "for model_name, model in models.items():\n",
        "    # Train model\n",
        "    model.fit(X_train, y_train)\n",
        "\n",
        "    # Predict on test set\n",
        "    y_pred = model.predict(X_test)\n",
        "\n",
        "    # Evaluate performance\n",
        "    mse = mean_squared_error(y_test, y_pred)\n",
        "    mae = mean_absolute_error(y_test, y_pred)\n",
        "    r2 = r2_score(y_test, y_pred)\n",
        "\n",
        "    print(f\"{model_name} Results:\")\n",
        "    print(f\"Mean Squared Error (MSE): {mse:.2f}\")\n",
        "    print(f\"Mean Absolute Error (MAE): {mae:.2f}\")\n",
        "    print(f\"R-squared (R2): {r2:.2f}\\n\")\n"
      ],
      "metadata": {
        "colab": {
          "base_uri": "https://localhost:8080/"
        },
        "id": "LQS6UruSxvV2",
        "outputId": "f80357e6-398c-4872-8bf9-fd7be08bda21"
      },
      "execution_count": null,
      "outputs": [
        {
          "output_type": "stream",
          "name": "stdout",
          "text": [
            "Linear Regression Results:\n",
            "Mean Squared Error (MSE): 43.37\n",
            "Mean Absolute Error (MAE): 5.35\n",
            "R-squared (R2): 0.34\n",
            "\n",
            "Decision Tree Results:\n",
            "Mean Squared Error (MSE): 25.72\n",
            "Mean Absolute Error (MAE): 3.10\n",
            "R-squared (R2): 0.61\n",
            "\n",
            "Support Vector Regressor Results:\n",
            "Mean Squared Error (MSE): 35.96\n",
            "Mean Absolute Error (MAE): 4.78\n",
            "R-squared (R2): 0.46\n",
            "\n",
            "Lasso Regression Results:\n",
            "Mean Squared Error (MSE): 43.40\n",
            "Mean Absolute Error (MAE): 5.41\n",
            "R-squared (R2): 0.34\n",
            "\n",
            "Random Forest Results:\n",
            "Mean Squared Error (MSE): 16.59\n",
            "Mean Absolute Error (MAE): 2.84\n",
            "R-squared (R2): 0.75\n",
            "\n"
          ]
        }
      ]
    },
    {
      "cell_type": "markdown",
      "source": [
        "**Model Evaluations**"
      ],
      "metadata": {
        "id": "fKj-vsBzrn4e"
      }
    },
    {
      "cell_type": "code",
      "source": [
        "from sklearn.metrics import mean_squared_error, mean_absolute_error, r2_score\n",
        "import numpy as np\n",
        "\n",
        "# Function to evaluate a model\n",
        "def evaluate_model(model, X_train, y_train, X_test, y_test):\n",
        "    # Predict on training and test sets\n",
        "    y_train_pred = model.predict(X_train)\n",
        "    y_test_pred = model.predict(X_test)\n",
        "\n",
        "    # Calculate metrics for training set\n",
        "    train_mse = mean_squared_error(y_train, y_train_pred)\n",
        "    train_rmse = np.sqrt(train_mse)\n",
        "    train_mae = mean_absolute_error(y_train, y_train_pred)\n",
        "    train_r2 = r2_score(y_train, y_train_pred)\n",
        "\n",
        "    # Calculate metrics for test set\n",
        "    test_mse = mean_squared_error(y_test, y_test_pred)\n",
        "    test_rmse = np.sqrt(test_mse)\n",
        "    test_mae = mean_absolute_error(y_test, y_test_pred)\n",
        "    test_r2 = r2_score(y_test, y_test_pred)\n",
        "\n",
        "    # Print results\n",
        "    print(f\"{model.__class__.__name__} - Training Set Performance:\")\n",
        "    print(f\"  MSE: {train_mse:.2f}, RMSE: {train_rmse:.2f}, MAE: {train_mae:.2f}, R²: {train_r2:.2f}\")\n",
        "    print(f\"{model.__class__.__name__} - Test Set Performance:\")\n",
        "    print(f\"  MSE: {test_mse:.2f}, RMSE: {test_rmse:.2f}, MAE: {test_mae:.2f}, R²: {test_r2:.2f}\")\n",
        "    print(\"\\n\")\n",
        "\n",
        "# Import and initialize models\n",
        "from sklearn.linear_model import LinearRegression, Lasso\n",
        "from sklearn.tree import DecisionTreeRegressor\n",
        "from sklearn.svm import SVR\n",
        "from sklearn.ensemble import RandomForestRegressor\n",
        "\n",
        "models = {\n",
        "    \"Linear Regression\": LinearRegression(),\n",
        "    \"Decision Tree\": DecisionTreeRegressor(random_state=42),\n",
        "    \"Support Vector Regressor\": SVR(),\n",
        "    \"Lasso Regression\": Lasso(alpha=0.1),\n",
        "    \"Random Forest\": RandomForestRegressor(random_state=42)\n",
        "}\n",
        "\n",
        "# Fit and evaluate each model\n",
        "for model_name, model in models.items():\n",
        "    model.fit(X_train, y_train)  # Train the model\n",
        "    evaluate_model(model, X_train, y_train, X_test, y_test)  # Evaluate the model\n"
      ],
      "metadata": {
        "colab": {
          "base_uri": "https://localhost:8080/"
        },
        "id": "fPCVUcZOzU1g",
        "outputId": "d60bcc3b-338d-4cd4-b81f-6023ce49c0a1"
      },
      "execution_count": null,
      "outputs": [
        {
          "output_type": "stream",
          "name": "stdout",
          "text": [
            "LinearRegression - Training Set Performance:\n",
            "  MSE: 40.29, RMSE: 6.35, MAE: 5.09, R²: 0.37\n",
            "LinearRegression - Test Set Performance:\n",
            "  MSE: 43.37, RMSE: 6.59, MAE: 5.35, R²: 0.34\n",
            "\n",
            "\n",
            "DecisionTreeRegressor - Training Set Performance:\n",
            "  MSE: 0.33, RMSE: 0.58, MAE: 0.10, R²: 0.99\n",
            "DecisionTreeRegressor - Test Set Performance:\n",
            "  MSE: 25.72, RMSE: 5.07, MAE: 3.10, R²: 0.61\n",
            "\n",
            "\n",
            "SVR - Training Set Performance:\n",
            "  MSE: 34.07, RMSE: 5.84, MAE: 4.48, R²: 0.46\n",
            "SVR - Test Set Performance:\n",
            "  MSE: 35.96, RMSE: 6.00, MAE: 4.78, R²: 0.46\n",
            "\n",
            "\n",
            "Lasso - Training Set Performance:\n",
            "  MSE: 40.99, RMSE: 6.40, MAE: 5.18, R²: 0.36\n",
            "Lasso - Test Set Performance:\n",
            "  MSE: 43.40, RMSE: 6.59, MAE: 5.41, R²: 0.34\n",
            "\n",
            "\n",
            "RandomForestRegressor - Training Set Performance:\n",
            "  MSE: 2.07, RMSE: 1.44, MAE: 0.95, R²: 0.97\n",
            "RandomForestRegressor - Test Set Performance:\n",
            "  MSE: 16.59, RMSE: 4.07, MAE: 2.84, R²: 0.75\n",
            "\n",
            "\n"
          ]
        }
      ]
    },
    {
      "cell_type": "markdown",
      "source": [
        "**Feature Importance Analysis**"
      ],
      "metadata": {
        "id": "-E6e2o5urt6I"
      }
    },
    {
      "cell_type": "code",
      "source": [
        "import matplotlib.pyplot as plt\n",
        "import pandas as pd\n",
        "\n",
        "# Assuming RandomForestRegressor was chosen as the best-performing model\n",
        "best_model = RandomForestRegressor(random_state=42)\n",
        "best_model.fit(X_train, y_train)\n",
        "\n",
        "# Get feature importances\n",
        "feature_importances = best_model.feature_importances_\n",
        "\n",
        "# Create a DataFrame for better visualization\n",
        "feature_importance_df = pd.DataFrame({\n",
        "    'Feature': X_train.columns,\n",
        "    'Importance': feature_importances\n",
        "})\n",
        "\n",
        "# Sort by importance\n",
        "feature_importance_df = feature_importance_df.sort_values(by='Importance', ascending=False)\n",
        "\n",
        "# Plot feature importances\n",
        "plt.figure(figsize=(10, 6))\n",
        "plt.barh(feature_importance_df['Feature'], feature_importance_df['Importance'], color='skyblue')\n",
        "plt.gca().invert_yaxis()\n",
        "plt.xlabel(\"Feature Importance\")\n",
        "plt.title(\"Feature Importance in Random Forest Model\")\n",
        "plt.show()\n"
      ],
      "metadata": {
        "colab": {
          "base_uri": "https://localhost:8080/",
          "height": 564
        },
        "id": "25Fo258zzlCf",
        "outputId": "8ce7b40b-54c0-4b01-b37a-19069f256d4f"
      },
      "execution_count": null,
      "outputs": [
        {
          "output_type": "display_data",
          "data": {
            "text/plain": [
              "<Figure size 1000x600 with 1 Axes>"
            ],
            "image/png": "iVBORw0KGgoAAAANSUhEUgAAA/oAAAIjCAYAAACzoGDyAAAAOXRFWHRTb2Z0d2FyZQBNYXRwbG90bGliIHZlcnNpb24zLjguMCwgaHR0cHM6Ly9tYXRwbG90bGliLm9yZy81sbWrAAAACXBIWXMAAA9hAAAPYQGoP6dpAACgOklEQVR4nOzdeXhM5///8dcIJmSSCaKCRiKSCEGE2msratdq0EZjpwvlo3bV2qpCVYsW3RKhVUvR5WNvVeyqSlQJYkmrPlRLk9QWkZzfH36Zr5GEIITxfFzXfXXmPve57/c5M3H1Pfc59zEZhmEIAAAAAAA4hHx5HQAAAAAAAMg9JPoAAAAAADgQEn0AAAAAABwIiT4AAAAAAA6ERB8AAAAAAAdCog8AAAAAgAMh0QcAAAAAwIGQ6AMAAAAA4EBI9AEAAAAAcCAk+gAAAPeQyWTS2LFj8zqMu87Hx0fdu3fP6zBwD9zudzohIUEmk0nR0dG5HhPwsCPRBwA4lOjoaJlMpizLiBEj7sqYW7du1dixY5WYmHhX+r8TGedj586deR3KbZs1axaJwA10797d7ntuNpsVEBCg0aNH69KlS3kd3n3j+vN0bVm9enVeh5fJ//73P40dO1axsbE5an/tv32bN2/OtN0wDHl5eclkMqlNmza5HC2A+03+vA4AAIC7Yfz48SpbtqxdXaVKle7KWFu3btW4cePUvXt3ubu735UxHmazZs2Sh4eHw8wOX7x4Ufnz5+7/gpnNZn366aeSpKSkJH3zzTd68803deTIEc2fPz9Xx3qQXXuerhUcHJwH0dzY//73P40bN04+Pj6qWrVqjvdzdnbWF198occff9yufsOGDfrjjz9kNptzOVIA9yMSfQCAQ2rZsqUee+yxvA7jjpw/f14uLi55HUaeuXDhggoXLpzXYeQ6Z2fnXO8zf/78Cg8Pt73v27ev6tatqwULFujdd99ViRIlcn3MB9H15yk33S/f11atWunLL7/UjBkz7H5Q+uKLL1S9enX9/fffeRgdgHuFS/cBAA+lVatWqX79+nJxcZGrq6tat26tffv22bX55Zdf1L17d/n6+srZ2Vmenp7q2bOnzpw5Y2szduxYDR06VJJUtmxZ26WzCQkJN7z/9Pp7WseOHSuTyaT9+/erc+fOKlKkiN2M3Oeff67q1aurUKFCKlq0qJ577jkdP378to69e/fuslgs+v3339WmTRtZLBaVLl1aM2fOlCTt3btXTzzxhFxcXOTt7a0vvvjCbv+MS4Q3btyoF198UcWKFZObm5u6du2qf/75J9N4s2bNUlBQkMxms0qVKqV+/fplus2hUaNGqlSpkn7++Wc1aNBAhQsX1muvvSYfHx/t27dPGzZssJ3bRo0aSZLOnj2rIUOGqHLlyrJYLHJzc1PLli21Z88eu75jYmJkMpm0ePFivfXWW3r00Ufl7OysJk2a6PDhw5ni/fHHH9WqVSsVKVJELi4uqlKliqZPn27X5sCBA+rQoYOKFi0qZ2dnPfbYY/r2229zdP6z++wPHz5suyrEarWqR48eunDhQo76zGqMxx9/XIZh6OjRo7b63377TX379lX58uVVqFAhFStWTB07dlRCQoLd/hmf8ZYtWzRo0CAVL15cLi4uat++vf766y+7toZhaMKECXr00UdVuHBhNW7cONPfUoajR4+qY8eOKlq0qAoXLqzatWtrxYoVdm2u/bzGjRun0qVLy9XVVR06dFBSUpJSUlI0cOBAPfLII7JYLOrRo4dSUlJu6zxl5U6+r5KUkpKiMWPGyM/PT2azWV5eXho2bFimGL/77js9/vjjcnd3l8ViUfny5W19xMTEqEaNGpKkHj162L77ObmFJSwsTGfOnNF3331nq7t8+bKWLFmizp07Z7nP+fPnNXjwYHl5eclsNqt8+fJ65513ZBiGXbuUlBS9+uqrKl68uFxdXdWuXTv98ccfWfZ54sQJ9ezZUyVKlJDZbFZQUJCioqJuGj+A3MGMPgDAISUlJWWaufLw8JAkffbZZ+rWrZuaN2+uyZMn68KFC5o9e7Yef/xx7d69Wz4+PpKu/o/40aNH1aNHD3l6emrfvn36+OOPtW/fPm3fvl0mk0nPPPOMDh06pAULFui9996zjVG8ePFMCVFOdOzYUf7+/po4caLtf7LfeustvfHGG+rUqZN69+6tv/76S++//74aNGig3bt339btAmlpaWrZsqUaNGigt99+W/Pnz9crr7wiFxcXjRo1Ss8//7yeeeYZffjhh+ratavq1KmT6VaIV155Re7u7ho7dqwOHjyo2bNn67fffrMlatLVJHbcuHFq2rSpXn75ZVu7n376SVu2bFGBAgVs/Z05c0YtW7bUc889p/DwcJUoUUKNGjVS//79ZbFYNGrUKEmyzU4fPXpUX3/9tTp27KiyZcvqzz//1EcffaSGDRtq//79KlWqlF28kyZNUr58+TRkyBAlJSXp7bff1vPPP68ff/zR1ua7775TmzZtVLJkSf3nP/+Rp6en4uLitHz5cv3nP/+RJO3bt0/16tVT6dKlNWLECLm4uGjx4sV6+umntXTpUrVv3/6WPw9J6tSpk8qWLauIiAjt2rVLn376qR555BFNnjz5tvrLSN6LFCliq/vpp5+0detWPffcc3r00UeVkJCg2bNnq1GjRtq/f3+mGen+/furSJEiGjNmjBISEjRt2jS98sorWrRoka3N6NGjNWHCBLVq1UqtWrXSrl279OSTT+ry5ct2ff3555+qW7euLly4oAEDBqhYsWKaO3eu2rVrpyVLlmQ6bxERESpUqJBGjBihw4cP6/3331eBAgWUL18+/fPPPxo7dqy2b9+u6OholS1bVqNHj87Rebn+34UCBQrIarVKuvPva3p6utq1a6fNmzfrhRdeUIUKFbR371699957OnTokL7++mtJV79Dbdq0UZUqVTR+/HiZzWYdPnxYW7ZskSRVqFBB48eP1+jRo/XCCy+ofv36kqS6deve9Ph8fHxUp04dLViwQC1btpR09YfNpKQkPffcc5oxY4Zde8Mw1K5dO61fv169evVS1apVtWbNGg0dOlQnTpzQe++9Z2vbu3dvff755+rcubPq1q2rH374Qa1bt84Uw59//qnatWvLZDLplVdeUfHixbVq1Sr16tVLycnJGjhw4E2PA8AdMgAAcCBz5swxJGVZDMMw/v33X8Pd3d3o06eP3X6nTp0yrFarXf2FCxcy9b9gwQJDkrFx40Zb3ZQpUwxJxrFjx+zaHjt2zJBkzJkzJ1M/kowxY8bY3o8ZM8aQZISFhdm1S0hIMJycnIy33nrLrn7v3r1G/vz5M9Vndz5++uknW123bt0MScbEiRNtdf/8849RqFAhw2QyGQsXLrTVHzhwIFOsGX1Wr17duHz5sq3+7bffNiQZ33zzjWEYhnH69GmjYMGCxpNPPmmkpaXZ2n3wwQeGJCMqKspW17BhQ0OS8eGHH2Y6hqCgIKNhw4aZ6i9dumTXr2FcPedms9kYP368rW79+vWGJKNChQpGSkqKrX769OmGJGPv3r2GYRjGlStXjLJlyxre3t7GP//8Y9dvenq67XWTJk2MypUrG5cuXbLbXrduXcPf3z9TnNfL7rPv2bOnXbv27dsbxYoVu2l/3bp1M1xcXIy//vrL+Ouvv4zDhw8b77zzjmEymYxKlSrZxZ7Vd3rbtm2GJGPevHm2uozPuGnTpnb7v/rqq4aTk5ORmJhoGMb/fcatW7e2a/faa68Zkoxu3brZ6gYOHGhIMjZt2mSr+/fff42yZcsaPj4+ts8y4/OqVKmS3fcrLCzMMJlMRsuWLe3ir1OnjuHt7Z2j85TVvwsZ363c+L5+9tlnRr58+eyO0TAM48MPPzQkGVu2bDEMwzDee+89Q5Lx119/ZRvvTz/9lO2/H1m59m/9gw8+MFxdXW2fd8eOHY3GjRsbhmEY3t7eRuvWrW37ff3114YkY8KECXb9dejQwTCZTMbhw4cNwzCM2NhYQ5LRt29fu3adO3fO9J3u1auXUbJkSePvv/+2a/vcc88ZVqvVFteN/o0EcGe4dB8A4JBmzpyp7777zq5IV2dsExMTFRYWpr///ttWnJycVKtWLa1fv97WR6FChWyvL126pL///lu1a9eWJO3ateuuxP3SSy/ZvV+2bJnS09PVqVMnu3g9PT3l7+9vF++t6t27t+21u7u7ypcvLxcXF3Xq1MlWX758ebm7u9td/p3hhRdesJvhfPnll5U/f36tXLlSkvT999/r8uXLGjhwoPLl+7//5ejTp4/c3NwyXbJtNpvVo0ePHMdvNptt/aalpenMmTO2S6Cz+nx69OihggUL2t5nzJJmHNvu3bt17NgxDRw4MNNVEhlXKJw9e1Y//PCDOnXqpH///df2eZw5c0bNmzdXfHy8Tpw4keNjuNb1n339+vV15swZJScn33Tf8+fPq3jx4ipevLj8/Pw0ZMgQ1atXT998840tdsn+O52amqozZ87Iz89P7u7uWZ6zF154wW7/+vXrKy0tTb/99puk//uM+/fvb9cuqxnblStXqmbNmna3pFgsFr3wwgtKSEjQ/v377dp37drV7vtVq1YtGYahnj172rWrVauWjh8/ritXrtzsNMnZ2TnTvwtTp061O5Y7+b5++eWXqlChggIDA+3+Xp944glJsv29Zny/vvnmG6Wnp9807lvVqVMnXbx4UcuXL9e///6r5cuXZ3vZ/sqVK+Xk5KQBAwbY1Q8ePFiGYWjVqlW2dpIytbv+szYMQ0uXLlXbtm1lGIbdeWjevLmSkpLu2r+fAP4Pl+4DABxSzZo1s1yMLz4+XpJs/+N9PTc3N9vrs2fPaty4cVq4cKFOnz5t1y4pKSkXo/0/118eHx8fL8Mw5O/vn2X7axOhW+Hs7KzixYvb1VmtVj366KN2CVtGfVb33l8fk8ViUcmSJW2XjGckg+XLl7drV7BgQfn6+tq2ZyhdurRdIn4z6enpmj59umbNmqVjx44pLS3Ntq1YsWKZ2pcpU8bufcYl7RnHduTIEUk3fjrD4cOHZRiG3njjDb3xxhtZtjl9+rRKly6d4+PISXzXfi+z4uzsrP/+97+SpD/++ENvv/22Tp8+bZfYS1dX/I+IiNCcOXN04sQJu3uws/pO3+ycZXyG138XihcvbnfLQEbbWrVqZRqjQoUKtu3Xnvvrx864vN7LyytTfXp6upKSkrL83K/l5OSkpk2bZrktN76v8fHxiouLy/S3lSHj35Fnn31Wn376qXr37q0RI0aoSZMmeuaZZ9ShQwe7HxluV/HixdW0aVN98cUXunDhgtLS0tShQ4cs2/72228qVaqUXF1d7eqv/Vwy/psvXz6VK1fOrt315+uvv/5SYmKiPv74Y3388cdZjnn9v6cAch+JPgDgoZIxe/bZZ5/J09Mz0/ZrV6nu1KmTtm7dqqFDh6pq1aqyWCxKT09XixYtcjQLd33CnOHahPR61ydm6enpMplMWrVqlZycnDK1t1gsN40jK1n1daN647pFue6G64/9ZiZOnKg33nhDPXv21JtvvqmiRYsqX758GjhwYJafT24cW0a/Q4YMUfPmzbNs4+fnl+P+rnUn8V2fwDZv3lyBgYF68cUX7RYJ7N+/v+bMmaOBAweqTp06slqtMplMeu655+7aObtd9+N39FpZfV/T09NVuXJlvfvuu1nuk/EjRaFChbRx40atX79eK1as0OrVq7Vo0SI98cQTWrt2bbbHeCs6d+6sPn366NSpU2rZsuU9e/RnxvcoPDxc3bp1y7JNlSpV7kkswMOMRB8A8FDJmI165JFHsp3Zk67OWK5bt07jxo2zW+Qr44qAa2WX0GfMaF6/Yvf1M4M3i9cwDJUtW1YBAQE53u9eiI+PV+PGjW3vz507p5MnT6pVq1aSJG9vb0nSwYMH5evra2t3+fJlHTt27Ibn/1rZnd8lS5aocePGioyMtKtPTEy0LYp4KzK+G7/++mu2sWUcR4ECBXIcf14oWbKkXn31VY0bN07bt2+33XKyZMkSdevWzXa5unT1tpTrv6M5lfEZx8fH233Gf/31V6arQLy9vXXw4MFMfRw4cMCur7ySG9/XcuXKac+ePWrSpEm239sM+fLlU5MmTdSkSRO9++67mjhxokaNGqX169eradOmN93/Ztq3b68XX3xR27dvt1s88Xre3t76/vvv9e+//9rN6l//uXh7eys9PV1Hjhyxm8W//jPNWJE/LS3tvv4bARwd9+gDAB4qzZs3l5ubmyZOnKjU1NRM2zNWys+YUbt+lnDatGmZ9sl41v31yZKbm5s8PDy0ceNGu/pZs2blON5nnnlGTk5OGjduXKZYDMOwe9Tfvfbxxx/bncPZs2frypUrtpW+mzZtqoIFC2rGjBl2sUdGRiopKSnL1bqz4uLikmUi6uTklOmcfPnll7d9j3y1atVUtmxZTZs2LdN4GeM88sgjatSokT766COdPHkyUx+386SFu6V///4qXLiwJk2aZKvL6py9//77N7zK5EaaNm2qAgUK6P3337frN6u/k1atWmnHjh3atm2bre78+fP6+OOP5ePjo4oVK95WDLklN76vnTp10okTJ/TJJ59k2nbx4kWdP39e0tXbgq5XtWpVSbI9hi+7f1dyymKxaPbs2Ro7dqzatm2bbbtWrVopLS1NH3zwgV39e++9J5PJZPt7zvjv9av2X/9ZOzk5KTQ0VEuXLtWvv/6aabz76W8EcGTM6AMAHipubm6aPXu2unTpomrVqum5555T8eLF9fvvv2vFihWqV6+ePvjgA7m5udkePZeamqrSpUtr7dq1OnbsWKY+q1evLkkaNWqUnnvuORUoUEBt27aVi4uLevfurUmTJql379567LHHtHHjRh06dCjH8ZYrV04TJkzQyJEjlZCQoKefflqurq46duyYvvrqK73wwgsaMmRIrp2fW3H58mU1adJEnTp10sGDBzVr1iw9/vjjateunaSrM3sjR47UuHHj1KJFC7Vr187WrkaNGgoPD8/RONWrV9fs2bM1YcIE+fn56ZFHHtETTzyhNm3aaPz48erRo4fq1q2rvXv3av78+XazsbciX758mj17ttq2bauqVauqR48eKlmypA4cOKB9+/ZpzZo1kq4u9Pj444+rcuXK6tOnj3x9ffXnn39q27Zt+uOPP7Rnz57bGj+3FStWTD169NCsWbMUFxenChUqqE2bNvrss89ktVpVsWJFbdu2Td9///1N723PTvHixTVkyBBFRESoTZs2atWqlXbv3q1Vq1ZluqpixIgRtke+DRgwQEWLFtXcuXN17NgxLV26NFfuTb8TufF97dKlixYvXqyXXnpJ69evV7169ZSWlqYDBw5o8eLFWrNmjR577DGNHz9eGzduVOvWreXt7a3Tp09r1qxZevTRR22LFZYrV07u7u768MMP5erqKhcXF9WqVSvTOh43kt2l89dq27atGjdurFGjRikhIUHBwcFau3atvvnmGw0cONB2pUvVqlUVFhamWbNmKSkpSXXr1tW6det0+PDhTH1OmjRJ69evV61atdSnTx9VrFhRZ8+e1a5du/T9999n+UMHgFx2L5f4BwDgbsvqcXJZWb9+vdG8eXPDarUazs7ORrly5Yzu3bsbO3futLX5448/jPbt2xvu7u6G1Wo1OnbsaPzvf//L9CgpwzCMN9980yhdurSRL18+u0ftXbhwwejVq5dhtVoNV1dXo1OnTsbp06ezfcRado/bWrp0qfH4448bLi4uhouLixEYGGj069fPOHjw4C2fj4zHsV2vYcOGRlBQUKb66x/HldHnhg0bjBdeeMEoUqSIYbFYjOeff944c+ZMpv0/+OADIzAw0ChQoIBRokQJ4+WXX870+LrsxjaMq48+bN26teHq6mr3OLRLly4ZgwcPNkqWLGkUKlTIqFevnrFt2zajYcOGdo/jy3hc25dffmnXb3aP9tq8ebPRrFkzw9XV1XBxcTGqVKlivP/++3Ztjhw5YnTt2tXw9PQ0ChQoYJQuXdpo06aNsWTJkiyP4Vo5/ewzzvP1j228XnafZ0acTk5Otsfc/fPPP0aPHj0MDw8Pw2KxGM2bNzcOHDhgeHt72z0KL7u/o4xzuX79eltdWlqaMW7cONvn0KhRI+PXX3/N1GdGPB06dDDc3d0NZ2dno2bNmsby5cuzHOP6zyu7mG72t5OT83StO/2+Xr582Zg8ebIRFBRkmM1mo0iRIkb16tWNcePGGUlJSYZhGMa6deuMp556yihVqpRRsGBBo1SpUkZYWJhx6NAhu76++eYbo2LFikb+/Plv+hi6nP7bd/3fs2Fcfczhq6++apQqVcooUKCA4e/vb0yZMsXukYmGYRgXL140BgwYYBQrVsxwcXEx2rZtaxw/fjzLfxP//PNPo1+/foaXl5dRoEABw9PT02jSpInx8ccf29rweD3g7jEZxj1euQQAADzQoqOj1aNHD/30009ZPtkAAADkLe7RBwAAAADAgZDoAwAAAADgQEj0AQAAAABwINyjDwAAAACAA2FGHwAAAAAAB0KiDwAAAACAA8mf1wEAuLH09HT973//k6urq0wmU16HAwAAACCPGIahf//9V6VKlVK+fNnP25PoA/e5//3vf/Ly8srrMAAAAADcJ44fP65HH3002+0k+sB9ztXVVdLVP2Y3N7c8jgYAAABAXklOTpaXl5ctR8gOiT5wn8u4XN/NzY1EHwAAAMBNb+llMT4AAAAAABwIiT4AAAAAAA6ERB8AAAAAAAdCog8AAAAAgAMh0QcAAAAAwIGQ6AMAAAAA4EBI9AEAAAAAcCAk+gAAAAAAOBASfQAAAAAAHAiJPgAAAAAADoREHwAAAAAAB0KiDwAAAACAAyHRBwAAAADAgZDoAwAAAADgQEj0AQAAAABwICT6AAAAAAA4EBJ9AAAAAAAcCIk+AAAAAAAOJH9eBwAgZ97dc0bOlst5HQYAAADw0BgR4pHXIdwWZvQBAAAAAHAgJPoAAAAAADgQEn0AAAAAABwIiT4AAAAAAA6ERB8AAAAAAAdCoo+HSvfu3WUymTKVw4cPS5JOnTql/v37y9fXV2azWV5eXmrbtq3WrVuny5cvy8PDQ5MmTcqy7zfffFMlSpRQamqqJOny5ct6++23FRwcrMKFC8vDw0P16tXTnDlzbG0AAAAAILfxeD08dFq0aKE5c+bY1RUvXlwJCQmqV6+e3N3dNWXKFFWuXFmpqalas2aN+vXrpwMHDig8PFxz5szRiBEj7PY3DEPR0dHq2rWrChQooMuXL6t58+bas2eP3nzzTdWrV09ubm7avn273nnnHYWEhKhq1ar38KgBAAAAPCxI9PHQMZvN8vT0zFTft29fmUwm7dixQy4uLrb6oKAg9ezZU5LUq1cvTZ8+XZs3b9bjjz9ua7NhwwYdPXpUvXr1kiRNmzZNGzdu1M6dOxUSEmJr5+vrq44dO+ry5ct36/AAAAAAPOS4dB+QdPbsWa1evVr9+vWzS/IzuLu7S5IqV66sGjVqKCoqym77nDlzVLduXQUGBkqS5s+fr6ZNm9ol+RkKFCiQ5RgZUlJSlJycbFcAAAAAIKdI9PHQWb58uSwWi6107NhRhw8flmEYtkT9Rnr16qUvv/xS586dkyT9+++/WrJkiW3WX5Li4+Nz1FdWIiIiZLVabcXLy+u2+gEAAADwcCLRx0OncePGio2NtZUZM2bIMIwc7x8WFqa0tDQtXrxYkrRo0SLly5dPzz77rK3NrfR3vZEjRyopKclWjh8/ftt9AQAAAHj4cI8+HjouLi7y8/OzqzObzTKZTDpw4MBN93dzc1OHDh00Z84c9ezZU3PmzFGnTp1ksVhsbQICAnLUV1bMZrPMZvNt7QsAAAAAzOgDkooWLarmzZtr5syZOn/+fKbtiYmJdu979eqlzZs3a/ny5dq6dattEb4MnTt31vfff6/du3dn6is1NTXLMQAAAAAgN5DoA//fzJkzlZaWppo1a2rp0qWKj49XXFycZsyYoTp16ti1bdCggfz8/NS1a1cFBgaqbt26dtsHDhyoevXqqUmTJpo5c6b27Nmjo0ePavHixapdu7bi4+Pv5aEBAAAAeIiQ6AP/n6+vr3bt2qXGjRtr8ODBqlSpkpo1a6Z169Zp9uzZdm1NJpN69uypf/75x24Rvgxms1nfffedhg0bpo8++ki1a9dWjRo1NGPGDA0YMECVKlW6V4cFAAAA4CFjMu5k1TAAd11ycrKsVqvGbDwqZ4trXocDAAAAPDRGhHjkdQh2MnKDpKQkubm5ZduOGX0AAAAAABwIiT4AAAAAAA6ERB8AAAAAAAeSP68DAJAzg4KL3fA+HAAAAACQmNEHAAAAAMChkOgDAAAAAOBASPQBAAAAAHAgJPoAAAAAADgQFuMDHhDv7jkjZ8vlvA4DAAAAD6ARIR55HQLuIWb0AQAAAABwICT6AAAAAAA4EBJ9AAAAAAAcCIk+AAAAAAAOhEQfD62YmBiZTCYlJibmdSgAAAAAkGtI9O9zp06dUv/+/eXr6yuz2SwvLy+1bdtW69ats2sXEREhJycnTZkyJVMf0dHRMplMmYqzs/NtjZWdPXv2qF27dnrkkUfk7OwsHx8fPfvsszp9+vTtn4Bc0qhRIw0cONCurm7dujp58qSsVmveBAUAAAAAdwGP17uPJSQkqF69enJ3d9eUKVNUuXJlpaamas2aNerXr58OHDhgaxsVFaVhw4YpKipKQ4cOzdSXm5ubDh48aFdnMplua6ys/PXXX2rSpInatGmjNWvWyN3dXQkJCfr22291/vz5OzwTd0fBggXl6emZ12EAAAAAQK5iRv8+1rdvX5lMJu3YsUOhoaEKCAhQUFCQBg0apO3bt9vabdiwQRcvXtT48eOVnJysrVu3ZurLZDLJ09PTrpQoUeKWx8rOli1blJSUpE8//VQhISEqW7asGjdurPfee09ly5a1i7VmzZoym80qWbKkRowYoStXrti2N2rUSP3799fAgQNVpEgRlShRQp988onOnz+vHj16yNXVVX5+flq1apXd+L/++qtatmwpi8WiEiVKqEuXLvr7778lSd27d9eGDRs0ffp029UMCQkJmS7dj46Olru7u5YvX67y5curcOHC6tChgy5cuKC5c+fKx8dHRYoU0YABA5SWlmYbOyUlRUOGDFHp0qXl4uKiWrVqKSYmxrb9t99+U9u2bVWkSBG5uLgoKChIK1euvOk5BQAAAIDbQaJ/nzp79qxWr16tfv36ycXFJdN2d3d32+vIyEiFhYWpQIECCgsLU2Rk5F0bKzuenp66cuWKvvrqKxmGkWWbEydOqFWrVqpRo4b27Nmj2bNnKzIyUhMmTLBrN3fuXHl4eGjHjh3q37+/Xn75ZXXs2FF169bVrl279OSTT6pLly66cOGCJCkxMVFPPPGEQkJCtHPnTq1evVp//vmnOnXqJEmaPn266tSpoz59+ujkyZM6efKkvLy8sozxwoULmjFjhhYuXKjVq1crJiZG7du318qVK7Vy5Up99tln+uijj7RkyRLbPq+88oq2bdumhQsX6pdfflHHjh3VokULxcfHS5L69eunlJQUbdy4UXv37tXkyZNlsViyPZcpKSlKTk62KwAAAACQUyT696nDhw/LMAwFBgbesF1ycrKWLFmi8PBwSVJ4eLgWL16sc+fO2bVLSkqSxWKxKy1btrylsW6kdu3aeu2119S5c2d5eHioZcuWmjJliv78809bm1mzZsnLy0sffPCBAgMD9fTTT2vcuHGaOnWq0tPTbe2Cg4P1+uuvy9/fXyNHjpSzs7M8PDzUp08f+fv7a/To0Tpz5ox++eUXSdIHH3ygkJAQTZw4UYGBgQoJCVFUVJTWr1+vQ4cOyWq1qmDBgipcuLDtagYnJ6csjyM1NVWzZ89WSEiIGjRooA4dOmjz5s2KjIxUxYoV1aZNGzVu3Fjr16+XJP3++++aM2eOvvzyS9WvX1/lypXTkCFD9Pjjj2vOnDm2NvXq1VPlypXl6+urNm3aqEGDBtmey4iICFmtVlvJ7kcJAAAAAMgKif59KrtZ8estWLBA5cqVU3BwsCSpatWq8vb21qJFi+zaubq6KjY21q58+umntzTWzbz11ls6deqUPvzwQwUFBenDDz9UYGCg9u7dK0mKi4tTnTp17NYGqFevns6dO6c//vjDVlelShXbaycnJxUrVkyVK1e21WXccpCxyN+ePXu0fv16ux8xMn60OHLkyC0dQ+HChVWuXDm7sXx8fOxm4EuUKGEbe+/evUpLS1NAQIDd+Bs2bLCNPWDAAE2YMEH16tXTmDFjbD9QZGfkyJFKSkqylePHj9/SMQAAAAB4uLEY333K399fJpPppovgRUZGat++fcqf//8+yvT0dEVFRalXr162unz58snPz++OxsqJYsWKqWPHjurYsaMmTpyokJAQvfPOO5o7d26O+yhQoIDde5PJZFeX8UNBxlUA586dU9u2bTV58uRMfZUsWfKW4r/Z2Bl1147t5OSkn3/+OdNVAhk/DvTu3VvNmzfXihUrtHbtWkVERGjq1Knq379/ljGYzWaZzeZbihsAAAAAMjCjf58qWrSomjdvrpkzZ2a5an1iYqL27t2rnTt3KiYmxm6mPiYmRtu2bctx4p6TsW5HwYIFVa5cOVufFSpU0LZt2+yuINiyZYtcXV316KOP3tYYklStWjXt27dPPj4+8vPzsysZaw4ULFjQbgG93BISEqK0tDSdPn0609jXrujv5eWll156ScuWLdPgwYP1ySef5HosAAAAACCR6N/XZs6cqbS0NNWsWVNLly5VfHy84uLiNGPGDNWpU0eRkZGqWbOmGjRooEqVKtlKgwYNVKNGDbtF+QzD0KlTpzKVjJnpm411M8uXL1d4eLiWL1+uQ4cO6eDBg3rnnXe0cuVKPfXUU5Kurux//Phx9e/fXwcOHNA333yjMWPGaNCgQcqX7/a/iv369dPZs2cVFhamn376SUeOHNGaNWvUo0cPW3Lv4+OjH3/8UQkJCfr777/t1gS4EwEBAXr++efVtWtXLVu2TMeOHdOOHTsUERGhFStWSJIGDhyoNWvW6NixY9q1a5fWr1+vChUq5Mr4AAAAAHA9Ev37mK+vr3bt2qXGjRtr8ODBqlSpkpo1a6Z169Zp+vTp+vzzzxUaGprlvqGhoZo3b55SU1MlXV20r2TJkplKxr3mNxpr9uzZN421YsWKKly4sAYPHqyqVauqdu3aWrx4sT799FN16dJFklS6dGmtXLlSO3bsUHBwsF566SX16tVLr7/++h2dp1KlSmnLli1KS0vTk08+qcqVK2vgwIFyd3e3/YAwZMgQOTk5qWLFiipevLh+//33OxrzWnPmzFHXrl01ePBglS9fXk8//bR++uknlSlTRpKUlpamfv36qUKFCmrRooUCAgI0a9asXBsfAAAAAK5lMnJrJTYAd0VycrKsVqvGbDwqZ4trXocDAACAB9CIEI+8DgG5ICM3SEpKkpubW7btmNEHAAAAAMCBkOgjR+bPn2/3+LhrS1BQUF6HBwAAAAD4/3i8HnKkXbt2qlWrVpbbrn/8HAAAAAAg75DoI0dcXV3l6sr94XlpUHCxG96HAwAAAAASl+4DAAAAAOBQSPQBAAAAAHAgJPoAAAAAADgQEn0AAAAAABwIi/EBD4h395yRs+VyXocBAACA64wI8cjrEAA7zOgDAAAAAOBASPQBAAAAAHAgJPoAAAAAADgQEn0AAAAAABwIiT4AAAAAAA6ERB+4jslkumEZO3asYmJiZDKZlJiYmGl/Hx8fTZs27ab9LVy48N4dFAAAAICHBo/XA65z8uRJ2+tFixZp9OjROnjwoK3OYrFo586dt9TnnDlz1KJFC7s6d3f3O4oTAAAAALJCog9cx9PT0/baarXKZDLZ1d0Od3f3O+4DAAAAAHKCRB+4z6SkpCglJcX2Pjk5OQ+jAQAAAPCg4R594B4ICwuTxWKxK7///nuWbSMiImS1Wm3Fy8vrHkcLAAAA4EHGjD5wD7z33ntq2rSpXV2pUqWybDty5EgNGjTI9j45OZlkHwAAAECOkegDt8HNzU2SlJSUlGlRvcTERFmtVrs6T09P+fn55ahvs9kss9mcK3ECAAAAePhw6T5wG/z9/ZUvXz79/PPPdvVHjx5VUlKSAgIC8igyAAAAAA87ZvSB2+Dq6qrevXtr8ODByp8/vypXrqzjx49r+PDhql27turWrWvXPjExUadOncrUh4uLy70MGwAAAMBDgBl94DZNnz5d3bp10/DhwxUUFKTu3burSpUq+u9//yuTyWTXtkePHipZsqRdef/99/MocgAAAACOzGQYhpHXQQDIXnJysqxWq8ZsPCpni2tehwMAAIDrjAjxyOsQ8JDIyA2SkpJs64ZlhRl9AAAAAAAcCIk+AAAAAAAOhEQfAAAAAAAHwqr7wANiUHCxG96HAwAAAAASM/oAAAAAADgUEn0AAAAAABwIiT4AAAAAAA6ERB8AAAAAAAfCYnzAA+LdPWfkbLmc12EAAHDfGBHikdchAMB9iRl9AAAAAAAcCIk+AAAAAAAOhEQfAAAAAAAHQqIPAAAAAIADIdEHAAAAAMCBkOgDN9G9e3eZTKZM5fDhw5KkiIgIOTk5acqUKZn2jY6OznLfTz/99F4fBgAAAICHBI/XA3KgRYsWmjNnjl1d8eLFJUlRUVEaNmyYoqKiNHTo0Ez7urm56eDBg3Z1Vqv17gULAAAA4KFGog/kgNlslqenZ6b6DRs26OLFixo/frzmzZunrVu3qm7dunZtTCZTlvsCAAAAwN3ApfvAHYiMjFRYWJgKFCigsLAwRUZG3nGfKSkpSk5OtisAAAAAkFMk+kAOLF++XBaLxVY6duyo5ORkLVmyROHh4ZKk8PBwLV68WOfOnbPbNykpyW7fm83uR0REyGq12oqXl9ddOy4AAAAAjodL94EcaNy4sWbPnm177+LiogULFqhcuXIKDg6WJFWtWlXe3t5atGiRevXqZWvr6uqqXbt22d7ny3fj39dGjhypQYMG2d4nJyeT7AMAAADIMRJ9IAdcXFzk5+dnVxcZGal9+/Ypf/7/+zNKT09XVFSUXaKfL1++TPveiNlsltlsvvOgAQAAADyUSPSB27B3717t3LlTMTExKlq0qK3+7NmzatSokQ4cOKDAwMA8jBAAAADAw4pEH7gNkZGRqlmzpho0aJBpW40aNRQZGakpU6bkQWQAAAAAHnYsxgfcosuXL+vzzz9XaGholttDQ0M1b948paam3uPIAAAAAEAyGYZh5HUQALKXnJwsq9WqMRuPytnimtfhAABw3xgR4pHXIQDAPZWRGyQlJcnNzS3bdszoAwAAAADgQEj0AQAAAABwICT6AAAAAAA4EFbdBx4Qg4KL3fA+HAAAAACQmNEHAAAAAMChkOgDAAAAAOBASPQBAAAAAHAgJPoAAAAAADgQFuMDHhDv7jkjZ8vlvA4DAB5aI0I88joEAAByhBl9AAAAAAAcCIk+AAAAAAAOhEQfAAAAAAAHQqIPAAAAAIADIdEHAAAAAMCBkOjjoXHq1Cn1799fvr6+MpvN8vLyUtu2bbVu3TpJko+Pj6ZNm5Zpv7Fjx6pq1aq295988onq16+vIkWKqEiRImratKl27NiRab99+/apU6dOKl68uMxmswICAjR69GhduHDhbh0iAAAAAJDo4+GQkJCg6tWr64cfftCUKVO0d+9erV69Wo0bN1a/fv1uqa+YmBiFhYVp/fr12rZtm7y8vPTkk0/qxIkTtjbbt29XrVq1dPnyZa1YsUKHDh3SW2+9pejoaDVr1kyXL/OYPAAAAAB3R/68DgC4F/r27SuTyaQdO3bIxcXFVh8UFKSePXveUl/z58+3e//pp59q6dKlWrdunbp27SrDMNSrVy9VqFBBy5YtU758V39P8/b2VkBAgEJCQvTee+9p+PDhd35gAAAAAHAdZvTh8M6ePavVq1erX79+dkl+Bnd39zvq/8KFC0pNTVXRokUlSbGxsdq/f78GDRpkS/IzBAcHq2nTplqwYEG2/aWkpCg5OdmuAAAAAEBOkejD4R0+fFiGYSgwMPCmbYcPHy6LxWJXJk6ceNN9SpUqpaZNm0qSDh06JEmqUKFClu0rVKhga5OViIgIWa1WW/Hy8rpp3AAAAACQgUQfDs8wjBy3HTp0qGJjY+3KSy+9lG37SZMmaeHChfrqq6/k7Ox82+Nea+TIkUpKSrKV48eP31Y/AAAAAB5O3KMPh+fv7y+TyaQDBw7ctK2Hh4f8/Pzs6jIuyb/eO++8o0mTJun7779XlSpVbPUBAQGSpLi4OIWEhGTaLy4uztYmK2azWWaz+aaxAgAAAEBWmNGHwytatKiaN2+umTNn6vz585m2JyYm3nKfb7/9tt58802tXr1ajz32mN22qlWrKjAwUO+9957S09Pttu3Zs0fff/+9wsLCbnlMAAAAAMgJEn08FGbOnKm0tDTVrFlTS5cuVXx8vOLi4jRjxgzVqVPnlvqaPHmy3njjDUVFRcnHx0enTp3SqVOndO7cOUmSyWRSZGSk9u/fr9DQUO3YsUO///67vvzyS7Vt21Z16tTRwIED78JRAgAAAACJPh4Svr6+2rVrlxo3bqzBgwerUqVKatasmdatW6fZs2ffUl+zZ8/W5cuX1aFDB5UsWdJW3nnnHVubunXravv27XJyclLLli3l5+enkSNHqlu3bvruu++4NB8AAADAXWMybnfFMAD3RHJysqxWq8ZsPCpni2tehwMAD60RIR55HQIA4CGXkRskJSXJzc0t23bM6AMAAAAA4EBI9AEAAAAAcCAk+gAAAAAAOJD8eR0AgJwZFFzshvfhAAAAAIDEjD4AAAAAAA6FRB8AAAAAAAdCog8AAAAAgAMh0QcAAAAAwIGwGB/wgHh3zxk5Wy7ndRgAYGdEiEdehwAAAK7DjD4AAAAAAA6ERB8AAAAAAAdCog8AAAAAgAMh0QcAAAAAwIGQ6AMAAAAA4EBI9IHrdO/eXSaTSZMmTbKr//rrr2UymWzvDcPQxx9/rFq1asliscjd3V2PPfaYpk2bpgsXLkiSxo4dK5PJJJPJpPz588vHx0evvvqqzp07d0+PCQAAAMDDg0QfyIKzs7MmT56sf/75J9s2Xbp00cCBA/XUU09p/fr1io2N1RtvvKFvvvlGa9eutbULCgrSyZMnlZCQoMmTJ+vjjz/W4MGD78VhAAAAAHgI5c/rAID7UdOmTXX48GFFRETo7bffzrR98eLFmj9/vr7++ms99dRTtnofHx+1a9dOycnJtrr8+fPL09NTkvTss89q3bp1+vbbb/XRRx/d/QMBAAAA8NBhRh/IgpOTkyZOnKj3339ff/zxR6bt8+fPV/ny5e2S/Awmk0lWqzXbvgsVKqTLly9nuz0lJUXJycl2BQAAAAByikQfyEb79u1VtWpVjRkzJtO2+Ph4lS9f/pb7/Pnnn/XFF1/oiSeeyLZNRESErFarrXh5ed3yOAAAAAAeXiT6wA1MnjxZc+fOVVxcnF29YRg57mPv3r2yWCwqVKiQatasqTp16uiDDz7Itv3IkSOVlJRkK8ePH7/t+AEAAAA8fLhHH7iBBg0aqHnz5ho5cqS6d+9uqw8ICNCBAwdy1Ef58uX17bffKn/+/CpVqpQKFix4w/Zms1lms/lOwgYAAADwEGNGH7iJSZMm6b///a+2bdtmq+vcubMOHTqkb775JlN7wzCUlJRke1+wYEH5+fnJx8fnpkk+AAAAANwpEn3gJipXrqznn39eM2bMsNV16tRJzz77rMLCwjRx4kTt3LlTv/32m5YvX66mTZtq/fr1eRgxAAAAgIcZiT6QA+PHj1d6errtvclk0hdffKF3331XX3/9tRo2bKgqVapo7Nixeuqpp9S8efM8jBYAAADAw8xk3MqqYgDuueTkZFmtVo3ZeFTOFte8DgcA7IwI8cjrEAAAeGhk5AZJSUlyc3PLth0z+gAAAAAAOBASfQAAAAAAHAiJPgAAAAAADiR/XgcAIGcGBRe74X04AAAAACAxow8AAAAAgEMh0QcAAAAAwIGQ6AMAAAAA4EBI9AEAAAAAcCAsxgc8IN7dc0bOlst5HQbwUBsR4pHXIQAAANwUM/oAAAAAADgQEn0AAAAAABwIiT4AAAAAAA6ERB8AAAAAAAdCon+Pde/eXU8//fQN2zRq1EgDBw60vffx8dG0adPualy4OT4HAAAAAA+CW0r0u3fvLpPJpJdeeinTtn79+slkMtna3KiMHTtWCQkJdnVFixZVw4YNtWnTpizHfvHFF+Xk5KQvv/wy07axY8dmGVdsbKxMJpMSEhJsdV999ZVq164tq9UqV1dXBQUF2SXVNxIdHW2LN1++fHr00UfVo0cPnT59Okf7366ffvpJL7zwwh31cbPPxcfHJ3eCvY+MHTtWVatWveX9oqOj5e7unqk+Nz4HAAAAALjbbnlG38vLSwsXLtTFixdtdZcuXdIXX3yhMmXKSJJOnjxpK9OmTZObm5td3ZAhQ2z7fv/99zp58qQ2btyoUqVKqU2bNvrzzz/txrxw4YIWLlyoYcOGKSoqKsu4nJ2dFRkZqfj4+GxjX7dunZ599lmFhoZqx44d+vnnn/XWW28pNTU1x8efcSx//PGHPvnkE61atUpdunTJ8f63o3jx4ipcuPAd9TF9+nS7z0CS5syZY3v/008/2bW/fPnBfYybYRi6cuVKrvebG58DAAAAANxtt5zoV6tWTV5eXlq2bJmtbtmyZSpTpoxCQkIkSZ6enrZitVplMpns6iwWi23fYsWKydPTU5UqVdJrr72m5ORk/fjjj3Zjfvnll6pYsaJGjBihjRs36vjx45niKl++vBo3bqxRo0ZlG/t///tf1atXT0OHDlX58uUVEBCgp59+WjNnzszx8WccS6lSpdSyZUsNGDBA33//vS5evJjlDPK0adOynC0fN26cihcvLjc3N7300ks3TKyvv2Q8MTFRL774okqUKCFnZ2dVqlRJy5cvv2HcVqvV7jOQJHd3d9v7GjVq6M0331TXrl3l5uZmm7kePny4AgICVLhwYfn6+uqNN96w+2Ek45g/++wz+fj4yGq16rnnntO///5ra7NkyRJVrlxZhQoVUrFixdS0aVOdP39e0v/dynCj85GSkqIBAwbokUcekbOzsx5//HG7HyZiYmJkMpm0atUqVa9eXWazWZ9//rnGjRunPXv22K5aiI6OliS9++67qly5slxcXOTl5aW+ffvq3Llztr569OihpKQkuytQsvocfv/9dz311FOyWCxyc3NTp06d7H6kysm5AQAAAIDcdlv36Pfs2VNz5syxvY+KilKPHj3uKJCLFy9q3rx5kqSCBQvabYuMjFR4eLisVqtatmxpS9iuN2nSJC1dulQ7d+7Mcrunp6f27dunX3/99Y5ivVahQoWUnp5+SzPI69atU1xcnGJiYrRgwQItW7ZM48aNy9G+6enpatmypbZs2aLPP/9c+/fv16RJk+Tk5HS7h2DzzjvvKDg4WLt379Ybb7whSXJ1dVV0dLT279+v6dOn65NPPtF7771nt9+RI0f09ddfa/ny5Vq+fLk2bNigSZMmSbp6dUdYWJh69uxpO+ZnnnlGhmHk+HwMGzZMS5cu1dy5c7Vr1y75+fmpefPmOnv2rF0cI0aM0KRJkxQXF6dmzZpp8ODBCgoKsl218Oyzz0qS8uXLpxkzZmjfvn2aO3eufvjhBw0bNkySVLdu3UxXoVx7Bcq1n8NTTz2ls2fPasOGDfruu+909OhR2xg5OTfZSUlJUXJysl0BAAAAgJzKfzs7hYeHa+TIkfrtt98kSVu2bNHChQsVExNzy33VrVtX+fLl04ULF2QYhqpXr64mTZrYtsfHx2v79u22KwjCw8M1aNAgvf766zKZTHZ9VatWTZ06ddLw4cO1bt26TGP1799fmzZtUuXKleXt7a3atWvrySef1PPPPy+z2XzLscfHx+vDDz/UY489JldX1xzvV7BgQUVFRalw4cIKCgrS+PHjNXToUL355pvKl+/Gv718//332rFjh+Li4hQQECBJ8vX1veXYs/LEE09o8ODBdnWvv/667bWPj4+GDBliu40iQ3p6uqKjo23noEuXLlq3bp3eeustnTx5UleuXNEzzzwjb29vSVLlypXtxrjR+bh48aJmz56t6OhotWzZUpL0ySef6LvvvlNkZKSGDh1q62f8+PFq1qyZ7b3FYlH+/PltVzBkuH6hwwkTJuill17SrFmzVLBgQburULKzbt067d27V8eOHZOXl5ckad68eQoKCtJPP/2kGjVq3PTcZCciIiLHP/wAAAAAwPVua0a/ePHiat26taKjozVnzhy1bt1aHh4etxXAokWLtHv3bi1dulR+fn6Kjo5WgQIFbNujoqLUvHlzW/+tWrVSUlKSfvjhhyz7mzBhgjZt2qS1a9dm2ubi4qIVK1bo8OHDev3112WxWDR48GDVrFlTFy5cyFG8SUlJslgsKly4sMqXL68SJUpo/vz5t3TMwcHBdvd616lTR+fOncvyloTrxcbG6tFHH7Ul+bnpsccey1S3aNEi1atXz3bLxeuvv67ff//dro2Pj4/dDx0lS5a0LVAYHBysJk2aqHLlyurYsaM++eQT/fPPP3b73+h8HDlyRKmpqapXr55te4ECBVSzZk3FxcXdNP6sfP/992rSpIlKly4tV1dXdenSRWfOnMnxd0CS4uLi5OXlZUvyJalixYpyd3e3i+tG5yY7I0eOVFJSkq3k5HsBAAAAABlu+/F6PXv2VHR0tObOnauePXvedgBeXl7y9/dX+/btNXHiRLVv314pKSmSpLS0NM2dO1crVqxQ/vz5lT9/fhUuXFhnz57NdlG+cuXKqU+fPhoxYoTd5eHXt+ndu7c+/fRT7dq1S/v379eiRYtyFK+rq6tiY2P166+/6vz589q4caMt6c6XL1+mMW9lob+cKFSoUK72dy0XFxe799u2bdPzzz+vVq1aafny5dq9e7dGjRqVaT2Ba3+Yka6uY5Ceni5JcnJy0nfffadVq1apYsWKev/991W+fHkdO3bsrseflYSEBLVp00ZVqlTR0qVL9fPPP9vWaLgbCxDe6Nxkx2w2y83Nza4AAAAAQE7ddqLfokULXb58WampqWrevHmuBNOhQwflz59fs2bNkiStXLlS//77r3bv3q3Y2FhbybiPOzExMct+Ro8erUOHDmnhwoU3HdPHx0eFCxe2LQ53M/ny5ZOfn598fX0zJd3FixfXqVOn7JL92NjYTH3s2bPH7qkF27dvl8VisZsdzk6VKlX0xx9/6NChQzmK905s3bpV3t7eGjVqlB577DH5+/vbbte4FSaTSfXq1dO4ceO0e/duFSxYUF999ZVt+43OR7ly5VSwYEFt2bLFtj01NVU//fSTKlaseMNxCxYsqLS0NLu6n3/+Wenp6Zo6dapq166tgIAA/e9//7vpfterUKGCjh8/bjfbvn//fiUmJt40LgAAAAC4m2470XdyclJcXJz279+fKwvBSVcTwgEDBmjSpEm6cOGCIiMj1bp1awUHB6tSpUq20qlTJ7m7u2d7yXyJEiU0aNAgzZgxw65+7NixGjZsmGJiYnTs2DHt3r1bPXv2VGpqqt293berUaNG+uuvv/T222/ryJEjmjlzplatWpWp3eXLl9WrVy/t379fK1eu1JgxY/TKK6/c9P58SWrYsKEaNGig0NBQfffddzp27JhWrVql1atX33H81/P399fvv/+uhQsX6siRI5oxY4Zdgp4TP/74oyZOnKidO3fq999/17Jly/TXX3+pQoUKtjY3Oh8uLi56+eWXNXToUK1evVr79+9Xnz59dOHCBfXq1euGY/v4+OjYsWOKjY3V33//rZSUFPn5+Sk1NVXvv/++jh49qs8++0wffvhhpv3OnTundevW6e+//87ykv6mTZuqcuXKev7557Vr1y7t2LFDXbt2VcOGDXN8CwEAAAAA3A23nehLuiuXFXfr1s2WiK1YsUKhoaGZ2uTLl0/t27dXZGRktv0MGTLE7jF+0tUk+ejRo+ratasCAwPVsmVLnTp1SmvXrlX58uXvOPYKFSpo1qxZmjlzpoKDg7Vjx44sV2xv0qSJ/P391aBBAz377LNq166d7RFuObF06VLVqFFDYWFhqlixooYNG3bTGejb0a5dO7366qt65ZVXVLVqVW3dutW2Gn9Oubm5aePGjWrVqpUCAgL0+uuva+rUqbaF9aSbn49JkyYpNDRUXbp0UbVq1XT48GGtWbNGRYoUueHYoaGhatGihRo3bqzixYtrwYIFCg4O1rvvvqvJkyerUqVKmj9/viIiIuz2q1u3rl566SU9++yzKl68uN5+++1MfZtMJn3zzTcqUqSIGjRooKZNm8rX1zfHt4AAAAAAwN1iMrK7kR24B7p3767ExER9/fXXeR3KfSs5OVlWq1VjNh6VsyXnT3cAkPtGhNzewrMAAAC5ISM3SEpKuuGk+x3N6AMAAAAAgPsLif41goKCZLFYsiy3+gi9vNCyZcts4584cWJehwcAAAAAuAfy53UA95OVK1dm+zi8EiVK3ONobt2nn35qt3r9tYoWLXqPo8mZ6OjovA4BAAAAABwK9+gD97mc3ocDAAAAwLFxjz4AAAAAAA8hEn0AAAAAABwIiT4AAAAAAA6ERB8AAAAAAAfCqvvAA+LdPWfkbLmc12EAmYwI8cjrEAAAAHANZvQBAAAAAHAgJPoAAAAAADgQEn0AAAAAABwIiT4AAAAAAA6ERB8PrZiYGJlMJiUmJuZ1KAAAAACQa0j0HwCnTp1S//795evrK7PZLC8vL7Vt21br1q2zaxcRESEnJydNmTIlUx/R0dFyd3fPlXGys2fPHrVr106PPPKInJ2d5ePjo2effVanT5/O8bHeLY0aNdLAgQPt6urWrauTJ0/KarXmTVAAAAAAcBeQ6N/nEhISVL16df3www+aMmWK9u7dq9WrV6tx48bq16+fXduoqCgNGzZMUVFRd3WcrPz1119q0qSJihYtqjVr1iguLk5z5sxRqVKldP78+VuO514oWLCgPD09ZTKZ8joUAAAAAMg1JPr3ub59+8pkMmnHjh0KDQ1VQECAgoKCNGjQIG3fvt3WbsOGDbp48aLGjx+v5ORkbd269a6Mk50tW7YoKSlJn376qUJCQlS2bFk1btxY7733nsqWLWsXZ82aNWU2m1WyZEmNGDFCV65csW1v1KiR+vfvr4EDB6pIkSIqUaKEPvnkE50/f149evSQq6ur/Pz8tGrVKrvxf/31V7Vs2VIWi0UlSpRQly5d9Pfff0uSunfvrg0bNmj69OkymUwymUxKSEjIdOl+xlUPy5cvV/ny5VW4cGF16NBBFy5c0Ny5c+Xj46MiRYpowIABSktLs42dkpKiIUOGqHTp0nJxcVGtWrUUExNj2/7bb7+pbdu2KlKkiFxcXBQUFKSVK1fe0ucDAAAAADlFon8fO3v2rFavXq1+/frJxcUl0/ZrL8WPjIxUWFiYChQooLCwMEVGRt6VcbLj6empK1eu6KuvvpJhGFm2OXHihFq1aqUaNWpoz549mj17tiIjIzVhwgS7dnPnzpWHh4d27Nih/v376+WXX1bHjh1Vt25d7dq1S08++aS6dOmiCxcuSJISExP1xBNPKCQkRDt37tTq1av1559/qlOnTpKk6dOnq06dOurTp49OnjypkydPysvLK8sYL1y4oBkzZmjhwoVavXq1YmJi1L59e61cuVIrV67UZ599po8++khLliyx7fPKK69o27ZtWrhwoX755Rd17NhRLVq0UHx8vCSpX79+SklJ0caNG7V3715NnjxZFosl23OZkpKi5ORkuwIAAAAAOUWifx87fPiwDMNQYGDgDdslJydryZIlCg8PlySFh4dr8eLFOnfuXK6OcyO1a9fWa6+9ps6dO8vDw0MtW7bUlClT9Oeff9razJo1S15eXvrggw8UGBiop59+WuPGjdPUqVOVnp5uaxccHKzXX39d/v7+GjlypJydneXh4aE+ffrI399fo0eP1pkzZ/TLL79Ikj744AOFhIRo4sSJCgwMVEhIiKKiorR+/XodOnRIVqtVBQsWVOHCheXp6SlPT085OTlleRypqamaPXu2QkJC1KBBA3Xo0EGbN29WZGSkKlasqDZt2qhx48Zav369JOn333/XnDlz9OWXX6p+/foqV66chgwZoscff1xz5syxtalXr54qV64sX19ftWnTRg0aNMj2XEZERMhqtdpKdj9KAAAAAEBWSPTvY9nNjF9vwYIFKleunIKDgyVJVatWlbe3txYtWpSr49zMW2+9pVOnTunDDz9UUFCQPvzwQwUGBmrv3r2SpLi4ONWpU8funvh69erp3Llz+uOPP2x1VapUsb12cnJSsWLFVLlyZVtdiRIlJMm2yN+ePXu0fv16WSwWW8n40eLIkSO3dAyFCxdWuXLl7Mby8fGxm4EvUaKEbey9e/cqLS1NAQEBduNv2LDBNvaAAQM0YcIE1atXT2PGjLH9QJGdkSNHKikpyVaOHz9+S8cAAAAA4OGWP68DQPb8/f1lMpl04MCBG7aLjIzUvn37lD///32c6enpioqKUq9evXJtnJwoVqyYOnbsqI4dO2rixIkKCQnRO++8o7lz5+a4jwIFCti9N5lMdnUZPxRkXAVw7tw5tW3bVpMnT87UV8mSJW8p/puNnVF37dhOTk76+eefM10lkPHjQO/evdW8eXOtWLFCa9euVUREhKZOnar+/ftnGYPZbJbZbL6luAEAAAAgAzP697GiRYuqefPmmjlzZpYr1ycmJmrv3r3auXOnYmJiFBsbaysxMTHatm1bjpL3nIxzOwoWLKhy5crZ+qxQoYK2bdtmdwXBli1b5OrqqkcfffS2xpCkatWqad++ffLx8ZGfn59dyVhzoGDBgnYL6OWWkJAQpaWl6fTp05nG9vT0tLXz8vLSSy+9pGXLlmnw4MH65JNPcj0WAAAAAJBI9O97M2fOVFpammrWrKmlS5cqPj5ecXFxmjFjhurUqaPIyEjVrFlTDRo0UKVKlWylQYMGqlGjht2ifGlpaXY/BsTGxiouLi5H49zM8uXLFR4eruXLl+vQoUM6ePCg3nnnHa1cuVJPPfWUpKsr+x8/flz9+/fXgQMH9M0332jMmDEaNGiQ8uW7/a9iv379dPbsWYWFhemnn37SkSNHtGbNGvXo0cOW3Pv4+OjHH39UQkKC/v77b7s1Ae5EQECAnn/+eXXt2lXLli3TsWPHtGPHDkVERGjFihWSpIEDB2rNmjU6duyYdu3apfXr16tChQq5Mj4AAAAAXI9L9+9zvr6+2rVrl9566y0NHjxYJ0+eVPHixVW9enVNnz5dnTt31vDhw7PcNzQ0VFOnTtXEiRMlXb3MPCQkxK5NuXLldPjw4RuOM3v27JvGWbFiRRUuXFiDBw/W8ePHZTab5e/vr08//VRdunSRJJUuXVorV67U0KFDFRwcrKJFi6pXr156/fXX7+gclSpVSlu2bNHw4cP15JNPKiUlRd7e3mrRooXtB4QhQ4aoW7duqlixoi5evKhjx47d0ZjXmjNnjiZMmKDBgwfrxIkT8vDwUO3atdWmTRtJV39g6devn/744w+5ubmpRYsWeu+993JtfAAAAAC4lsnIrZXYANwVycnJslqtGrPxqJwtrnkdDpDJiBCPvA4BAADgoZCRGyQlJcnNzS3bdly6DwAAAACAAyHRR47Mnz/f7vFx15agoKC8Dg8AAAAA8P9xjz5ypF27dqpVq1aW265//BwAAAAAIO+Q6CNHXF1d5erK/eF5aVBwsRvehwMAAAAAEpfuAwAAAADgUEj0AQAAAABwICT6AAAAAAA4EBJ9AAAAAAAcCIvxAQ+Id/eckbPlcl6HcV8YEeKR1yEAAAAA9y1m9AEAAAAAcCAk+gAAAAAAOBASfQAAAAAAHAiJPgAAAAAADoREHwAAAAAAB0Kij/vSqVOn1L9/f/n6+spsNsvLy0tt27bVunXr7NpFRETIyclJU6ZMydRHdHS03N3dc2UcAAAAAHhQ8Hg93HcSEhJUr149ubu7a8qUKapcubJSU1O1Zs0a9evXTwcOHLC1jYqK0rBhwxQVFaWhQ4fetXEAAAAA4EHBjD7uO3379pXJZNKOHTsUGhqqgIAABQUFadCgQdq+fbut3YYNG3Tx4kWNHz9eycnJ2rp1610Z50ZMJpM+/fRTtW/fXoULF5a/v7++/fZbuzYbNmxQzZo1ZTabVbJkSY0YMUJXrly5pVgBAAAAIKdI9HFfOXv2rFavXq1+/frJxcUl0/ZrL8WPjIxUWFiYChQooLCwMEVGRt6VcW5m3Lhx6tSpk3755Re1atVKzz//vM6ePStJOnHihFq1aqUaNWpoz549mj17tiIjIzVhwoRs+0tJSVFycrJdAQAAAICcItHHfeXw4cMyDEOBgYE3bJecnKwlS5YoPDxckhQeHq7Fixfr3LlzuTpOTnTv3l1hYWHy8/PTxIkTde7cOe3YsUOSNGvWLHl5eemDDz5QYGCgnn76aY0bN05Tp05Venp6lv1FRETIarXaipeX1x3HCAAAAODhQaKP+4phGDlqt2DBApUrV07BwcGSpKpVq8rb21uLFi3K1XFyokqVKrbXLi4ucnNz0+nTpyVJcXFxqlOnjkwmk61NvXr1dO7cOf3xxx9Z9jdy5EglJSXZyvHjx3MtVgAAAACOj0Qf9xV/f3+ZTKabLoQXGRmpffv2KX/+/Layf/9+RUVF5eo4OVGgQAG79yaTKdvZ+pwwm81yc3OzKwAAAACQUyT6uK8ULVpUzZs318yZM3X+/PlM2xMTE7V3717t3LlTMTExio2NtZWYmBht27YtR8l7TsbJDRUqVNC2bdvsriDYsmWLXF1d9eijj+bKGAAAAABwLRJ93HdmzpyptLQ01axZU0uXLlV8fLzi4uI0Y8YM1alTR5GRkapZs6YaNGigSpUq2UqDBg1Uo0YNu0X50tLS7H4MiI2NVVxcXI7GyQ19+/bV8ePH1b9/fx04cEDffPONxowZo0GDBilfPv78AAAAAOS+/HkdAHA9X19f7dq1S2+99ZYGDx6skydPqnjx4qpevbqmT5+uzp07a/jw4VnuGxoaqqlTp2rixImSpHPnzikkJMSuTbly5XT48OEbjjN79uxcOZbSpUtr5cqVGjp0qIKDg1W0aFH16tVLr7/+eq70DwAAAADXMxm5uSoZgFyXnJwsq9WqMRuPytnimtfh3BdGhHjkdQgAAADAPZeRGyQlJd1wLS+uHQYAAAAAwIGQ6APZmD9/viwWS5YlKCgor8MDAAAAgCxxjz6QjXbt2qlWrVpZbrv+kXoAAAAAcL8g0Qey4erqKlfX++ee+EHBxW54Hw4AAAAASFy6DwAAAACAQyHRBwAAAADAgZDoAwAAAADgQEj0AQAAAABwICzGBzwg3t1zRs6Wy3kdxm0bEeKR1yEAAAAADwVm9AEAAAAAcCAk+gAAAAAAOBASfQAAAAAAHAiJPgAAAAAADoREHwAAAAAAB0KiD2Thr7/+0ssvv6wyZcrIbDbL09NTzZs315YtW2xtdu/erY4dO6pEiRJydnaWv7+/+vTpo0OHDtn1tXTpUjVq1EhWq1UWi0VVqlTR+PHjdfbs2Xt9WAAAAAAeAiT6QBZCQ0O1e/duzZ07V4cOHdK3336rRo0a6cyZM5Kk5cuXq3bt2kpJSdH8+fMVFxenzz//XFarVW+88Yatn1GjRunZZ59VjRo1tGrVKv3666+aOnWq9uzZo88++yyvDg8AAACAAzMZhmHkdRDA/SQxMVFFihRRTEyMGjZsmGn7hQsX5O3trccff1xfffVVlvu7u7trx44dqlWrlqZNm6b//Oc/2ba7meTkZFmtVo3ZeFTOFtfbOqb7wYgQj7wOAQAAAHigZeQGSUlJcnNzy7YdM/rAdSwWiywWi77++mulpKRk2r5mzRr9/fffGjZsWJb7ZyTv8+fPl8ViUd++fW/Y7nopKSlKTk62KwAAAACQUyT6wHXy58+v6OhozZ07V+7u7qpXr55ee+01/fLLL5Kk+Ph4SVJgYOAN+4mPj5evr68KFChwS+NHRETIarXaipeX1+0dCAAAAICHEok+kIXQ0FD973//07fffqsWLVooJiZG1apVU3R0tHJ6t8vt3hUzcuRIJSUl2crx48dvqx8AAAAADycSfSAbzs7Oatasmd544w1t3bpV3bt315gxYxQQECBJOnDgwA33DwgI0NGjR5WamnpL45rNZrm5udkVAAAAAMgpEn0ghypWrKjz58/rySeflIeHh95+++0s2yUmJkqSOnfurHPnzmnWrFk3bAcAAAAAuSl/XgcA3G/OnDmjjh07qmfPnqpSpYpcXV21c+dOvf3223rqqafk4uKiTz/9VB07dlS7du00YMAA+fn56e+//9bixYv1+++/a+HChapVq5aGDRumwYMH68SJE2rfvr1KlSqlw4cP68MPP9Tjjz+e5Wr8AAAAAHAnSPSB61gsFtWqVUvvvfeejhw5otTUVHl5ealPnz567bXXJElPPfWUtm7dqoiICHXu3FnJycny8vLSE088oQkTJtj6mjx5sqpXr66ZM2fqww8/VHp6usqVK6cOHTqoW7dueXWIAAAAAByYybjdFcMA3BMZz8ocs/GonC2ueR3ObRsR4pHXIQAAAAAPtIzcICkp6YZreXGPPgAAAAAADoREHwAAAAAAB0KiDwAAAACAA2ExPuABMSi42A3vwwEAAAAAiRl9AAAAAAAcCok+AAAAAAAOhEQfAAAAAAAHQqIPAAAAAIADYTE+4AHx7p4zcrZczuswsjQixCOvQwAAAADw/zGjDwAAAACAAyHRBwAAAADAgZDoAwAAAADgQEj0AQAAAABwICT6AAAAAAA4EBJ9PLS6d+8uk8mUqRw+fFiSFBERIScnJ02ZMsW2z9KlS+Xk5KQTJ05k2ae/v78GDRpke3/48GH16NFDjz76qMxms8qWLauwsDDt3Lnz7h4cAAAAgIcWiT4eai1atNDJkyftStmyZSVJUVFRGjZsmKKiomzt27Vrp2LFimnu3LmZ+tq4caMOHz6sXr16SZJ27typ6tWr69ChQ/roo4+0f/9+ffXVVwoMDNTgwYPvzQECAAAAeOjkz+sAgLxkNpvl6emZqX7Dhg26ePGixo8fr3nz5mnr1q2qW7euChQooC5duig6Olqvvfaa3T5RUVGqVauWgoKCZBiGunfvLn9/f23atEn58v3fb2pVq1bVf/7zn7t+bAAAAAAeTszoA1mIjIxUWFiYChQooLCwMEVGRtq29erVS/Hx8dq4caOt7ty5c1qyZIltNj82Nlb79u3T4MGD7ZL8DO7u7tmOnZKSouTkZLsCAAAAADlFoo+H2vLly2WxWGylY8eOSk5O1pIlSxQeHi5JCg8P1+LFi3Xu3DlJUsWKFVW7dm27S/oXL14swzD03HPPSZLi4+MlSYGBgbccU0REhKxWq614eXnd6WECAAAAeIiQ6OOh1rhxY8XGxtrKjBkztGDBApUrV07BwcGSrl5q7+3trUWLFtn269mzp5YsWaJ///1X0tXL9jt27ChXV1dJkmEYtx3TyJEjlZSUZCvHjx+/gyMEAAAA8LAh0cdDzcXFRX5+frZSsmRJRUZGat++fcqfP7+t7N+/324GP2PmfvHixYqPj9eWLVtsl+1LUkBAgCTpwIEDtxyT2WyWm5ubXQEAAACAnGIxPuAae/fu1c6dOxUTE6OiRYva6s+ePatGjRrpwIEDCgwMlKurqzp27KioqCgdOXJEAQEBql+/vq191apVVbFiRU2dOlXPPvtspvv0ExMTb3ifPgAAAADcLhJ94BqRkZGqWbOmGjRokGlbjRo1FBkZqSlTpki6uihf/fr1FRcXp+HDh9u1NZlMmjNnjpo2bar69etr1KhRCgwM1Llz5/Tf//5Xa9eu1YYNG+7JMQEAAAB4uHDpPvD/Xb58WZ9//rlCQ0Oz3B4aGqp58+YpNTVVkvT444+rfPnySk5OVteuXTO1r1mzpnbu3Ck/Pz/16dNHFSpUULt27bRv3z5Nmzbtbh4KAAAAgIeYybiTVcMA3HXJycmyWq0as/GonC2ueR1OlkaEeOR1CAAAAIDDy8gNkpKSbriWFzP6AAAAAAA4EBJ9AAAAAAAcCIk+AAAAAAAOhFX3gQfEoOBiN7wPBwAAAAAkZvQBAAAAAHAoJPoAAAAAADgQEn0AAAAAABwIiT4AAAAAAA6ExfiAB8S7e87I2XL5no45IsTjno4HAAAA4M4xow8AAAAAgAMh0QcAAAAAwIGQ6AMAAAAA4EBI9AEAAAAAcCAk+kAu6t69u55++um8DgMAAADAQ4xE/wFz6tQp9e/fX76+vjKbzfLy8lLbtm21bt06u3YRERFycnLSlClTMvURHR0tk8mUqTg7O9/WWNnx8fHJNMajjz56+wd/H0lISJDJZFJsbGxehwIAAAAAdni83gMkISFB9erVk7u7u6ZMmaLKlSsrNTVVa9asUb9+/XTgwAFb26ioKA0bNkxRUVEaOnRopr7c3Nx08OBBuzqTyXRbY93I+PHj1adPH9t7JyenLNulpqaqQIECOeoTAAAAAJA9ZvQfIH379pXJZNKOHTsUGhqqgIAABQUFadCgQdq+fbut3YYNG3Tx4kWNHz9eycnJ2rp1a6a+TCaTPD097UqJEiVueaybcXV1tRujePHitvFnz56tdu3aycXFRW+99ZYk6ZtvvlG1atXk7OwsX19fjRs3TleuXLH1Fx8frwYNGsjZ2VkVK1bUd999J5PJpK+//lqSFBMTI5PJpMTERNs+sbGxMplMSkhIsNVt3rxZ9evXV6FCheTl5aUBAwbo/Pnztu0+Pj6aOHGievbsKVdXV5UpU0Yff/yxbXvZsmUlSSEhITKZTGrUqFGmY583b56KFSumlJQUu/qnn35aXbp0yfE5BAAAAIBbQaL/gDh79qxWr16tfv36ycXFJdN2d3d32+vIyEiFhYWpQIECCgsLU2Rk5F0b606MHTtW7du31969e9WzZ09t2rRJXbt21X/+8x/t379fH330kaKjo20/AqSnp+uZZ55RwYIF9eOPP+rDDz/U8OHDb3ncI0eOqEWLFgoNDdUvv/yiRYsWafPmzXrllVfs2k2dOlWPPfaYdu/erb59++rll1+2XQWxY8cOSdL333+vkydPatmyZZnG6dixo9LS0vTtt9/a6k6fPq0VK1aoZ8+e2caXkpKi5ORkuwIAAAAAOUWi/4A4fPiwDMNQYGDgDdslJydryZIlCg8PlySFh4dr8eLFOnfunF27pKQkWSwWu9KyZctbGisnhg8fbjfGjBkzbNs6d+6sHj16yNfXV2XKlNG4ceM0YsQIdevWTb6+vmrWrJnefPNNffTRR5KuJtUHDhzQvHnzFBwcrAYNGmjixIm3HFNERISef/55DRw4UP7+/qpbt65mzJihefPm6dKlS7Z2rVq1Ut++feXn56fhw4fLw8ND69evlyTblQnFihWTp6enihYtmmmcQoUKqXPnzpozZ46t7vPPP1eZMmWyvALg2visVquteHl53fIxAgAAAHh4cY/+A8IwjBy1W7BggcqVK6fg4GBJUtWqVeXt7a1FixapV69etnaurq7atWuX3b6FChW6pbFyYujQoerevbvtvYeHh+31Y489Ztd2z5492rJli20GX5LS0tJ06dIlXbhwQXFxcfLy8lKpUqVs2+vUqXPLMe3Zs0e//PKL5s+fb6szDEPp6ek6duyYKlSoIEmqUqWKbXvGrQ6nT5++pbH69OmjGjVq6MSJEypdurSio6PVvXt3u/UQrjdy5EgNGjTI9j45OZlkHwAAAECOkeg/IPz9/WUymW66CF5kZKT27dun/Pn/76NNT09XVFSUXaKfL18++fn53dFYOeHh4ZHtONffFnDu3DmNGzdOzzzzTKa21z8RIDv58l29SOXaHytSU1MzjfPiiy9qwIABmfYvU6aM7fX1iwOaTCalp6fnKI4MISEhCg4O1rx58/Tkk09q3759WrFixQ33MZvNMpvNtzQOAAAAAGQg0X9AFC1aVM2bN9fMmTM1YMCATElyYmKijh8/rp07dyomJsbuUvKzZ8+qUaNGOnDgQI4ux8/JWLl1n/61qlWrpoMHD2b7w0CFChV0/PhxnTx5UiVLlpSkTAsDZlxSf/LkSRUpUkSSMj0Cr1q1atq/f3+24+REwYIFJV294uBmevfurWnTpunEiRNq2rQps/MAAAAA7iru0X+AzJw5U2lpaapZs6aWLl2q+Ph4xcXFacaMGapTp44iIyNVs2ZNNWjQQJUqVbKVBg0aqEaNGnaL8hmGoVOnTmUqGTPWNxvrbhg9erTmzZuncePGad++fYqLi9PChQv1+uuvS5KaNm2qgIAAdevWTXv27NGmTZs0atQouz78/Pzk5eWlsWPHKj4+XitWrNDUqVPt2gwfPlxbt27VK6+8otjYWMXHx+ubb77JtBjfjTzyyCMqVKiQVq9erT///FNJSUnZtu3cubP++OMPffLJJzdchA8AAAAAcgOJ/gPE19dXu3btUuPGjTV48GBVqlRJzZo107p16zR9+nR9/vnnCg0NzXLf0NBQzZs3z3YZe3JyskqWLJmpZNyDfqOxZs+efVeOr3nz5lq+fLnWrl2rGjVqqHbt2nrvvffk7e0t6epl+V999ZUuXryomjVrqnfv3nb380tXL7dfsGCBDhw4oCpVqmjy5MmaMGGCXZsqVapow4YNOnTokOrXr6+QkBCNHj3a7t7/m8mfP79mzJihjz76SKVKldJTTz2VbVur1arQ0FBZLBY9/fTTOT8hAAAAAHAbTEZurrwG5AGTyaSvvvrqvk6imzRpoqCgILunDuRUcnKyrFarxmw8KmeL612ILnsjQjxu3ggAAADAPZGRGyQlJcnNzS3bdtyjD9xF//zzj2JiYhQTE6NZs2bldTgAAAAAHgIk+rgt8+fP14svvpjlNm9vb+3bt+8eR3R/CgkJ0T///KPJkyerfPnyeR0OAAAAgIcAiT5uS7t27VSrVq0st13/WLq77X6++yQhISGvQwAAAADwkCHRx21xdXWVq+u9vV/8YTcouNgN78MBAAAAAIlV9wEAAAAAcCgk+gAAAAAAOBASfQAAAAAAHAiJPgAAAAAADoTF+IAHxLt7zsjZcvmGbUaEeNyjaAAAAADcr5jRBwAAAADAgZDoAwAAAADgQEj0AQAAAABwICT6AAAAAAA4EBJ9IJd1795dTz/9dF6HAQAAAOAhRaL/gDp16pT69+8vX19fmc1meXl5qW3btlq3bp1du4iICDk5OWnKlCmZ+oiOjpa7u3uujJMdHx8fmUwmu/Loo4/m+DjvZwkJCTKZTIqNjc3rUAAAAADAhsfrPYASEhJUr149ubu7a8qUKapcubJSU1O1Zs0a9evXTwcOHLC1jYqK0rBhwxQVFaWhQ4fetXFuZPz48erTp4/tvZOTU5btUlNTVaBAgVuKEQAAAABgjxn9B1Dfvn1lMpm0Y8cOhYaGKiAgQEFBQRo0aJC2b99ua7dhwwZdvHhR48ePV3JysrZu3XpXxrkZV1dXeXp62krx4sUlSSaTSbNnz1a7du3k4uKit956S5L0zTffqFq1anJ2dpavr6/GjRunK1eu2PqLj49XgwYN5OzsrIoVK+q7776TyWTS119/LUmKiYmRyWRSYmKibZ/Y2FiZTCYlJCTY6jZv3qz69eurUKFC8vLy0oABA3T+/Hnbdh8fH02cOFE9e/aUq6urypQpo48//ti2vWzZspKkkJAQmUwmNWrUKNOxz5s3T8WKFVNKSopd/dNPP60uXbrk+BwCAAAAQE6R6D9gzp49q9WrV6tfv35ycXHJtP3aS/EjIyMVFhamAgUKKCwsTJGRkXdlnDsxduxYtW/fXnv37lXPnj21adMmde3aVf/5z3+0f/9+ffTRR4qOjrb9CJCenq5nnnlGBQsW1I8//qgPP/xQw4cPv+Vxjxw5ohYtWig0NFS//PKLFi1apM2bN+uVV16xazd16lQ99thj2r17t/r27auXX35ZBw8elCTt2LFDkvT999/r5MmTWrZsWaZxOnbsqLS0NH377be2utOnT2vFihXq2bNnlrGlpKQoOTnZrgAAAABATpHoP2AOHz4swzAUGBh4w3bJyclasmSJwsPDJUnh4eFavHixzp07l6vj5MTw4cNlsVhsZcaMGbZtnTt3Vo8ePeTr66syZcpo3LhxGjFihLp16yZfX181a9ZMb775pj766CNJV5PqAwcOaN68eQoODlaDBg00ceLEW44pIiJCzz//vAYOHCh/f3/VrVtXM2bM0Lx583Tp0iVbu1atWqlv377y8/PT8OHD5eHhofXr10uS7cqEYsWKydPTU0WLFs00TqFChdS5c2fNmTPHVvf555+rTJkyWV4BkBGb1Wq1FS8vr1s+PgAAAAAPL+7Rf8AYhpGjdgsWLFC5cuUUHBwsSapataq8vb21aNEi9erVK9fGyYmhQ4eqe/futvceHh6214899phd2z179mjLli22GXxJSktL06VLl3ThwgXFxcXJy8tLpUqVsm2vU6fOLce0Z88e/fLLL5o/f76tzjAMpaen69ixY6pQoYIkqUqVKrbtJpNJnp6eOn369C2N1adPH9WoUUMnTpxQ6dKlFR0dre7du8tkMmXZfuTIkRo0aJDtfXJyMsk+AAAAgBwj0X/A+Pv7y2Qy3XQhvMjISO3bt0/58//fR5yenq6oqKgcJfo5HScnPDw85Ofnl+W2628LOHfunMaNG6dnnnkmU1tnZ+ccjZcv39ULVa79sSI1NTXTOC+++KIGDBiQaf8yZcrYXl+/OKDJZFJ6enqO4sgQEhKi4OBgzZs3T08++aT27dunFStWZNvebDbLbDbf0hgAAAAAkIFE/wFTtGhRNW/eXDNnztSAAQMyJcqJiYk6fvy4du7cqZiYGLvLyc+ePatGjRrpwIEDN70kPyfj5NZ9+teqVq2aDh48mO0PAxUqVNDx48d18uRJlSxZUpIyLQyYcUn9yZMnVaRIEUnK9Ai8atWqaf/+/dmOkxMFCxaUdPWKg5vp3bu3pk2bphMnTqhp06bM0AMAAAC4a7hH/wE0c+ZMpaWlqWbNmlq6dKni4+MVFxenGTNmqE6dOoqMjFTNmjXVoEEDVapUyVYaNGigGjVq2C3Kl5aWptjYWLsSFxeXo3HuhtGjR2vevHkaN26c9u3bp7i4OC1cuFCvv/66JKlp06YKCAhQt27dtGfPHm3atEmjRo2y68PPz09eXl4aO3as4uPjtWLFCk2dOtWuzfDhw7V161a98sorio2NVXx8vL755ptMi/HdyCOPPKJChQpp9erV+vPPP5WUlJRt286dO+uPP/7QJ598ku0ifAAAAACQG0j0H0C+vr7atWuXGjdurMGDB6tSpUpq1qyZ1q1bp+nTp+vzzz9XaGholvuGhoZq3rx5tkvZz507p5CQELvStm3bm44ze/bsu3JszZs31/Lly7V27VrVqFFDtWvX1nvvvSdvb29JVy/L/+qrr3Tx4kXVrFlTvXv3trufX7p6uf2CBQt04MABValSRZMnT9aECRPs2lSpUkUbNmzQoUOHVL9+fYWEhGj06NF29/7fTP78+TVjxgx99NFHKlWqlJ566qls21qtVoWGhspisejpp5/O+QkBAAAAgFtkMnJz1TUgj5hMJn311Vf3dRLdpEkTBQUF2T11ICeSk5NltVo1ZuNROVtcb9h2RIjHDbcDAAAAeHBl5AZJSUlyc3PLth336AN32T///KOYmBjFxMRo1qxZeR0OAAAAAAdHoo/bNn/+fL344otZbvP29ta+ffvucUT3p5CQEP3zzz+aPHmyypcvn9fhAAAAAHBwJPq4be3atVOtWrWy3Hb9Y+nutvv5DpSEhIS8DgEAAADAQ4REH7fN1dVVrq43vmccuWdQcLEb3ocDAAAAABKr7gMAAAAA4FBI9AEAAAAAcCAk+gAAAAAAOBASfQAAAAAAHAiL8QEPiHf3nJGz5XKW20aEeNzjaAAAAADcr5jRBwAAAADAgZDoAwAAAADgQEj0AQAAAABwICT6AAAAAAA4EBJ9PLRMJpO+/vprSVJCQoJMJpNiY2Nz1B4AAAAA7lck+g+A7t27y2Qy6aWXXsq0rV+/fjKZTLY2Nypjx461JbQZpWjRomrYsKE2bdqU5dgvvviinJyc9OWXX2baNnbs2Czjio2NlclkUkJCgq3uq6++Uu3atWW1WuXq6qqgoCANHDjwpsd+4MABmUwmbd++3a6+du3acnZ21qVLl2x1ly5dkrOzsyIjI2/a7+04efKkWrZseVf6BgAAAIDcQqL/gPDy8tLChQt18eJFW92lS5f0xRdfqEyZMpKuJqIZZdq0aXJzc7OrGzJkiG3f77//XidPntTGjRtVqlQptWnTRn/++afdmBcuXNDChQs1bNgwRUVFZRlXRmIdHx+fbezr1q3Ts88+q9DQUO3YsUM///yz3nrrLaWmpt70uAMDA+Xp6amYmBhb3b///qtdu3apePHidj8AbNu2TSkpKXriiSdu2u/t8PT0lNlsvit9AwAAAEBuIdF/QFSrVk1eXl5atmyZrW7ZsmUqU6aMQkJCJF1NRDOK1WqVyWSyq7NYLLZ9ixUrJk9PT1WqVEmvvfaakpOT9eOPP9qN+eWXX6pixYoaMWKENm7cqOPHj2eKq3z58mrcuLFGjRqVbez//e9/Va9ePQ0dOlTly5dXQECAnn76ac2cOTNHx964cWO7RH/z5s0KCAhQ27Zt7epjYmLk7e2tsmXL6qefflKzZs3k4eEhq9Wqhg0bateuXTkaT5LS0tLUs2dPBQYG6vfff5eU9aX+y5YtU+PGjVW4cGEFBwdr27Ztdv188skn8vLyUuHChdW+fXu9++67cnd3z3EcAAAAAHCrSPQfID179tScOXNs76OiotSjR4876vPixYuaN2+eJKlgwYJ22yIjIxUeHi6r1aqWLVsqOjo6yz4mTZqkpUuXaufOnVlu9/T01L59+/Trr7/eVoyNGzfW5s2bdeXKFUnS+vXr1ahRIzVs2FDr16+3tVu/fr0aN24s6eqsf7du3bR582Zt375d/v7+atWqlf7999+bjpeSkqKOHTsqNjZWmzZtsl0xkZVRo0ZpyJAhio2NVUBAgMLCwmxxbtmyRS+99JL+85//KDY2Vs2aNdNbb72Vo/GTk5PtCgAAAADkFIn+AyQ8PFybN2/Wb7/9pt9++01btmxReHj4bfVVt25dWSwWubi46J133lH16tXVpEkT2/b4+Hht375dzz77rG3sOXPmyDCMTH1Vq1ZNnTp10vDhw7Mcq3///qpRo4YqV64sHx8fPffcc4qKilJKSkqOYm3cuLHOnz+vn376SdLVmfuGDRuqQYMG+vHHH3Xp0iVdvHhRO3bssCX6TzzxhMLDwxUYGKgKFSro448/1oULF7Rhw4YbjnXu3Dm1bt1af/31l9avX6/ixYvfsP2QIUPUunVrBQQEaNy4cfrtt990+PBhSdL777+vli1basiQIQoICFDfvn1zdI9/RESErFarrXh5eeXkNAEAAACAJBL9B0rx4sXVunVrRUdHa86cOWrdurU8PDxuq69FixZp9+7dWrp0qfz8/BQdHa0CBQrYtkdFRal58+a2/lu1aqWkpCT98MMPWfY3YcIEbdq0SWvXrs20zcXFRStWrNDhw4f1+uuvy2KxaPDgwapZs6YuXLhw01j9/Pz06KOPKiYmRsnJydq9e7caNmyokiVLqkyZMtq2bZvt/vyMRP/PP/9Unz595O/vL6vVKjc3N507d852GX52wsLCdP78ea1du1ZWq/WmsVWpUsX2umTJkpKk06dPS5IOHjyomjVr2rW//n1WRo4cqaSkJFvJ6pYJAAAAAMhO/rwOALemZ8+eeuWVVyQpx/e4Z8XLy0v+/v7y9/fXlStX1L59e/36668ym81KS0vT3LlzderUKeXP/39fkbS0NEVFRdnN/GcoV66c+vTpoxEjRmS76n25cuVUrlw59e7dW6NGjVJAQIAWLVqUo9sPGjVqpPXr16tKlSry9/fXI488Ikm2y/cNw5Cfn59t9rtbt246c+aMpk+fLm9vb5nNZtWpU0eXL1++4TitWrXS559/rm3btuVoUb9rfxwxmUySpPT09JvudyNms5lF/wAAAADcNmb0HzAtWrTQ5cuXlZqaqubNm+dKnx06dFD+/Pk1a9YsSdLKlSv177//avfu3YqNjbWVBQsWaNmyZUpMTMyyn9GjR+vQoUNauHDhTcf08fFR4cKFdf78+RzF2LhxY23dulXfffedGjVqZKtv0KCBYmJiFBMTY5vNl67eHz9gwAC1atVKQUFBMpvN+vvvv286zssvv6xJkyapXbt2N73M/2bKly9vu90gw/XvAQAAACC3MaP/gHFyclJcXJztdW4wmUwaMGCAxo4dqxdffFGRkZFq3bq1goOD7dpVrFhRr776qubPn69+/fpl6qdEiRIaNGiQpkyZYlc/duxYXbhwQa1atZK3t7cSExM1Y8YMpaamqlmzZjmKMeM+/aioKH3yySe2+oYNG6p3796SpL59+9rq/f399dlnn+mxxx5TcnKyhg4dqkKFCuVorP79+ystLU1t2rTRqlWr9Pjjj+dov6z6adCggd599121bdtWP/zwg1atWmWb+QcAAACAu4EZ/QeQm5ub3NzccrXPbt26KTU1Ve+//75WrFih0NDQTG3y5cun9u3bZ3tpvnR1cbprH+MnXU3Gjx49qq5duyowMFAtW7bUqVOntHbtWpUvXz5H8ZUtW1be3t76999/1bBhQ1t9mTJlVKpUKV2+fNlupj8yMlL//POPqlWrpi5dumjAgAG2y/1zYuDAgRo3bpxatWqlrVu35ni/a9WrV08ffvih3n33XQUHB2v16tV69dVX5ezsfFv9AQAAAEBOmIysllEHcFf06dNHBw4c0KZNm3K8T3JysqxWq8ZsPCpni2uWbUaE3N6ijAAAAAAeHBm5QVJS0g0nf7l0H7iL3nnnHTVr1kwuLi5atWqV5s6da1sLAQAAAADuBi7dR54LCgqSxWLJssyfPz+vw7sjO3bsULNmzVS5cmV9+OGHmjFjhm1NAQAAAAC4G5jRR55buXKlUlNTs9xWokSJexxN7lq8eHFehwAAAADgIUOijzzn7e2d1yE8EAYFF8v1RRgBAAAAOB4u3QcAAAAAwIGQ6AMAAAAA4EBI9AEAAAAAcCAk+gAAAAAAOBASfeAB8e6eM5q0+++8DgMAAADAfY5EHwAAAAAAB0KiDwAAAACAAyHRBwAAAADAgZDoAwAAAADgQEj0gVvg4+OjadOm2d6bTCZ9/fXXeRYPAAAAAFyPRB+SpO7du8tkMumll17KtK1fv34ymUy2NjcqY8eOVUJCgl1d0aJF1bBhQ23atCnLsV988UU5OTnpyy+/zLRt7NixWcYVGxsrk8mkhIQEW91XX32l2rVry2q1ytXVVUFBQRo4cGCOjj86OtouZovFourVq2vZsmV27X766Se98MILOeoTAAAAAPICiT5svLy8tHDhQl28eNFWd+nSJX3xxRcqU6aMJOnkyZO2Mm3aNLm5udnVDRkyxLbv999/r5MnT2rjxo0qVaqU2rRpoz///NNuzAsXLmjhwoUaNmyYoqKisozL2dlZkZGRio+Pzzb2devW6dlnn1VoaKh27Nihn3/+WW+99ZZSU1NzfPzXHsvu3bvVvHlzderUSQcPHrS1KV68uAoXLpzjPgEAAADgXiPRh021atXk5eVlN4u9bNkylSlTRiEhIZIkT09PW7FarTKZTHZ1FovFtm+xYsXk6empSpUq6bXXXlNycrJ+/PFHuzG//PJLVaxYUSNGjNDGjRt1/PjxTHGVL19ejRs31qhRo7KN/b///a/q1aunoUOHqnz58goICNDTTz+tmTNn5vj4rz0Wf39/TZgwQfny5dMvv/xia3P9pfvXGzNmjEqWLGnbZ/Pmzapfv74KFSokLy8vDRgwQOfPn89xTAAAAABwq0j0Yadnz56aM2eO7X1UVJR69OhxR31evHhR8+bNkyQVLFjQbltkZKTCw8NltVrVsmVLRUdHZ9nHpEmTtHTpUu3cuTPL7Z6entq3b59+/fXXO4o1Q1pamubOnSvp6g8gN2MYhvr376958+Zp06ZNqlKlio4cOaIWLVooNDRUv/zyixYtWqTNmzfrlVdeuWFfKSkpSk5OtisAAAAAkFMk+rATHh6uzZs367ffftNvv/2mLVu2KDw8/Lb6qlu3riwWi1xcXPTOO++oevXqatKkiW17fHy8tm/frmeffdY29pw5c2QYRqa+qlWrpk6dOmn48OFZjtW/f3/VqFFDlStXlo+Pj5577jlFRUUpJSUlx/EmJSXJYrHIYrGoYMGCevnll/Xxxx+rXLlyN9zvypUrCg8P17p167R582b5+flJkiIiIvT8889r4MCB8vf3V926dTVjxgzNmzdPly5dyra/iIgIWa1WW/Hy8srxMQAAAAAAiT7sFC9eXK1bt1Z0dLTmzJmj1q1by8PD47b6WrRokXbv3q2lS5fKz89P0dHRKlCggG17VFSUmjdvbuu/VatWSkpK0g8//JBlfxMmTNCmTZu0du3aTNtcXFy0YsUKHT58WK+//rosFosGDx6smjVr6sKFCzmK19XVVbGxsYqNjdXu3bs1ceJEvfTSS/rvf/97w/1effVV/fjjj9q4caNKly5tq9+zZ4+io6NtPx5YLBY1b95c6enpOnbsWLb9jRw5UklJSbaS1e0MAAAAAJCd/HkdAO4/PXv2tF1efiv3uF/Py8tL/v7+8vf315UrV9S+fXv9+uuvMpvNtkvjT506pfz5/+9rmJaWpqioKLuZ/wzlypVTnz59NGLECEVGRmY5Zrly5VSuXDn17t1bo0aNUkBAgBYtWpSj2w/y5ctnm42XpCpVqmjt2rWaPHmy2rZtm+1+zZo104IFC7RmzRo9//zztvpz587pxRdf1IABAzLtk7G4YVbMZrPMZvNN4wUAAACArJDoI5MWLVro8uXLMplMat68ea702aFDB40ePVqzZs3Sq6++qpUrV+rff//V7t275eTkZGv366+/qkePHkpMTJS7u3umfkaPHq1y5cpp4cKFNx3Tx8dHhQsXvqPF75ycnOyeQpCVdu3aqW3bturcubOcnJz03HPPSbp6u8H+/fvtfjwAAAAAgLuNRB+ZODk5KS4uzvY6N5hMJg0YMEBjx47Viy++qMjISLVu3VrBwcF27SpWrKhXX31V8+fPV79+/TL1U6JECQ0aNEhTpkyxqx87dqwuXLigVq1aydvbW4mJiZoxY4ZSU1PVrFmzHMVoGIZOnTol6eoCgt99953WrFmj0aNH33Tf9u3b67PPPlOXLl2UP39+dejQQcOHD1ft2rX1yiuvqHfv3nJxcdH+/fv13Xff6YMPPshRTAAAAABwq7hHH1lyc3OTm5tbrvbZrVs3paam6v3339eKFSsUGhqaqU2+fPnUvn37bC/Nl6QhQ4bYPcZPkho2bKijR4+qa9euCgwMVMuWLXXq1CmtXbtW5cuXz1F8ycnJKlmypEqWLKkKFSpo6tSpGj9+/A0f63etDh06aO7cuerSpYuWLVumKlWqaMOGDTp06JDq16+vkJAQjR49WqVKlcpRfwAAAABwO0xGVkucA7hvJCcny2q1aszGo3K2uGpEyO0tjggAAADgwZaRGyQlJd1wYpYZfQAAAAAAHAiJPh4KQUFBdo+5u7bMnz8/r8MDAAAAgFzDYnx4KKxcuVKpqalZbitRosQ9jgYAAAAA7h4SfTwUvL298zqEOzYouFiuL5AIAAAAwPFw6T4AAAAAAA6ERB8AAAAAAAdCog8AAAAAgAMh0QcAAAAAwIGQ6AMPiHf3nNGk3X/ndRgAAAAA7nMk+gAAAAAAOBASfQAAAAAAHAiJPgAAAAAADoREHwAAAAAAB0KiDwAAAACAAyHRx33n1KlT6t+/v3x9fWU2m+Xl5aW2bdtq3bp1du0iIiLk5OSkKVOmZOojOjpaJpMpU3F2dr6tsQAAAADgQZE/rwMArpWQkKB69erJ3d1dU6ZMUeXKlZWamqo1a9aoX79+OnDggK1tVFSUhg0bpqioKA0dOjRTX25ubjp48KBdnclkuq2xAAAAAOBBwYw+7it9+/aVyWTSjh07FBoaqoCAAAUFBWnQoEHavn27rd2GDRt08eJFjR8/XsnJydq6dWumvkwmkzw9Pe1KiRIlbnmsGzGZTPr000/Vvn17FS5cWP7+/vr222/t2mzYsEE1a9aU2WxWyZIlNWLECF25cuU2zxAAAAAA3BiJPu4bZ8+e1erVq9WvXz+5uLhk2u7u7m57HRkZqbCwMBUoUEBhYWGKjIy8a2PdzLhx49SpUyf98ssvatWqlZ5//nmdPXtWknTixAm1atVKNWrU0J49ezR79mxFRkZqwoQJ2faXkpKi5ORkuwIAAAAAOUWij/vG4cOHZRiGAgMDb9guOTlZS5YsUXh4uCQpPDxcixcv1rlz5+zaJSUlyWKx2JWWLVve0lg50b17d4WFhcnPz08TJ07UuXP/r707D6uq2v8H/j4gHJDhIIMgySCjE5A4IJqiqYFDilpqmIqaOWtXMfVqiprJTSlzvD7GVJmoOV1TuyqKKaEoQk44kWNfkFKZxIFh/f7wx75tGQQ7B/Dwfj3Pfjpn7bXXXuvTanc+7CkfSUlJAIB169bBzs4Oa9asQfPmzREYGIhFixYhPDwcJSUl5ba3bNkyqFQqabGzs/vbfSQiIiIiovqD9+hTnSGEqFK9zZs3w9nZGV5eXgCA119/HQ4ODtiyZQvGjh0r1TMxMcGZM2dk2xoaGlZrX1Xh6ekpfTYyMoKpqSmysrIAAGlpafD19ZU9G6Bz587Iz8/HnTt3YG9vX6a9uXPnYsaMGdL33NxcJvtERERERFRlTPSpznB1dYVCoXjhQ/AiIiJw4cIFNGjwv+lbUlKCyMhIWaKvo6MDFxeXv7WvqtDT05N9VygUFZ6trwqlUgmlUvl3u0VERERERPUUL92nOsPc3Bz+/v5Yu3YtHj58WGZ9dnY2zp07h9OnTyM+Ph6pqanSEh8fj8TExCon7lXZlzq0aNECiYmJsisIEhISYGJigqZNm6plH0RERERERH/FRJ/qlLVr16K4uBgdOnTA9u3bcfXqVaSlpWHVqlXw9fVFREQEOnTogK5du6J169bS0rVrV7Rv3172UD4hBDIzM8sspWfbX7QvdZg0aRJu376NqVOn4tKlS9i9ezcWLlyIGTNmQEeH//kREREREZH6MdOgOsXJyQlnzpxB9+7dMXPmTLRu3Rq9evVCXFwcvvrqK3z33XcYPHhwudsOHjwY33zzDQoLCwE8u7e9SZMmZZbS++cr29f69evVMp7XXnsN+/btQ1JSEry8vDBhwgSMHTsW8+fPV0v7REREREREz1MIdT6VjIjULjc3FyqVCgt//g0GxiaY08aytrtERERERES1oDQ3yMnJgampaYX1eEafiIiIiIiISIsw0SeqwKZNm2BsbFzu0qpVq9ruHhERERERUbn4ej2iCvTv3x8+Pj7lrnv+lXpERERERER1BRN9ogqYmJjAxMSktrshmeFlUel9OERERERERAAv3SciIiIiIiLSKkz0iYiIiIiIiLQIE30iIiIiIiIiLcJEn4iIiIiIiEiLMNEnekV88eu92u4CERERERG9ApjoExEREREREWkRJvpEREREREREWoSJPhEREREREZEWYaJPREREREREpEWY6BP9f/Hx8VAoFMjOzq6wTnR0NMzMzKTvoaGheP311zXeNyIiIiIioqpiol+DgoODoVAoMGHChDLrJk+eDIVCIdWpbAkNDcWNGzdkZebm5vDz88OxY8fK3ff48eOhq6uLbdu2lVkXGhpabr9SU1OhUChw48YNqWznzp3o2LEjVCoVTExM0KpVK3z00UdVGn90dDQUCgVatGhRZt22bdugUCjg6OhYpbZKKRQK7Nq1q1rb/B1Dhw7FlStXamx/RERERERE1cVEv4bZ2dkhNjYWjx49ksoeP36M77//Hvb29gCAjIwMaVm5ciVMTU1lZSEhIdK2hw4dQkZGBn7++WfY2tqiX79+uHv3rmyfBQUFiI2Nxccff4zIyMhy+2VgYICIiAhcvXq1wr7HxcVh6NChGDx4MJKSkpCcnIylS5eisLCwyuM3MjJCVlYWEhMTZeURERHS+GtDVcdgaGiIxo0ba7g3REREREREL4+Jfg3z9vaGnZ0dduzYIZXt2LED9vb2aNOmDQDAxsZGWlQqFRQKhazM2NhY2tbCwgI2NjZo3bo1/vnPfyI3NxcnT56U7XPbtm1o2bIl5syZg59//hm3b98u0y93d3d0794d8+bNq7Dve/bsQefOnTFr1iy4u7vDzc0NgYGBWLt2bZXH36BBAwQFBcn+4HDnzh3Ex8cjKCioTP3169fD2dkZ+vr6cHd3x7fffiutKz37P3DgwDJXA1S2HfDsSoD169ejf//+MDIywtKlS6V1CQkJ8PT0hIGBATp27Ijz589L656/dP956enpcHJywpQpUyCEwJMnTxASEoLXXnsNRkZG8PHxQXx8fBWjRUREREREVH1M9GvBmDFjEBUVJX2PjIzE6NGj/1abjx49wjfffAMA0NfXl62LiIjA+++/D5VKhd69eyM6OrrcNsLCwrB9+3acPn263PU2Nja4cOGCLPF9GWPGjMHWrVtRUFAA4FnyHBAQAGtra1m9nTt3Yvr06Zg5cybOnz+P8ePHY/To0Thy5AgA4NSpUwCAqKgoZGRkSN9ftF2p0NBQDBw4EOfOncOYMWOk8lmzZiE8PBynTp2ClZUV3n777Sqd8T979izeeOMNBAUFYc2aNVAoFJgyZQoSExMRGxuLs2fP4t1330VAQEClV048efIEubm5soWIiIiIiKiqmOjXgvfffx/Hjx/HzZs3cfPmTSQkJOD9999/qbY6deoEY2NjGBkZYcWKFWjbti169Oghrb969SpOnDiBoUOHSvuOioqCEKJMW97e3hgyZAhmz55d7r6mTp2K9u3bw8PDA46Ojhg2bBgiIyPx5MmTavW5TZs2cHJywg8//AAhBKKjo2WJdqkVK1YgODgYkyZNgpubG2bMmIFBgwZhxYoVAAArKysAgJmZGWxsbKTvL9quVFBQEEaPHg0nJyfZbQMLFy5Er1694OHhgZiYGNy9exc7d+6sdEy//PILunXrhpCQEHz66acAgFu3biEqKgrbtm1Dly5d4OzsjJCQELzxxhuyP/Q8b9myZVCpVNJiZ2dXhagSERERERE9w0S/FlhZWaFv376Ijo5GVFQU+vbtC0tLy5dqa8uWLUhJScH27dvh4uKC6Oho6OnpSesjIyPh7+8vtd+nTx/k5OTg8OHD5bb36aef4tixYzhw4ECZdUZGRti7dy+uXbuG+fPnw9jYGDNnzkSHDh2ks/NVVXpVw9GjR/Hw4UP06dOnTJ20tDR07txZVta5c2ekpaVV2nZVt2vXrl252/v6+kqfzc3N4e7uXuk+b926hV69emHBggWYOXOmVH7u3DkUFxfDzc0NxsbG0nL06FGkp6dX2N7cuXORk5MjLeXdakFERERERFSRBrXdgfpqzJgxmDJlCgBU6x7359nZ2cHV1RWurq4oKirCwIEDcf78eSiVShQXFyMmJgaZmZlo0OB//6qLi4sRGRkpO/NfytnZGePGjcOcOXMQERFR7j6dnZ3h7OyMDz74APPmzYObmxu2bNlSrdsPhg8fjo8//hihoaEYMWKErH81xcjISC3tWFlZwdbWFps3b8aYMWNgamoKAMjPz4euri6Sk5Ohq6sr2+avz1l4nlKphFKpVEvfiIiIiIio/uEZ/VoSEBCAp0+forCwEP7+/mpp85133kGDBg2wbt06AMC+ffuQl5eHlJQUpKamSsvmzZuxY8eOCt8Xv2DBAly5cgWxsbEv3KejoyMaNmyIhw8fVquv5ubm6N+/P44ePVruZfsA0KJFCyQkJMjKEhIS0LJlS+m7np4eiouLq71dZU6cOCF9fvDgAa5cuVLuKwFLGRoa4scff4SBgQH8/f2Rl5cH4NktCsXFxcjKyoKLi4tssbGxqVJfiIiIiIiIqotn9GuJrq6udDn482d7X5ZCocC0adMQGhqK8ePHIyIiAn379oWXl5esXsuWLfGPf/wDmzZtwuTJk8u0Y21tjRkzZmD58uWy8tDQUBQUFKBPnz5wcHBAdnY2Vq1ahcLCQvTq1ava/Y2Ojsa6detgYWFR7vpZs2ZhyJAhaNOmDXr27Ik9e/Zgx44dOHTokFTH0dERcXFx6Ny5M5RKJRo1alSl7SqzePFiWFhYwNraGvPmzYOlpSUCAwMr3ab0tobevXujd+/e+Omnn+Dm5obhw4dj5MiRCA8PR5s2bfDHH38gLi4Onp6e6Nu3b5VjRUREREREVFU8o1+LTE1Npcu81WXUqFEoLCzE6tWrsXfvXgwePLhMHR0dHQwcOLDCS/MBICQkpMzl5X5+fvjtt98wcuRING/eHL1790ZmZiYOHDgAd3f3avfV0NCwwiQfAAIDA/HVV19hxYoVaNWqFTZs2ICoqCh069ZNqhMeHo6DBw/Czs5Oej1hVbarTFhYGKZPn462bdsiMzMTe/bsKfMmg/IYGxtj//79EEKgb9++ePjwIaKiojBy5EjMnDkT7u7uCAwMxKlTp2QP/yMiIiIiIlInhSjv8etEVGfk5uZCpVJh4c+/IbRLs9ruDhERERER1ZLS3CAnJ6fSk8Y8o09ERERERESkRZjok9q0atVK9hq5vy6bNm2q7e4RERERERHVC3wYH6nNvn37UFhYWO46a2vrGu4NERERERFR/cREn9TGwcGhtrug1WZ4VfzgQiIiIiIiolK8dJ+IiIiIiIhIizDRJyIiIiIiItIiTPSJiIiIiIiItAgTfSIiIiIiIiItwkSfiIiIiIiISIsw0SciIiIiIiLSIkz0iYiIiIiIiLQIE30iIiIiIiIiLcJEn4iIiIiIiEiLMNEnIiIiIiIi0iJM9ImIiIiIiIi0CBN9IiIiIiIiIi3CRJ+IiIiIiIhIizDRJyIiIiIiItIiTPSJiIiIiIiItAgTfSIiIiIiIiItwkSfiIiIiIiISIsw0SciIiIiIiLSIkz0iYiIiIiIiLRIg9ruABFVTggBAMjNza3lnhARERERUW0qzQlKc4SKMNEnquPu3bsHALCzs6vlnhARERERUV2Ql5cHlUpV4Xom+kR1nLm5OQDg1q1blf7HTOqTm5sLOzs73L59G6amprXdnXqDca95jHnNY8xrB+Ne8xjz2sG417yajrkQAnl5ebC1ta20HhN9ojpOR+fZozRUKhUP2DXM1NSUMa8FjHvNY8xrHmNeOxj3mseY1w7GvebVZMyrcvKPD+MjIiIiIiIi0iJM9ImIiIiIiIi0CBN9ojpOqVRi4cKFUCqVtd2VeoMxrx2Me81jzGseY147GPeax5jXDsa95tXVmCvEi57LT0RERERERESvDJ7RJyIiIiIiItIiTPSJiIiIiIiItAgTfSIiIiIiIiItwkSfiIiIiIiISIsw0SfSsLVr18LR0REGBgbw8fFBUlJSpfW3bduG5s2bw8DAAB4eHti3b59svRACCxYsQJMmTWBoaIiePXvi6tWrsjr379/H8OHDYWpqCjMzM4wdOxb5+flqH1tdpc6YFxYWYvbs2fDw8ICRkRFsbW0xcuRI/N///Z+sDUdHRygUCtkSFhamkfHVVeqe68HBwWViGhAQIKvDua7emD8f79Jl+fLlUh3O9erF/cKFCxg8eLAUt5UrV75Um48fP8bkyZNhYWEBY2NjDB48GHfv3lXnsOo0dcd82bJlaN++PUxMTNC4cWMEBgbi8uXLsjrdunUrM9cnTJig7qHVWeqOeWhoaJl4Nm/eXFanvs9zQP1xL++YrVAoMHnyZKkO53rVY75x40Z06dIFjRo1QqNGjdCzZ88y9evMb3VBRBoTGxsr9PX1RWRkpLhw4YIYN26cMDMzE3fv3i23fkJCgtDV1RWff/65uHjxopg/f77Q09MT586dk+qEhYUJlUoldu3aJX799VfRv39/0axZM/Ho0SOpTkBAgPDy8hInTpwQx44dEy4uLuK9997T+HjrAnXHPDs7W/Ts2VNs2bJFXLp0SSQmJooOHTqItm3bytpxcHAQixcvFhkZGdKSn5+v8fHWFZqY66NGjRIBAQGymN6/f1/WDue6emP+11hnZGSIyMhIoVAoRHp6ulSHc716cU9KShIhISFi8+bNwsbGRnz55Zcv1eaECROEnZ2diIuLE6dPnxYdO3YUnTp10tQw6xRNxNzf319ERUWJ8+fPi9TUVNGnTx9hb28vm8t+fn5i3Lhxsrmek5OjqWHWKZqI+cKFC0WrVq1k8fzjjz9kderzPBdCM3HPysqSxfzgwYMCgDhy5IhUh3O96jEPCgoSa9euFSkpKSItLU0EBwcLlUol7ty5I9WpK7/VmegTaVCHDh3E5MmTpe/FxcXC1tZWLFu2rNz6Q4YMEX379pWV+fj4iPHjxwshhCgpKRE2NjZi+fLl0vrs7GyhVCrF5s2bhRBCXLx4UQAQp06dkurs379fKBQK8fvvv6ttbHWVumNenqSkJAFA3Lx5UypzcHAo93+w9YUm4j5q1CgxYMCACvfJua75uT5gwADx5ptvyso416sX97+qKHYvajM7O1vo6emJbdu2SXXS0tIEAJGYmPg3RvNq0ETMn5eVlSUAiKNHj0plfn5+Yvr06S/T5VeeJmK+cOFC4eXlVeF29X2eC1Ezc3369OnC2dlZlJSUSGWc6y8XcyGEKCoqEiYmJiImJkYIUbd+q/PSfSINefr0KZKTk9GzZ0+pTEdHBz179kRiYmK52yQmJsrqA4C/v79U//r168jMzJTVUalU8PHxkeokJibCzMwM7dq1k+r07NkTOjo6OHnypNrGVxdpIublycnJgUKhgJmZmaw8LCwMFhYWaNOmDZYvX46ioqKXH8wrRJNxj4+PR+PGjeHu7o6JEyfi3r17sjY41zU31+/evYu9e/di7NixZdZxrlc97upoMzk5GYWFhbI6zZs3h729/Uvv91WhiZiXJycnBwBgbm4uK9+0aRMsLS3RunVrzJ07FwUFBWrbZ12lyZhfvXoVtra2cHJywvDhw3Hr1i1pXX2e50DNzPWnT5/iu+++w5gxY6BQKGTrONefqW7MCwoKUFhYKB076tJv9QZqa4mIZP78808UFxfD2tpaVm5tbY1Lly6Vu01mZma59TMzM6X1pWWV1WncuLFsfYMGDWBubi7V0VaaiPnzHj9+jNmzZ+O9996DqampVD5t2jR4e3vD3Nwcv/zyC+bOnYuMjAx88cUXf3NUdZ+m4h4QEIBBgwahWbNmSE9Pxz//+U/07t0biYmJ0NXV5VzX8FyPiYmBiYkJBg0aJCvnXK9e3NXRZmZmJvT19cv8cbGyf3/aQhMxf15JSQk++ugjdO7cGa1bt5bKg4KC4ODgAFtbW5w9exazZ8/G5cuXsWPHDrXst67SVMx9fHwQHR0Nd3d3ZGRkYNGiRejSpQvOnz8PExOTej3PgZqZ67t27UJ2djaCg4Nl5ZzrLx/z2bNnw9bWVkrs69JvdSb6RERVVFhYiCFDhkAIgfXr18vWzZgxQ/rs6ekJfX19jB8/HsuWLYNSqazprmqFYcOGSZ89PDzg6ekJZ2dnxMfHo0ePHrXYs/ohMjISw4cPh4GBgaycc520zeTJk3H+/HkcP35cVv7hhx9Knz08PNCkSRP06NED6enpcHZ2ruluvvJ69+4tffb09ISPjw8cHBywdevWcq8cIvWLiIhA7969YWtrKyvnXH85YWFhiI2NRXx8fJn/V9YFvHSfSEMsLS2hq6tb5mmxd+/ehY2NTbnb2NjYVFq/9J8vqpOVlSVbX1RUhPv371e4X22hiZiXKk3yb968iYMHD8rO5pfHx8cHRUVFuHHjRvUH8orRZNz/ysnJCZaWlrh27ZrUBue6ZmJ+7NgxXL58GR988MEL+8K5/uK5+3fbtLGxwdOnT5Gdna22/b4qNBHzv5oyZQp+/PFHHDlyBE2bNq20ro+PDwBIxyBtpemYlzIzM4Obm5vsmF5f5zmg+bjfvHkThw4dqvJxHeBcr8yKFSsQFhaGAwcOwNPTUyqvS7/VmegTaYi+vj7atm2LuLg4qaykpARxcXHw9fUtdxtfX19ZfQA4ePCgVL9Zs2awsbGR1cnNzcXJkyelOr6+vsjOzkZycrJU5/DhwygpKZEO3NpKEzEH/pfkX716FYcOHYKFhcUL+5KamgodHZ0yl2ZpI03F/Xl37tzBvXv30KRJE6kNznXNxDwiIgJt27aFl5fXC/vCuV553NXRZtu2baGnpyerc/nyZdy6deul9/uq0ETMgWevv5oyZQp27tyJw4cPo1mzZi/cJjU1FQCkY5C20lTMn5efn4/09HQpnvV5ngOaj3tUVBQaN26Mvn37vrAu53rlMf/888+xZMkS/PTTT7L77IE69ltdbY/1I6IyYmNjhVKpFNHR0eLixYviww8/FGZmZiIzM1MIIcSIESPEnDlzpPoJCQmiQYMGYsWKFSItLU0sXLiw3NfrmZmZid27d4uzZ8+KAQMGlPvKjjZt2oiTJ0+K48ePC1dX13r1yjF1xvzp06eif//+omnTpiI1NVX26pknT54IIYT45ZdfxJdffilSU1NFenq6+O6774SVlZUYOXJkzQeglqg77nl5eSIkJEQkJiaK69evi0OHDglvb2/h6uoqHj9+LLXDua7e44sQQuTk5IiGDRuK9evXl9kn53r14/7kyRORkpIiUlJSRJMmTURISIhISUkRV69erXKbQjx77Zi9vb04fPiwOH36tPD19RW+vr41N/BapImYT5w4UahUKhEfHy87rhcUFAghhLh27ZpYvHixOH36tLh+/brYvXu3cHJyEl27dq3ZwdcSTcR85syZIj4+Xly/fl0kJCSInj17CktLS5GVlSXVqc/zXAjNxF2IZ0+St7e3F7Nnzy6zT8716sU8LCxM6Ovrix9++EF27MjLy5PVqQu/1ZnoE2nY6tWrhb29vdDX1xcdOnQQJ06ckNb5+fmJUaNGyepv3bpVuLm5CX19fdGqVSuxd+9e2fqSkhLxySefCGtra6FUKkWPHj3E5cuXZXXu3bsn3nvvPWFsbCxMTU3F6NGjZQcgbafOmF+/fl0AKHcpfQdtcnKy8PHxESqVShgYGIgWLVqIzz77TJaQ1gfqjHtBQYF46623hJWVldDT0xMODg5i3LhxssRHCM51dR9fhBBiw4YNwtDQUGRnZ5dZx7n+THXiXtExxM/Pr8ptCiHEo0ePxKRJk0SjRo1Ew4YNxcCBA0VGRoYmh1mnqDvmFR3Xo6KihBBC3Lp1S3Tt2lWYm5sLpVIpXFxcxKxZs+rNu8WFUH/Mhw4dKpo0aSL09fXFa6+9JoYOHSquXbsm22d9n+dCaOb48t///lcAKPN7UQjOdSGqF3MHB4dyY75w4UKpTl35ra4QQgj1XR9ARERERERERLWJ9+gTERERERERaREm+kRERERERERahIk+ERERERERkRZhok9ERERERESkRZjoExEREREREWkRJvpEREREREREWoSJPhEREREREZEWYaJPREREREREpEWY6BMRERERERFpESb6REREVGcFBwdDoVCUWa5du6aW9qOjo2FmZqaWtl5WcHAwAgMDa7UPlblx4wYUCgVSU1NruytERFRFDWq7A0RERESVCQgIQFRUlKzMysqqlnpTscLCQujp6dV2N9Tq6dOntd0FIiJ6CTyjT0RERHWaUqmEjY2NbNHV1QUA7N69G97e3jAwMICTkxMWLVqEoqIiadsvvvgCHh4eMDIygp2dHSZNmoT8/HwAQHx8PEaPHo2cnBzpSoHQ0FAAgEKhwK5du2T9MDMzQ3R0NID/neXesmUL/Pz8YGBggE2bNgEAvv76a7Ro0QIGBgZo3rw51q1bV63xduvWDVOnTsVHH32ERo0awdraGhs3bsTDhw8xevRomJiYwMXFBfv375e2iY+Ph0KhwN69e+Hp6QkDAwN07NgR58+fl7W9fft2tGrVCkqlEo6OjggPD5etd3R0xJIlSzBy5EiYmpriww8/RLNmzQAAbdq0gUKhQLdu3QAAp06dQq9evWBpaQmVSgU/Pz+cOXNG1p5CocDXX3+NgQMHomHDhnB1dcV//vMfWZ0LFy6gX79+MDU1hYmJCbp06YL09HRp/d+NJxFRfcREn4iIiF5Jx44dw8iRIzF9+nRcvHgRGzZsQHR0NJYuXSrV0dHRwapVq3DhwgXExMTg8OHD+PjjjwEAnTp1wsqVK2FqaoqMjAxkZGQgJCSkWn2YM2cOpk+fjrS0NPj7+2PTpk1YsGABli5dirS0NHz22Wf45JNPEBMTU612Y2JiYGlpiaSkJEydOhUTJ07Eu+++i06dOuHMmTN46623MGLECBQUFMi2mzVrFsLDw3Hq1ClYWVnh7bffRmFhIQAgOTkZQ4YMwbBhw3Du3DmEhobik08+kf54UWrFihXw8vJCSkoKPvnkEyQlJQEADh06hIyMDOzYsQMAkJeXh1GjRuH48eM4ceIEXF1d0adPH+Tl5cnaW7RoEYYMGYKzZ8+iT58+GD58OO7fvw8A+P3339G1a1colUocPnwYycnJGDNmjPTHGnXFk4io3hFEREREddSoUaOErq6uMDIykpZ33nlHCCFEjx49xGeffSar/+2334omTZpU2N62bduEhYWF9D0qKkqoVKoy9QCInTt3yspUKpWIiooSQghx/fp1AUCsXLlSVsfZ2Vl8//33srIlS5YIX1/fSsc4YMAA6bufn5944403pO9FRUXCyMhIjBgxQirLyMgQAERiYqIQQogjR44IACI2Nlaqc+/ePWFoaCi2bNkihBAiKChI9OrVS7bvWbNmiZYtW0rfHRwcRGBgoKxO6VhTUlIqHIMQQhQXFwsTExOxZ88eqQyAmD9/vvQ9Pz9fABD79+8XQggxd+5c0axZM/H06dNy23yZeBIRkRC8R5+IiIjqtO7du2P9+vXSdyMjIwDAr7/+ioSEBNkZ/OLiYjx+/BgFBQVo2LAhDh06hGXLluHSpUvIzc1FUVGRbP3f1a5dO+nzw4cPkZ6ejrFjx2LcuHFSeVFREVQqVbXa9fT0lD7r6urCwsICHh4eUpm1tTUAICsrS7adr6+v9Nnc3Bzu7u5IS0sDAKSlpWHAgAGy+p07d8bKlStRXFws3Q7x1zFV5u7du5g/fz7i4+ORlZWF4uJiFBQU4NatWxWOxcjICKamplK/U1NT0aVLl3KfbaDOeBIR1TdM9ImIiKhOMzIygouLS5ny/Px8LFq0CIMGDSqzzsDAADdu3EC/fv0wceJELF26FObm5jh+/DjGjh2Lp0+fVproKxQKCCFkZaWXwD/ft7/2BwA2btwIHx8fWb3SJLqqnk98FQqFrEyhUAAASkpKqtVuVfx1TJUZNWoU7t27h6+++goODg5QKpXw9fUt8wC/8sZS2m9DQ8MK21dnPImI6hsm+kRERPRK8vb2xuXLl8v9IwDw7J70kpIShIeHQ0fn2WOJtm7dKqujr6+P4uLiMttaWVkhIyND+n716tUy98M/z9raGra2tvjtt98wfPjw6g5HLU6cOAF7e3sAwIMHD3DlyhW0aNECANCiRQskJCTI6ickJMDNza3SxFlfXx8AysQpISEB69atQ58+fQAAt2/fxp9//lmt/np6eiImJqbcNxbUhXgSEb2qmOgTERHRK2nBggXo168f7O3t8c4770BHRwe//vorzp8/j08//RQuLi4oLCzE6tWr8fbbbyMhIQH//ve/ZW04OjoiPz8fcXFx8PLyQsOGDdGwYUO8+eabWLNmDXx9fVFcXIzZs2dX6dV5ixYtwrRp06BSqRAQEIAnT57g9OnTePDgAWbMmKGpUEgWL14MCwsLWFtbY968ebC0tERgYCAAYObMmWjfvj2WLFmCoUOHIjExEWvWrHnhU+wbN24MQ0ND/PTTT2jatCkMDAygUqng6uqKb7/9Fu3atUNubi5mzZpV6Rn68kyZMgWrV6/GsGHDMHfuXKhUKpw4cQIdOnSAu7t7rceTiOhVxafuExER0SvJ398fP/74Iw4cOID27dujY8eO+PLLL+Hg4AAA8PLywhdffIF//etfaN26NTZt2oRly5bJ2ujUqRMmTJiAoUOHwsrKCp9//jkAIDw8HHZ2dujSpQuCgoIQEhJSpXv6P/jgA3z99deIioqCh4cH/Pz8EB0dLb2iTtPCwsIwffp0tG3bFpmZmdizZ490Rt7b2xtbt25FbGwsWrdujQULFmDx4sUIDg6utM0GDRpg1apV2LBhA2xtbaX7/CMiIvDgwQN4e3tjxIgRmDZtGho3blyt/lpYWODw4cPIz8+Hn58f2rZti40bN0p/VKnteBIRvaoU4vkb0IiIiIjolRIfH4/u3bvjwYMHMDMzq+3uEBFRLeMZfSIiIiIiIiItwkSfiIiIiIiISIvw0n0iIiIiIiIiLcIz+kRERERERERahIk+ERERERERkRZhok9ERERERESkRZjoExEREREREWkRJvpEREREREREWoSJPhEREREREZEWYaJPREREREREpEWY6BMRERERERFpkf8HcVypXg2Edm8AAAAASUVORK5CYII=\n"
          },
          "metadata": {}
        }
      ]
    },
    {
      "cell_type": "markdown",
      "source": [
        "**Hyperparameter Tuning**"
      ],
      "metadata": {
        "id": "nDdw-L40r3rb"
      }
    },
    {
      "cell_type": "code",
      "source": [
        "from sklearn.model_selection import GridSearchCV\n",
        "from sklearn.linear_model import LinearRegression, Lasso\n",
        "from sklearn.ensemble import RandomForestRegressor\n",
        "from sklearn.svm import SVR\n",
        "from sklearn.metrics import mean_squared_error, mean_absolute_error, r2_score\n",
        "\n",
        "# Initialize the models\n",
        "lr_model = LinearRegression()\n",
        "lasso_model = Lasso(random_state=42)\n",
        "rf_model = RandomForestRegressor(random_state=42)\n",
        "svr_model = SVR()\n",
        "\n",
        "# Define parameter grids for each model\n",
        "rf_param_grid = {\n",
        "    'n_estimators': [50, 100, 200],\n",
        "    'max_depth': [None, 10, 20],\n",
        "    'min_samples_split': [2, 5, 10],\n",
        "    'min_samples_leaf': [1, 2, 4]\n",
        "}\n",
        "\n",
        "svr_param_grid = {\n",
        "    'C': [0.1, 1, 10],\n",
        "    'epsilon': [0.01, 0.1, 0.2],\n",
        "    'kernel': ['linear', 'rbf']\n",
        "}\n",
        "\n",
        "lasso_param_grid = {\n",
        "    'alpha': [0.01, 0.1, 1, 10, 100]\n",
        "}\n",
        "\n",
        "# Apply GridSearchCV for Random Forest\n",
        "grid_search_rf = GridSearchCV(estimator=rf_model, param_grid=rf_param_grid, cv=5, n_jobs=-1, scoring='neg_mean_squared_error')\n",
        "grid_search_rf.fit(X_train, y_train)\n",
        "\n",
        "# Apply GridSearchCV for Support Vector Regression\n",
        "grid_search_svr = GridSearchCV(estimator=svr_model, param_grid=svr_param_grid, cv=5, n_jobs=-1, scoring='neg_mean_squared_error')\n",
        "grid_search_svr.fit(X_train, y_train)\n",
        "\n",
        "# Apply GridSearchCV for Lasso Regression\n",
        "grid_search_lasso = GridSearchCV(estimator=lasso_model, param_grid=lasso_param_grid, cv=5, n_jobs=-1, scoring='neg_mean_squared_error')\n",
        "grid_search_lasso.fit(X_train, y_train)\n",
        "\n",
        "# Best parameters and score for Random Forest\n",
        "print(\"Best parameters for Random Forest: \", grid_search_rf.best_params_)\n",
        "print(\"Best score for Random Forest: \", grid_search_rf.best_score_)\n",
        "\n",
        "# Best parameters and score for SVR\n",
        "print(\"Best parameters for SVR: \", grid_search_svr.best_params_)\n",
        "print(\"Best score for SVR: \", grid_search_svr.best_score_)\n",
        "\n",
        "# Best parameters and score for Lasso Regression\n",
        "print(\"Best parameters for Lasso Regression: \", grid_search_lasso.best_params_)\n",
        "print(\"Best score for Lasso Regression: \", grid_search_lasso.best_score_)\n",
        "\n",
        "# Since Linear Regression doesn't have hyperparameters to tune, just print the result\n",
        "print(\"Linear Regression does not require hyperparameter tuning, using default parameters.\")\n"
      ],
      "metadata": {
        "id": "OCT9Xuc30JmW",
        "colab": {
          "base_uri": "https://localhost:8080/"
        },
        "outputId": "db600dd6-5922-4405-c4b9-2111d2a9a50e"
      },
      "execution_count": null,
      "outputs": [
        {
          "metadata": {
            "tags": null
          },
          "name": "stdout",
          "output_type": "stream",
          "text": [
            "Best parameters for Random Forest:  {'max_depth': None, 'min_samples_leaf': 1, 'min_samples_split': 5, 'n_estimators': 200}\n",
            "Best score for Random Forest:  -14.982822434933547\n",
            "Best parameters for SVR:  {'C': 10, 'epsilon': 0.2, 'kernel': 'rbf'}\n",
            "Best score for SVR:  -30.27107269131381\n",
            "Best parameters for Lasso Regression:  {'alpha': 0.01}\n",
            "Best score for Lasso Regression:  -41.11947957162469\n",
            "Linear Regression does not require hyperparameter tuning, using default parameters.\n"
          ]
        }
      ]
    },
    {
      "cell_type": "markdown",
      "source": [
        "**Model Evaluation after Hyperparameter Tuning**"
      ],
      "metadata": {
        "id": "2pNi4dpfr-s7"
      }
    },
    {
      "cell_type": "code",
      "source": [
        "from sklearn.metrics import mean_squared_error, mean_absolute_error, r2_score\n",
        "import numpy as np\n",
        "\n",
        "# Best model after grid search\n",
        "best_rf_model = grid_search_rf.best_estimator_\n",
        "best_svr_model = grid_search_svr.best_estimator_\n",
        "\n",
        "# Evaluate Random Forest model\n",
        "y_pred_rf_train = best_rf_model.predict(X_train)\n",
        "y_pred_rf_test = best_rf_model.predict(X_test)\n",
        "\n",
        "# Evaluate SVR model\n",
        "y_pred_svr_train = best_svr_model.predict(X_train)\n",
        "y_pred_svr_test = best_svr_model.predict(X_test)\n",
        "\n",
        "# Calculate performance metrics for Random Forest before and after hyperparameter tuning\n",
        "rf_train_mse = mean_squared_error(y_train, y_pred_rf_train)\n",
        "rf_test_mse = mean_squared_error(y_test, y_pred_rf_test)\n",
        "rf_train_rmse = np.sqrt(rf_train_mse)  # RMSE is the square root of MSE\n",
        "rf_test_rmse = np.sqrt(rf_test_mse)\n",
        "\n",
        "print(\"Random Forest - Training MSE: \", rf_train_mse)\n",
        "print(\"Random Forest - Test MSE: \", rf_test_mse)\n",
        "print(\"Random Forest - Training RMSE: \", rf_train_rmse)\n",
        "print(\"Random Forest - Test RMSE: \", rf_test_rmse)\n",
        "print(\"Random Forest - Training MAE: \", mean_absolute_error(y_train, y_pred_rf_train))\n",
        "print(\"Random Forest - Test MAE: \", mean_absolute_error(y_test, y_pred_rf_test))\n",
        "print(\"Random Forest - Training R²: \", r2_score(y_train, y_pred_rf_train))\n",
        "print(\"Random Forest - Test R²: \", r2_score(y_test, y_pred_rf_test))\n",
        "\n",
        "# Calculate performance metrics for SVR before and after hyperparameter tuning\n",
        "svr_train_mse = mean_squared_error(y_train, y_pred_svr_train)\n",
        "svr_test_mse = mean_squared_error(y_test, y_pred_svr_test)\n",
        "svr_train_rmse = np.sqrt(svr_train_mse)  # RMSE is the square root of MSE\n",
        "svr_test_rmse = np.sqrt(svr_test_mse)\n",
        "\n",
        "print(\"SVR - Training MSE: \", svr_train_mse)\n",
        "print(\"SVR - Test MSE: \", svr_test_mse)\n",
        "print(\"SVR - Training RMSE: \", svr_train_rmse)\n",
        "print(\"SVR - Test RMSE: \", svr_test_rmse)\n",
        "print(\"SVR - Training MAE: \", mean_absolute_error(y_train, y_pred_svr_train))\n",
        "print(\"SVR - Test MAE: \", mean_absolute_error(y_test, y_pred_svr_test))\n",
        "print(\"SVR - Training R²: \", r2_score(y_train, y_pred_svr_train))\n",
        "print(\"SVR - Test R²: \", r2_score(y_test, y_pred_svr_test))\n"
      ],
      "metadata": {
        "colab": {
          "base_uri": "https://localhost:8080/"
        },
        "id": "LEgN0sna2j3q",
        "outputId": "6981400b-4901-426d-b1e2-047bd33f8ffc"
      },
      "execution_count": null,
      "outputs": [
        {
          "output_type": "stream",
          "name": "stdout",
          "text": [
            "Random Forest - Training MSE:  3.4533185499306587\n",
            "Random Forest - Test MSE:  16.253066351030867\n",
            "Random Forest - Training RMSE:  1.8583106709941313\n",
            "Random Forest - Test RMSE:  4.031509190245121\n",
            "Random Forest - Training MAE:  1.1940546035004735\n",
            "Random Forest - Test MAE:  2.824795807547793\n",
            "Random Forest - Training R²:  0.9457651271043591\n",
            "Random Forest - Test R²:  0.7539507701594202\n",
            "SVR - Training MSE:  27.654854863644243\n",
            "SVR - Test MSE:  31.66550709664309\n",
            "SVR - Training RMSE:  5.258788345583443\n",
            "SVR - Test RMSE:  5.627211307267845\n",
            "SVR - Training MAE:  3.7281412305697694\n",
            "SVR - Test MAE:  4.22488925308421\n",
            "SVR - Training R²:  0.5656764596746342\n",
            "SVR - Test R²:  0.5206274640510358\n"
          ]
        }
      ]
    },
    {
      "cell_type": "markdown",
      "source": [
        "**My next step would be to support my research problem,group Attributes and Train Separate Models,to directly compare the impact of eating habits versus physical condition on BMI**"
      ],
      "metadata": {
        "id": "QHf4YWNR2uhK"
      }
    },
    {
      "cell_type": "code",
      "source": [
        "print(df.columns)"
      ],
      "metadata": {
        "colab": {
          "base_uri": "https://localhost:8080/"
        },
        "id": "KSRWIv113Ha8",
        "outputId": "16897e94-0db3-4ae4-c431-9887a0dab81d"
      },
      "execution_count": null,
      "outputs": [
        {
          "output_type": "stream",
          "name": "stdout",
          "text": [
            "Index(['Gender', 'Age', 'Height', 'Weight', 'family_history_with_overweight',\n",
            "       'FAVC', 'FCVC', 'NCP', 'SMOKE', 'CH2O', 'SCC', 'FAF', 'TUE',\n",
            "       'NObeyesdad', 'BMI', 'CAEC_Frequently', 'CAEC_Sometimes', 'CAEC_no',\n",
            "       'CALC_Frequently', 'CALC_Sometimes', 'CALC_no', 'MTRANS_Bike',\n",
            "       'MTRANS_Motorbike', 'MTRANS_Public_Transportation', 'MTRANS_Walking'],\n",
            "      dtype='object')\n"
          ]
        }
      ]
    },
    {
      "cell_type": "code",
      "source": [
        "import pandas as pd\n",
        "from sklearn.model_selection import train_test_split\n",
        "from sklearn.linear_model import LinearRegression, Lasso\n",
        "from sklearn.tree import DecisionTreeRegressor\n",
        "from sklearn.svm import SVR\n",
        "from sklearn.ensemble import RandomForestRegressor\n",
        "from sklearn.metrics import mean_squared_error, mean_absolute_error, r2_score\n",
        "import numpy as np\n",
        "\n",
        "# Assuming 'df' is your dataset and 'BMI' column is already added as the target variable\n",
        "\n",
        "# Grouping the features based on Eating Habits and Physical Condition\n",
        "eating_habits = ['FAVC', 'FCVC', 'NCP', 'CAEC_Frequently', 'CAEC_Sometimes', 'CAEC_no', 'CH2O', 'CALC_Frequently', 'CALC_Sometimes', 'CALC_no']  # replace with actual column names\n",
        "physical_condition = ['SCC', 'FAF', 'TUE', 'MTRANS_Bike',\n",
        "       'MTRANS_Motorbike', 'MTRANS_Public_Transportation', 'MTRANS_Walking']  # replace with actual column names\n",
        "\n",
        "\n",
        "\n",
        "# Splitting data into features (X) and target (y)\n",
        "X_eating_habits = df[eating_habits]\n",
        "X_physical_condition = df[physical_condition]\n",
        "y = df['BMI']\n",
        "\n",
        "# Train-test split (80% train, 20% test)\n",
        "X_train_eating, X_test_eating, y_train, y_test = train_test_split(X_eating_habits, y, test_size=0.2, random_state=42)\n",
        "X_train_phys, X_test_phys = train_test_split(X_physical_condition, test_size=0.2, random_state=42)\n",
        "\n",
        "# Models to test\n",
        "models = {\n",
        "    \"Linear Regression\": LinearRegression(),\n",
        "    \"Lasso Regression\": Lasso(alpha=0.01),\n",
        "    \"Decision Tree\": DecisionTreeRegressor(),\n",
        "    \"SVR\": SVR(C=10, epsilon=0.2, kernel='rbf'),\n",
        "    \"Random Forest\": RandomForestRegressor(n_estimators=200, max_depth=None, min_samples_split=5)\n",
        "}\n",
        "\n",
        "# Function to evaluate models\n",
        "def evaluate_model(model, X_train, X_test, y_train, y_test):\n",
        "    model.fit(X_train, y_train)\n",
        "    y_train_pred = model.predict(X_train)\n",
        "    y_test_pred = model.predict(X_test)\n",
        "\n",
        "    # Training metrics\n",
        "    train_mse = mean_squared_error(y_train, y_train_pred)\n",
        "    train_rmse = np.sqrt(train_mse)\n",
        "    train_mae = mean_absolute_error(y_train, y_train_pred)\n",
        "    train_r2 = r2_score(y_train, y_train_pred)\n",
        "\n",
        "    # Test metrics\n",
        "    test_mse = mean_squared_error(y_test, y_test_pred)\n",
        "    test_rmse = np.sqrt(test_mse)\n",
        "    test_mae = mean_absolute_error(y_test, y_test_pred)\n",
        "    test_r2 = r2_score(y_test, y_test_pred)\n",
        "\n",
        "    return {\n",
        "        \"Train MSE\": train_mse, \"Test MSE\": test_mse,\n",
        "        \"Train RMSE\": train_rmse, \"Test RMSE\": test_rmse,\n",
        "        \"Train MAE\": train_mae, \"Test MAE\": test_mae,\n",
        "        \"Train R²\": train_r2, \"Test R²\": test_r2\n",
        "    }\n",
        "\n",
        "# Evaluate models on Eating Habits subset\n",
        "results_eating = {}\n",
        "for name, model in models.items():\n",
        "    results_eating[name] = evaluate_model(model, X_train_eating, X_test_eating, y_train, y_test)\n",
        "\n",
        "# Evaluate models on Physical Condition subset\n",
        "results_phys = {}\n",
        "for name, model in models.items():\n",
        "    results_phys[name] = evaluate_model(model, X_train_phys, X_test_phys, y_train, y_test)\n",
        "\n",
        "# Display results for both subsets\n",
        "print(\"Results for Eating Habits Model:\")\n",
        "for name, result in results_eating.items():\n",
        "    print(f\"{name}: {result}\")\n",
        "\n",
        "print(\"\\nResults for Physical Condition Model:\")\n",
        "for name, result in results_phys.items():\n",
        "    print(f\"{name}: {result}\")\n"
      ],
      "metadata": {
        "colab": {
          "base_uri": "https://localhost:8080/"
        },
        "id": "EJDicFcw7jTG",
        "outputId": "03420117-aa83-4e22-e355-2e532ce66f52"
      },
      "execution_count": null,
      "outputs": [
        {
          "output_type": "stream",
          "name": "stdout",
          "text": [
            "Results for Eating Habits Model:\n",
            "Linear Regression: {'Train MSE': 43.3727277270777, 'Test MSE': 46.42503070289939, 'Train RMSE': 6.5857974252992095, 'Test RMSE': 6.813591615506421, 'Train MAE': 5.358282260785492, 'Test MAE': 5.5542240014224, 'Train R²': 0.31882496751927714, 'Test R²': 0.29718843182787125}\n",
            "Lasso Regression: {'Train MSE': 43.39102390663798, 'Test MSE': 46.33044152592256, 'Train RMSE': 6.587186342182676, 'Test RMSE': 6.806646863612256, 'Train MAE': 5.363951513549049, 'Test MAE': 5.556792674386424, 'Train R²': 0.31853762334335456, 'Test R²': 0.29862038279907543}\n",
            "Decision Tree: {'Train MSE': 3.7653328225702962, 'Test MSE': 28.313499670440805, 'Train RMSE': 1.9404465523611558, 'Test RMSE': 5.321043099848074, 'Train MAE': 0.6970259900648355, 'Test MAE': 3.6417589042433995, 'Train R²': 0.940864897318556, 'Test R²': 0.5713722790800266}\n",
            "SVR: {'Train MSE': 34.15448242717709, 'Test MSE': 35.99592539999276, 'Train RMSE': 5.844183640781413, 'Test RMSE': 5.999660440391002, 'Train MAE': 4.17749636701466, 'Test MAE': 4.4810844381985895, 'Train R²': 0.46359885817902746, 'Test R²': 0.45507084443143064}\n",
            "Random Forest: {'Train MSE': 7.237941283911424, 'Test MSE': 19.429335492939366, 'Train RMSE': 2.6903422243111423, 'Test RMSE': 4.407871991442057, 'Train MAE': 1.7930712071640655, 'Test MAE': 3.233209476533577, 'Train R²': 0.886327073542946, 'Test R²': 0.7058663927715549}\n",
            "\n",
            "Results for Physical Condition Model:\n",
            "Linear Regression: {'Train MSE': 58.52726705744643, 'Test MSE': 60.040153395383896, 'Train RMSE': 7.650311566037454, 'Test RMSE': 7.748558149448444, 'Train MAE': 6.287559759126083, 'Test MAE': 6.455141726284549, 'Train R²': 0.08082071089167975, 'Test R²': 0.09107406667865514}\n",
            "Lasso Regression: {'Train MSE': 58.559254838066394, 'Test MSE': 59.80306531406354, 'Train RMSE': 7.652401899930923, 'Test RMSE': 7.733244164906701, 'Train MAE': 6.2912633747120505, 'Test MAE': 6.438895309269022, 'Train R²': 0.08031833811863442, 'Test R²': 0.09466325646926688}\n",
            "Decision Tree: {'Train MSE': 5.349206982182569, 'Test MSE': 66.94742315810898, 'Train RMSE': 2.31283526914101, 'Test RMSE': 8.182140499778097, 'Train MAE': 0.9191376636555427, 'Test MAE': 5.919154657502765, 'Train R²': 0.9159899219905526, 'Test R²': -0.01349256516259345}\n",
            "SVR: {'Train MSE': 49.240254053704, 'Test MSE': 52.184451915972495, 'Train RMSE': 7.017140019531034, 'Test RMSE': 7.223880668724567, 'Train MAE': 5.578964719400777, 'Test MAE': 5.896281764267479, 'Train R²': 0.2266746083979635, 'Test R²': 0.209998659559806}\n",
            "Random Forest: {'Train MSE': 13.669344368262001, 'Test MSE': 44.517099697627266, 'Train RMSE': 3.697207644731629, 'Test RMSE': 6.672113585486032, 'Train MAE': 2.790310382030026, 'Test MAE': 5.0998364241800225, 'Train R²': 0.7853209474711447, 'Test R²': 0.3260719018326802}\n"
          ]
        }
      ]
    },
    {
      "cell_type": "markdown",
      "source": [
        "**Hyperparameter Tuning**"
      ],
      "metadata": {
        "id": "rw8m9InLABuS"
      }
    },
    {
      "cell_type": "code",
      "source": [
        "from sklearn.model_selection import train_test_split\n",
        "\n",
        "# Assuming your features are in X and target variable is in y (BMI)\n",
        "X_eating_habits = df[eating_habits]  # Eating habits feature set\n",
        "X_physical_condition = df[physical_condition]  # Physical condition feature set\n",
        "y = df['BMI']  # BMI as the target variable\n",
        "\n",
        "# Split the data for both eating habits and physical condition models\n",
        "X_train_eating, X_test_eating, y_train_eating, y_test_eating = train_test_split(X_eating_habits, y, test_size=0.2, random_state=42)\n",
        "X_train_physical, X_test_physical, y_train_physical, y_test_physical = train_test_split(X_physical_condition, y, test_size=0.2, random_state=42)\n",
        "\n",
        "# Now you can use X_train, y_train, X_test, y_test for model evaluation and hyperparameter tuning\n"
      ],
      "metadata": {
        "id": "atVov_DL-b2s"
      },
      "execution_count": null,
      "outputs": []
    },
    {
      "cell_type": "code",
      "source": [
        "# Create a function to perform GridSearchCV and model evaluation for both feature sets\n",
        "def tune_and_evaluate_model(model_name, model, param_grid, X_train, y_train, X_test, y_test):\n",
        "    grid_search = GridSearchCV(estimator=model, param_grid=param_grid, cv=5, scoring='neg_mean_squared_error')\n",
        "    grid_search.fit(X_train, y_train)\n",
        "\n",
        "    best_model = grid_search.best_estimator_\n",
        "\n",
        "    y_pred = best_model.predict(X_test)\n",
        "\n",
        "    mse = mean_squared_error(y_test, y_pred)\n",
        "    rmse = mean_squared_error(y_test, y_pred, squared=False)\n",
        "    mae = mean_absolute_error(y_test, y_pred)\n",
        "    r2 = r2_score(y_test, y_pred)\n",
        "\n",
        "    return {\n",
        "        'Best Params': grid_search.best_params_,\n",
        "        'MSE': mse,\n",
        "        'RMSE': rmse,\n",
        "        'MAE': mae,\n",
        "        'R²': r2\n",
        "    }\n",
        "\n",
        "# Results dictionary\n",
        "results = {}\n",
        "\n",
        "# Tuning and evaluating for eating habits model\n",
        "for model_name, model in models.items():\n",
        "    param_grid = param_grids.get(model_name, {})\n",
        "    results[model_name] = tune_and_evaluate_model(model_name, model, param_grid, X_train_eating, y_train_eating, X_test_eating, y_test_eating)\n",
        "\n",
        "# Tuning and evaluating for physical condition model\n",
        "for model_name, model in models.items():\n",
        "    param_grid = param_grids.get(model_name, {})\n",
        "    results[model_name] = tune_and_evaluate_model(model_name, model, param_grid, X_train_physical, y_train_physical, X_test_physical, y_test_physical)\n",
        "\n",
        "# Displaying the results\n",
        "for model_name, result in results.items():\n",
        "    print(f\"Results for {model_name}:\")\n",
        "    for key, value in result.items():\n",
        "        print(f\"{key}: {value}\")\n",
        "    print(\"\\n\")\n"
      ],
      "metadata": {
        "colab": {
          "base_uri": "https://localhost:8080/"
        },
        "id": "6MJ9pEk8-kd_",
        "outputId": "9a744e25-98ca-4036-8252-9cca3f91d1f6"
      },
      "execution_count": 20,
      "outputs": [
        {
          "metadata": {
            "tags": null
          },
          "name": "stderr",
          "output_type": "stream",
          "text": [
            "/usr/local/lib/python3.10/dist-packages/sklearn/metrics/_regression.py:492: FutureWarning: 'squared' is deprecated in version 1.4 and will be removed in 1.6. To calculate the root mean squared error, use the function'root_mean_squared_error'.\n",
            "  warnings.warn(\n",
            "/usr/local/lib/python3.10/dist-packages/sklearn/metrics/_regression.py:492: FutureWarning: 'squared' is deprecated in version 1.4 and will be removed in 1.6. To calculate the root mean squared error, use the function'root_mean_squared_error'.\n",
            "  warnings.warn(\n",
            "/usr/local/lib/python3.10/dist-packages/sklearn/metrics/_regression.py:492: FutureWarning: 'squared' is deprecated in version 1.4 and will be removed in 1.6. To calculate the root mean squared error, use the function'root_mean_squared_error'.\n",
            "  warnings.warn(\n",
            "/usr/local/lib/python3.10/dist-packages/sklearn/metrics/_regression.py:492: FutureWarning: 'squared' is deprecated in version 1.4 and will be removed in 1.6. To calculate the root mean squared error, use the function'root_mean_squared_error'.\n",
            "  warnings.warn(\n",
            "/usr/local/lib/python3.10/dist-packages/sklearn/metrics/_regression.py:492: FutureWarning: 'squared' is deprecated in version 1.4 and will be removed in 1.6. To calculate the root mean squared error, use the function'root_mean_squared_error'.\n",
            "  warnings.warn(\n",
            "/usr/local/lib/python3.10/dist-packages/sklearn/metrics/_regression.py:492: FutureWarning: 'squared' is deprecated in version 1.4 and will be removed in 1.6. To calculate the root mean squared error, use the function'root_mean_squared_error'.\n",
            "  warnings.warn(\n",
            "/usr/local/lib/python3.10/dist-packages/sklearn/metrics/_regression.py:492: FutureWarning: 'squared' is deprecated in version 1.4 and will be removed in 1.6. To calculate the root mean squared error, use the function'root_mean_squared_error'.\n",
            "  warnings.warn(\n"
          ]
        },
        {
          "output_type": "stream",
          "name": "stdout",
          "text": [
            "Results for RandomForest:\n",
            "Best Params: {'max_depth': 10, 'min_samples_split': 10, 'n_estimators': 200}\n",
            "MSE: 41.273247871731385\n",
            "RMSE: 6.424425878763906\n",
            "MAE: 5.013414637021319\n",
            "R²: 0.3751793887671697\n",
            "\n",
            "\n",
            "Results for DecisionTree:\n",
            "Best Params: {'max_depth': 5, 'min_samples_leaf': 1, 'min_samples_split': 10}\n",
            "MSE: 43.71107709023214\n",
            "RMSE: 6.611435327539107\n",
            "MAE: 5.210003324996554\n",
            "R²: 0.3382739834276457\n",
            "\n",
            "\n",
            "Results for SVR:\n",
            "Best Params: {'C': 10, 'gamma': 'scale', 'kernel': 'rbf'}\n",
            "MSE: 52.00708451716384\n",
            "RMSE: 7.211593757080597\n",
            "MAE: 5.899625569807121\n",
            "R²: 0.2126837597700152\n",
            "\n",
            "\n",
            "Results for LinearRegression:\n",
            "Best Params: {}\n",
            "MSE: 60.040153395383896\n",
            "RMSE: 7.748558149448444\n",
            "MAE: 6.455141726284549\n",
            "R²: 0.09107406667865514\n",
            "\n",
            "\n",
            "Results for Lasso:\n",
            "Best Params: {'alpha': 0.1}\n",
            "MSE: 60.48767075368114\n",
            "RMSE: 7.777381998698607\n",
            "MAE: 6.4918386777670705\n",
            "R²: 0.08429926499070517\n",
            "\n",
            "\n"
          ]
        },
        {
          "output_type": "stream",
          "name": "stderr",
          "text": [
            "/usr/local/lib/python3.10/dist-packages/sklearn/metrics/_regression.py:492: FutureWarning: 'squared' is deprecated in version 1.4 and will be removed in 1.6. To calculate the root mean squared error, use the function'root_mean_squared_error'.\n",
            "  warnings.warn(\n",
            "/usr/local/lib/python3.10/dist-packages/sklearn/metrics/_regression.py:492: FutureWarning: 'squared' is deprecated in version 1.4 and will be removed in 1.6. To calculate the root mean squared error, use the function'root_mean_squared_error'.\n",
            "  warnings.warn(\n",
            "/usr/local/lib/python3.10/dist-packages/sklearn/metrics/_regression.py:492: FutureWarning: 'squared' is deprecated in version 1.4 and will be removed in 1.6. To calculate the root mean squared error, use the function'root_mean_squared_error'.\n",
            "  warnings.warn(\n"
          ]
        }
      ]
    }
  ]
}
